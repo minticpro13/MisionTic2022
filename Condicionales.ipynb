{
  "nbformat": 4,
  "nbformat_minor": 0,
  "metadata": {
    "colab": {
      "name": "Condicionales.ipynb",
      "provenance": [],
      "authorship_tag": "ABX9TyMxqpITmoVK0EDNtwCqMbAN",
      "include_colab_link": true
    },
    "kernelspec": {
      "name": "python3",
      "display_name": "Python 3"
    },
    "language_info": {
      "name": "python"
    }
  },
  "cells": [
    {
      "cell_type": "markdown",
      "metadata": {
        "id": "view-in-github",
        "colab_type": "text"
      },
      "source": [
        "<a href=\"https://colab.research.google.com/github/minticpro13/MisionTic2022/blob/main/Condicionales.ipynb\" target=\"_parent\"><img src=\"https://colab.research.google.com/assets/colab-badge.svg\" alt=\"Open In Colab\"/></a>"
      ]
    },
    {
      "cell_type": "code",
      "execution_count": 2,
      "metadata": {
        "colab": {
          "base_uri": "https://localhost:8080/"
        },
        "id": "WeBl43IXh437",
        "outputId": "18496f08-1e07-4afd-9aa7-26650e3127e1"
      },
      "outputs": [
        {
          "output_type": "stream",
          "name": "stdout",
          "text": [
            "15\n",
            "15\n",
            "15.0\n"
          ]
        }
      ],
      "source": [
        "def maximo( a : float, b : float):\n",
        "  if a > b:\n",
        "    return a\n",
        "  else:\n",
        "    return b\n",
        "\n",
        "a = float(input())\n",
        "b = float(input())\n",
        "print(maximo(a,b))"
      ]
    },
    {
      "cell_type": "code",
      "source": [
        "def maximo_op_ternario(a, b):\n",
        "  maximo = a if a > b else b\n",
        "  # return a if a > b else b\n",
        "  return maximo\n",
        "a = float(input())\n",
        "b = float(input())\n",
        "print(maximo_op_ternario(a,b))"
      ],
      "metadata": {
        "colab": {
          "base_uri": "https://localhost:8080/"
        },
        "id": "hnvaFR8GkFPx",
        "outputId": "8ef0d562-a645-4af3-c581-30cb0afda0cb"
      },
      "execution_count": 4,
      "outputs": [
        {
          "output_type": "stream",
          "name": "stdout",
          "text": [
            "15\n",
            "25\n",
            "25.0\n"
          ]
        }
      ]
    },
    {
      "cell_type": "code",
      "source": [
        "def imprimir_signo(x):\n",
        "  if x > 0:\n",
        "    print( \"+\", end=\"\" )\n",
        "  print(x)\n",
        "  return\n",
        "\n",
        "x = -12\n",
        "imprimir_signo(x)"
      ],
      "metadata": {
        "colab": {
          "base_uri": "https://localhost:8080/"
        },
        "id": "hDii79DKkXTM",
        "outputId": "085c3986-c26e-4b72-c66d-24c61a2acb6f"
      },
      "execution_count": 13,
      "outputs": [
        {
          "output_type": "stream",
          "name": "stdout",
          "text": [
            "-12\n"
          ]
        }
      ]
    },
    {
      "cell_type": "code",
      "source": [
        "def descuento(n):\n",
        "  if n > 0 and n <= 5:\n",
        "    print(\"no hay descuento\")\n",
        "  if n > 5 and n <= 10:\n",
        "    print(\"el descuento es 5%\")\n",
        "  if n > 10 and n <= 20:\n",
        "    print(\"el descuento es 10%\")\n",
        "  if n > 20:\n",
        "    print(\"el descuento es 20%\")\n",
        "  \n",
        "n = int(input(\"ingrese el número de productos comprados: \"))\n",
        "descuento(n)"
      ],
      "metadata": {
        "colab": {
          "base_uri": "https://localhost:8080/"
        },
        "id": "D_AQsPaqoicX",
        "outputId": "dab0cf77-060a-4985-bf54-fd1fb575377f"
      },
      "execution_count": 18,
      "outputs": [
        {
          "output_type": "stream",
          "name": "stdout",
          "text": [
            "ingrese el número de productos comprados: 10\n",
            "el descuento es 5%\n"
          ]
        }
      ]
    }
  ]
}