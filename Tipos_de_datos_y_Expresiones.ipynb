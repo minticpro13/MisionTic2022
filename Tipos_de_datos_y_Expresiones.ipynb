{
  "nbformat": 4,
  "nbformat_minor": 0,
  "metadata": {
    "colab": {
      "name": "Tipos de datos y Expresiones.ipynb",
      "provenance": [],
      "authorship_tag": "ABX9TyMtMSxPey56cc6zY9PRKTG9",
      "include_colab_link": true
    },
    "kernelspec": {
      "name": "python3",
      "display_name": "Python 3"
    },
    "language_info": {
      "name": "python"
    }
  },
  "cells": [
    {
      "cell_type": "markdown",
      "metadata": {
        "id": "view-in-github",
        "colab_type": "text"
      },
      "source": [
        "<a href=\"https://colab.research.google.com/github/minticpro13/MisionTic2022/blob/main/Tipos_de_datos_y_Expresiones.ipynb\" target=\"_parent\"><img src=\"https://colab.research.google.com/assets/colab-badge.svg\" alt=\"Open In Colab\"/></a>"
      ]
    },
    {
      "cell_type": "code",
      "execution_count": null,
      "metadata": {
        "colab": {
          "base_uri": "https://localhost:8080/"
        },
        "id": "-6cKymEJsirT",
        "outputId": "7c62b3fe-3dc5-4926-a6f2-564e00e5c2a7"
      },
      "outputs": [
        {
          "output_type": "stream",
          "name": "stdout",
          "text": [
            "0.1498454565426\n",
            "<class 'int'>\n",
            "\n"
          ]
        }
      ],
      "source": [
        "x : int = 8\n",
        "x = 8\n",
        "\n",
        "numero1 : float = 0.1498454565426\n",
        "numero2 : int = 23\n",
        "\n",
        "bandera = True\n",
        "casado = False\n",
        "\n",
        "nombre : str = \"manuel\"\n",
        "apellido = \"zambrano\"\n",
        "nombre_completo = nombre+\" \\\"\\n\"+apellido\n",
        "opcion = \"a\"\n",
        "opcion = ord(\"a\") + 10\n",
        "cadena = \"\"\n",
        "\n",
        "\n",
        "\n",
        "\n",
        "\n",
        "print(numero1)\n",
        "print(type(numero2))\n",
        "print(cadena)"
      ]
    },
    {
      "cell_type": "code",
      "source": [
        "import math\n",
        "x = 3\n",
        "y = 2\n",
        "z = x + y\n",
        "print(z)\n"
      ],
      "metadata": {
        "colab": {
          "base_uri": "https://localhost:8080/"
        },
        "id": "DixRyQhA2EzS",
        "outputId": "b04fab80-854b-4b0f-df5e-cd08309931b7"
      },
      "execution_count": null,
      "outputs": [
        {
          "output_type": "stream",
          "name": "stdout",
          "text": [
            "5\n"
          ]
        }
      ]
    },
    {
      "cell_type": "code",
      "source": [
        "# personas = 0\n",
        "personas += 1\n",
        "personas %= 5 # personas = personas // 2\n",
        "print(personas)"
      ],
      "metadata": {
        "colab": {
          "base_uri": "https://localhost:8080/"
        },
        "id": "fNFbHWVE5J71",
        "outputId": "52123858-200c-4178-ae96-a6c6fc617f4c"
      },
      "execution_count": null,
      "outputs": [
        {
          "output_type": "stream",
          "name": "stdout",
          "text": [
            "0.0\n"
          ]
        }
      ]
    },
    {
      "cell_type": "code",
      "source": [
        "G = 6.67384e-11\n",
        "m1= 5.972e24\n",
        "m2= 70\n",
        "r = 6378e3\n",
        "F = G*((m1*m2) / (r**2))\n",
        "\n",
        "print(F,\" N\")\n",
        "print(F/m2,\" N\")\n"
      ],
      "metadata": {
        "colab": {
          "base_uri": "https://localhost:8080/"
        },
        "id": "pW44kcqC7YoI",
        "outputId": "f955768a-9e72-4a8f-a10b-8465d483f753"
      },
      "execution_count": null,
      "outputs": [
        {
          "output_type": "stream",
          "name": "stdout",
          "text": [
            "685.842825383312  N\n",
            "9.797754648333028  N\n"
          ]
        }
      ]
    },
    {
      "cell_type": "code",
      "source": [
        "a = float(input(\"a:\"))\n",
        "b = float(input(\"b:\"))\n",
        "# print(-2 <= a and a < 3.5)\n",
        "# print(-1.25 < b and b <= 1.5) \n",
        "rectangulo =  not (-2 <= a and a < 3.5 and -1.25 < b and b <= 1.5) \n",
        "circulo = a**2 + b**2 <= 1\n",
        "print(\"fuera del rectangulo: \"+str(rectangulo))\n",
        "print(\"en el circulo:\", circulo)\n",
        "print(\"fuera del rectangulo o en el circulo:\", circulo or rectangulo)\n"
      ],
      "metadata": {
        "colab": {
          "base_uri": "https://localhost:8080/"
        },
        "id": "trsIq-WUw9N0",
        "outputId": "7de44abd-e0ba-4909-9bd5-fc9c0db3ad69"
      },
      "execution_count": 20,
      "outputs": [
        {
          "output_type": "stream",
          "name": "stdout",
          "text": [
            "a:5\n",
            "b:7\n",
            "fuera del rectangulo: True\n",
            "en el circulo: False\n",
            "fuera del rectangulo o en el circulo: True\n"
          ]
        }
      ]
    },
    {
      "cell_type": "code",
      "source": [
        "edad = int(input(\"edad:\"))\n",
        "sexo = input(\"sexo:(h/f)\")\n",
        "if (edad>18 and sexo==\"h\"):\n",
        "  print(\"buenas tardes señor\")\n",
        "print(\"Bienvenid@\")"
      ],
      "metadata": {
        "colab": {
          "base_uri": "https://localhost:8080/"
        },
        "id": "OZRuJwf29tFB",
        "outputId": "b0a7e446-6c18-4369-f66b-2df0609d753b"
      },
      "execution_count": 33,
      "outputs": [
        {
          "output_type": "stream",
          "name": "stdout",
          "text": [
            "edad:25\n",
            "sexo:(h/f)h\n",
            "buenas tardes señor\n",
            "Bienvenid@\n"
          ]
        }
      ]
    },
    {
      "cell_type": "code",
      "source": [
        "x = float(input(\"x:\"))\n",
        "if x >= 0:\n",
        "  print(x)\n",
        "else:\n",
        "  print(-x)"
      ],
      "metadata": {
        "colab": {
          "base_uri": "https://localhost:8080/"
        },
        "id": "IGMSWUYsE6aJ",
        "outputId": "33f62182-d062-4a63-b098-59b646bf4a2c"
      },
      "execution_count": 48,
      "outputs": [
        {
          "output_type": "stream",
          "name": "stdout",
          "text": [
            "x:5.32\n",
            "5.32\n"
          ]
        }
      ]
    }
  ]
}