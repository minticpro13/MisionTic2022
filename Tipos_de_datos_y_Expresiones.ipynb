{
  "nbformat": 4,
  "nbformat_minor": 0,
  "metadata": {
    "colab": {
      "name": "Tipos de datos y Expresiones.ipynb",
      "provenance": [],
      "collapsed_sections": [],
      "authorship_tag": "ABX9TyONcaE/6JUpE0+glA1Nx9v0",
      "include_colab_link": true
    },
    "kernelspec": {
      "name": "python3",
      "display_name": "Python 3"
    },
    "language_info": {
      "name": "python"
    }
  },
  "cells": [
    {
      "cell_type": "markdown",
      "metadata": {
        "id": "view-in-github",
        "colab_type": "text"
      },
      "source": [
        "<a href=\"https://colab.research.google.com/github/minticpro13/MisionTic2022/blob/main/Tipos_de_datos_y_Expresiones.ipynb\" target=\"_parent\"><img src=\"https://colab.research.google.com/assets/colab-badge.svg\" alt=\"Open In Colab\"/></a>"
      ]
    },
    {
      "cell_type": "code",
      "execution_count": null,
      "metadata": {
        "colab": {
          "base_uri": "https://localhost:8080/"
        },
        "id": "-6cKymEJsirT",
        "outputId": "7c62b3fe-3dc5-4926-a6f2-564e00e5c2a7"
      },
      "outputs": [
        {
          "output_type": "stream",
          "name": "stdout",
          "text": [
            "0.1498454565426\n",
            "<class 'int'>\n",
            "\n"
          ]
        }
      ],
      "source": [
        "x : int = 8\n",
        "x = 8\n",
        "\n",
        "numero1 : float = 0.1498454565426\n",
        "numero2 : int = 23\n",
        "\n",
        "bandera = True\n",
        "casado = False\n",
        "\n",
        "nombre : str = \"manuel\"\n",
        "apellido = \"zambrano\"\n",
        "nombre_completo = nombre+\" \\\"\\n\"+apellido\n",
        "opcion = \"a\"\n",
        "opcion = ord(\"a\") + 10\n",
        "cadena = \"\"\n",
        "\n",
        "\n",
        "print(numero1)\n",
        "print(type(numero2))\n",
        "print(cadena)"
      ]
    },
    {
      "cell_type": "code",
      "source": [
        "import math\n",
        "x = 3\n",
        "y = 2\n",
        "z = x + y\n",
        "print(z)\n"
      ],
      "metadata": {
        "colab": {
          "base_uri": "https://localhost:8080/"
        },
        "id": "DixRyQhA2EzS",
        "outputId": "b04fab80-854b-4b0f-df5e-cd08309931b7"
      },
      "execution_count": null,
      "outputs": [
        {
          "output_type": "stream",
          "name": "stdout",
          "text": [
            "5\n"
          ]
        }
      ]
    },
    {
      "cell_type": "code",
      "source": [
        "# personas = 0\n",
        "personas += 1\n",
        "personas %= 5 # personas = personas // 2\n",
        "print(personas)"
      ],
      "metadata": {
        "colab": {
          "base_uri": "https://localhost:8080/"
        },
        "id": "fNFbHWVE5J71",
        "outputId": "52123858-200c-4178-ae96-a6c6fc617f4c"
      },
      "execution_count": null,
      "outputs": [
        {
          "output_type": "stream",
          "name": "stdout",
          "text": [
            "0.0\n"
          ]
        }
      ]
    },
    {
      "cell_type": "code",
      "source": [
        "G = 6.67384e-11\n",
        "m1= 5.972e24\n",
        "m2= 70\n",
        "r = 6378e3\n",
        "F = G*((m1*m2) / (r**2))\n",
        "\n",
        "print(F,\" N\")\n",
        "print(F/m2,\" N\")\n"
      ],
      "metadata": {
        "colab": {
          "base_uri": "https://localhost:8080/"
        },
        "id": "pW44kcqC7YoI",
        "outputId": "f955768a-9e72-4a8f-a10b-8465d483f753"
      },
      "execution_count": null,
      "outputs": [
        {
          "output_type": "stream",
          "name": "stdout",
          "text": [
            "685.842825383312  N\n",
            "9.797754648333028  N\n"
          ]
        }
      ]
    },
    {
      "cell_type": "code",
      "source": [
        "a = float(input(\"a:\"))\n",
        "b = float(input(\"b:\"))\n",
        "# print(-2 <= a and a < 3.5)\n",
        "# print(-1.25 < b and b <= 1.5) \n",
        "rectangulo =  not (-2 <= a and a < 3.5 and -1.25 < b and b <= 1.5) \n",
        "circulo = a**2 + b**2 <= 1\n",
        "print(\"fuera del rectangulo: \"+str(rectangulo))\n",
        "print(\"en el circulo:\", circulo)\n",
        "print(\"fuera del rectangulo o en el circulo:\", circulo or rectangulo)\n"
      ],
      "metadata": {
        "colab": {
          "base_uri": "https://localhost:8080/"
        },
        "id": "trsIq-WUw9N0",
        "outputId": "7de44abd-e0ba-4909-9bd5-fc9c0db3ad69"
      },
      "execution_count": null,
      "outputs": [
        {
          "output_type": "stream",
          "name": "stdout",
          "text": [
            "a:5\n",
            "b:7\n",
            "fuera del rectangulo: True\n",
            "en el circulo: False\n",
            "fuera del rectangulo o en el circulo: True\n"
          ]
        }
      ]
    },
    {
      "cell_type": "code",
      "source": [
        "edad = int(input(\"edad:\"))\n",
        "sexo = input(\"sexo:(h/f)\")\n",
        "if (edad>18 and sexo==\"h\"):\n",
        "  print(\"buenas tardes señor\")\n",
        "print(\"Bienvenid@\")"
      ],
      "metadata": {
        "colab": {
          "base_uri": "https://localhost:8080/"
        },
        "id": "OZRuJwf29tFB",
        "outputId": "b0a7e446-6c18-4369-f66b-2df0609d753b"
      },
      "execution_count": null,
      "outputs": [
        {
          "output_type": "stream",
          "name": "stdout",
          "text": [
            "edad:25\n",
            "sexo:(h/f)h\n",
            "buenas tardes señor\n",
            "Bienvenid@\n"
          ]
        }
      ]
    },
    {
      "cell_type": "code",
      "source": [
        "x = float(input(\"x:\"))\n",
        "if x >= 0:\n",
        "  print(x)\n",
        "else:\n",
        "  print(-x)"
      ],
      "metadata": {
        "colab": {
          "base_uri": "https://localhost:8080/"
        },
        "id": "IGMSWUYsE6aJ",
        "outputId": "aec5e105-3a5b-4b08-d4f6-5630270f4928"
      },
      "execution_count": null,
      "outputs": [
        {
          "output_type": "stream",
          "name": "stdout",
          "text": [
            "x:8\n",
            "8.0\n"
          ]
        }
      ]
    },
    {
      "cell_type": "code",
      "source": [
        "def cuadrado():\n",
        "  numero = int(input(\"numero a elevar:\"))\n",
        "  resultado = numero ** 2\n",
        "  print(resultado)\n",
        "\n",
        "cuadrado()\n",
        "x = 8 "
      ],
      "metadata": {
        "colab": {
          "base_uri": "https://localhost:8080/"
        },
        "id": "iBLgA6w65kGk",
        "outputId": "749fe887-c321-4281-bbb2-55d6cfa13787"
      },
      "execution_count": null,
      "outputs": [
        {
          "output_type": "stream",
          "name": "stdout",
          "text": [
            "numero a elevar:5\n",
            "25\n"
          ]
        }
      ]
    },
    {
      "cell_type": "code",
      "source": [
        "def cuadrado(numero):\n",
        "  resultado = numero ** 2\n",
        "  return resultado\n",
        "print(cuadrado(4))"
      ],
      "metadata": {
        "colab": {
          "base_uri": "https://localhost:8080/"
        },
        "id": "Sm--H7B083u0",
        "outputId": "925d546c-2c52-4efa-fcc2-32f05b7b210a"
      },
      "execution_count": null,
      "outputs": [
        {
          "output_type": "stream",
          "name": "stdout",
          "text": [
            "16\n"
          ]
        }
      ]
    },
    {
      "cell_type": "code",
      "source": [
        "from math import pi, sqrt # pi = 3.14159265\n",
        "\n",
        "def area_circulo(r):\n",
        "  area = r * r * pi\n",
        "  return area\n",
        "\n",
        "print(sqrt(25))\n",
        "print( area_circulo(5) )"
      ],
      "metadata": {
        "colab": {
          "base_uri": "https://localhost:8080/"
        },
        "id": "o54ODJrr9fxP",
        "outputId": "6c8304e1-e5ca-4535-8926-2f8cfb83b2fe"
      },
      "execution_count": null,
      "outputs": [
        {
          "output_type": "stream",
          "name": "stdout",
          "text": [
            "5.0\n",
            "78.53981633974483\n"
          ]
        }
      ]
    },
    {
      "cell_type": "code",
      "source": [
        "x = 5.8 + 2\n",
        "print(x)\n",
        "print(int(x))"
      ],
      "metadata": {
        "colab": {
          "base_uri": "https://localhost:8080/"
        },
        "id": "SqwOooRuBOpV",
        "outputId": "344122cf-db60-4ea1-cc77-993db6ff2805"
      },
      "execution_count": null,
      "outputs": [
        {
          "output_type": "stream",
          "name": "stdout",
          "text": [
            "7.8\n",
            "7\n"
          ]
        }
      ]
    },
    {
      "cell_type": "code",
      "source": [
        "def area_rectangulo( ancho, largo = 4):\n",
        "  area = ancho * largo\n",
        "  return area\n",
        "\n",
        "def area_cuadrado( lado ):\n",
        "  area = lado * lado\n",
        "  return area\n",
        "\n",
        "ancho = float(input(\"digite el ancho:\"))\n",
        "largo = float(input(\"digite el largo:(por defecto 4)\"))\n",
        "print(\"el area del rectangulo es\", area_rectangulo(ancho, largo))\n",
        "\n",
        "# print(area_rectangulo(8,8))"
      ],
      "metadata": {
        "id": "rRMY8bMMCtPh"
      },
      "execution_count": null,
      "outputs": []
    },
    {
      "cell_type": "code",
      "source": [
        "KAPPA = 9e9\n",
        "def ley_coulomb(Q1, Q2, r):\n",
        "  resultado = KAPPA * Q1 * Q2 / r**2\n",
        "  return resultado\n",
        "\n",
        "print(ley_coulomb(4,2,4))"
      ],
      "metadata": {
        "colab": {
          "base_uri": "https://localhost:8080/"
        },
        "id": "4KGNM7fpJCc_",
        "outputId": "41add859-b470-4987-a308-a5809508bac8"
      },
      "execution_count": null,
      "outputs": [
        {
          "output_type": "stream",
          "name": "stdout",
          "text": [
            "4500000000.0\n"
          ]
        }
      ]
    },
    {
      "cell_type": "code",
      "source": [
        "x = int(input(\"x:\"))\n",
        "if x > 0:\n",
        "  print(x)\n",
        "elif x < -10:\n",
        "  print(x)"
      ],
      "metadata": {
        "colab": {
          "base_uri": "https://localhost:8080/"
        },
        "id": "mh8P5VETO0DS",
        "outputId": "c7aa414f-09d2-4178-f707-e8c3a4028143"
      },
      "execution_count": 48,
      "outputs": [
        {
          "output_type": "stream",
          "name": "stdout",
          "text": [
            "x:-100\n",
            "-100\n"
          ]
        }
      ]
    }
  ]
}