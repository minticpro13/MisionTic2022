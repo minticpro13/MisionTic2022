{
  "nbformat": 4,
  "nbformat_minor": 0,
  "metadata": {
    "colab": {
      "name": "Modulos y funciones.ipynb",
      "provenance": [],
      "authorship_tag": "ABX9TyNv2DPJSV1s1rMUtdolZlLT",
      "include_colab_link": true
    },
    "kernelspec": {
      "name": "python3",
      "display_name": "Python 3"
    },
    "language_info": {
      "name": "python"
    }
  },
  "cells": [
    {
      "cell_type": "markdown",
      "metadata": {
        "id": "view-in-github",
        "colab_type": "text"
      },
      "source": [
        "<a href=\"https://colab.research.google.com/github/minticpro13/MisionTic2022/blob/main/Modulos_y_funciones.ipynb\" target=\"_parent\"><img src=\"https://colab.research.google.com/assets/colab-badge.svg\" alt=\"Open In Colab\"/></a>"
      ]
    },
    {
      "cell_type": "code",
      "execution_count": 1,
      "metadata": {
        "colab": {
          "base_uri": "https://localhost:8080/"
        },
        "id": "sp2_5IwRM5uZ",
        "outputId": "5bb90341-f58f-4fba-d657-0440a7a4c03f"
      },
      "outputs": [
        {
          "output_type": "stream",
          "name": "stdout",
          "text": [
            "MANUEL\n",
            "Hola MANUEL\n"
          ]
        }
      ],
      "source": [
        "def saludar():\n",
        "  nombre = input()\n",
        "  print(\"Hola\", nombre)\n",
        "saludar()"
      ]
    },
    {
      "cell_type": "code",
      "source": [
        "def saludar(nombre):\n",
        "  print(\"Hola\", nombre)\n",
        "\n",
        "nombre = input()\n",
        "saludar(nombre)"
      ],
      "metadata": {
        "colab": {
          "base_uri": "https://localhost:8080/"
        },
        "id": "w3ctg1CpNYtg",
        "outputId": "6a072389-877d-48f5-dc4e-4dfa5579c11e"
      },
      "execution_count": 2,
      "outputs": [
        {
          "output_type": "stream",
          "name": "stdout",
          "text": [
            "manuel\n",
            "Hola manuel\n"
          ]
        }
      ]
    },
    {
      "cell_type": "code",
      "source": [
        "def saludar(nombre):\n",
        "  return \"Hola \" + nombre\n",
        "\n",
        "nombre = input()\n",
        "print(saludar(nombre))"
      ],
      "metadata": {
        "colab": {
          "base_uri": "https://localhost:8080/"
        },
        "id": "dYBsLWcxN7ch",
        "outputId": "899b0010-e132-4ccb-e7ec-4d1a61284707"
      },
      "execution_count": 3,
      "outputs": [
        {
          "output_type": "stream",
          "name": "stdout",
          "text": [
            "manuel\n",
            "Hola manuel\n"
          ]
        }
      ]
    },
    {
      "cell_type": "code",
      "source": [
        "def saludar(nombre=\"estudiante\"):\n",
        "  return \"Hola \" + nombre\n",
        "\n",
        "nombre = input()\n",
        "if nombre == \"\":\n",
        "  print(saludar())\n",
        "else:\n",
        "  print(saludar(nombre))"
      ],
      "metadata": {
        "colab": {
          "base_uri": "https://localhost:8080/"
        },
        "id": "OVNM1LJyOXqj",
        "outputId": "25ec04d7-6e5f-491f-e3af-362652c3a9ec"
      },
      "execution_count": 6,
      "outputs": [
        {
          "output_type": "stream",
          "name": "stdout",
          "text": [
            "manuel\n",
            "Hola manuel\n"
          ]
        }
      ]
    },
    {
      "cell_type": "code",
      "source": [
        "def log_entero(num, base=2):\n",
        "  cont = 0\n",
        "  while num >= base:\n",
        "    cont+=1\n",
        "    num /= base\n",
        "  return cont\n",
        "print(log_entero(1024))#log_entero(1024,2)\n",
        "print(log_entero(1000,10))\n",
        "print(log_entero(9,3))\n"
      ],
      "metadata": {
        "colab": {
          "base_uri": "https://localhost:8080/"
        },
        "id": "195U5SpqPX5V",
        "outputId": "fa452c4b-1e7d-4c7d-df4a-f720e83a604a"
      },
      "execution_count": 7,
      "outputs": [
        {
          "output_type": "stream",
          "name": "stdout",
          "text": [
            "10\n",
            "3\n",
            "2\n"
          ]
        }
      ]
    },
    {
      "cell_type": "code",
      "source": [
        "def arg_variables(arg1, *args):\n",
        "  print(arg1, end=\" \")\n",
        "  for arg in args:\n",
        "    print(arg, end=\" \")\n",
        "  print(\"\")\n",
        "arg_variables(\"hola\")\n",
        "arg_variables(\"hola\", \"estudiantes\")\n",
        "arg_variables(\"hola\", \"estudiantes\", \"mision\", \"tic\")"
      ],
      "metadata": {
        "colab": {
          "base_uri": "https://localhost:8080/"
        },
        "id": "-QpUI0CVQrOU",
        "outputId": "cecc1d8d-ab0c-4642-c97b-09b69dca2083"
      },
      "execution_count": 9,
      "outputs": [
        {
          "output_type": "stream",
          "name": "stdout",
          "text": [
            "hola \n",
            "hola estudiantes \n",
            "hola estudiantes mision tic \n"
          ]
        }
      ]
    },
    {
      "cell_type": "code",
      "source": [
        "def variable_argument(var1, *vari):\n",
        "  print(\"salida:\"+ str(var1))\n",
        "  for var in vari:\n",
        "    print(var)\n",
        "variable_argument(60)\n",
        "variable_argument(100, 90, 67, 23, 10)"
      ],
      "metadata": {
        "colab": {
          "base_uri": "https://localhost:8080/"
        },
        "id": "uwbHCoZ2Rti8",
        "outputId": "a3031453-b620-4e93-ef4c-99c26b9f6eb5"
      },
      "execution_count": 10,
      "outputs": [
        {
          "output_type": "stream",
          "name": "stdout",
          "text": [
            "salida:60\n",
            "salida:100\n",
            "90\n",
            "67\n",
            "23\n",
            "10\n"
          ]
        }
      ]
    },
    {
      "cell_type": "code",
      "source": [
        "from pprint import pprint\n",
        "def informar(**var):\n",
        "  pprint(var)\n",
        "  for key, value in var.items():\n",
        "    pprint(\"%s == %s\" %(key,value))\n",
        "    # print(key, \" == \", value)\n",
        "    # print( \"'\",key, \" == \", value,\"'\", sep=\"\")\n",
        "informar(nombre=\"Poseidón\",edad=6000,ciudad=\"Olimpo\")\n",
        "informar(nombre=\"manuel\")"
      ],
      "metadata": {
        "colab": {
          "base_uri": "https://localhost:8080/"
        },
        "id": "HLuAo5ukSEVt",
        "outputId": "c6f749f2-f083-4c96-917f-e5f46102d015"
      },
      "execution_count": 19,
      "outputs": [
        {
          "output_type": "stream",
          "name": "stdout",
          "text": [
            "{'ciudad': 'Olimpo', 'edad': 6000, 'nombre': 'Poseidón'}\n",
            "'nombre == Poseidón'\n",
            "'edad == 6000'\n",
            "'ciudad == Olimpo'\n",
            "{'nombre': 'manuel'}\n",
            "'nombre == manuel'\n"
          ]
        }
      ]
    },
    {
      "cell_type": "code",
      "source": [
        "def f(diccionario):\n",
        "  for k, v in diccionario.items():\n",
        "    print(k, v)\n",
        "\n",
        "def g(**diccionario):\n",
        "  for k, v in diccionario.items():\n",
        "    print(k, v)\n",
        "\n",
        "entrada= {\"nombre\": \"manuel\", \"edad\": \"28\"}\n",
        "f(entrada)\n",
        "g(nombre=\"manuel\",edad=\"28\")\n",
        "# f(nombre=\"manuel\",edad=\"28\") #error\n",
        "# g(entrada) #error"
      ],
      "metadata": {
        "colab": {
          "base_uri": "https://localhost:8080/"
        },
        "id": "RIJFzrn-XY6A",
        "outputId": "61ae15da-b074-4883-c4c7-46b4f3d6a821"
      },
      "execution_count": 23,
      "outputs": [
        {
          "output_type": "stream",
          "name": "stdout",
          "text": [
            "nombre manuel\n",
            "edad 28\n",
            "nombre manuel\n",
            "edad 28\n"
          ]
        }
      ]
    },
    {
      "cell_type": "markdown",
      "source": [
        "modulo.py\n",
        "\n",
        "```\n",
        "pi = 3.1416\n",
        "\n",
        "def saludar():\n",
        "  nombre = input()\n",
        "  print(\"Hola\", nombre)\n",
        "```\n",
        "\n"
      ],
      "metadata": {
        "id": "93JsATO5cBOw"
      }
    },
    {
      "cell_type": "code",
      "source": [
        "import modulo\n",
        "\n",
        "print(modulo.pi)\n",
        "modulo.saludar()"
      ],
      "metadata": {
        "colab": {
          "base_uri": "https://localhost:8080/"
        },
        "id": "MiWHqxOYbles",
        "outputId": "f26655a6-b37e-49c7-f82c-da317e903130"
      },
      "execution_count": 24,
      "outputs": [
        {
          "output_type": "stream",
          "name": "stdout",
          "text": [
            "3.1416\n",
            "manuel\n",
            "Hola manuel\n"
          ]
        }
      ]
    },
    {
      "cell_type": "markdown",
      "source": [
        "calculadora.py\n",
        "\n",
        "```\n",
        "def sumar(a,b):\n",
        "  return a + b\n",
        " \n",
        "def restar(a,b):\n",
        "  return a - b\n",
        "  # return suma(a,-b)\n",
        " \n",
        "def multiplicar(a,b):\n",
        "  return a * b\n",
        " \n",
        "def dividir(a,b):\n",
        "  return a / b\n",
        "```\n",
        "\n"
      ],
      "metadata": {
        "id": "pbOTTnuqisYT"
      }
    },
    {
      "cell_type": "code",
      "source": [
        "import calculadora as calc\n",
        "\n",
        "print(calc.sumar(3,5))\n",
        "print(calc.restar(3,5))\n",
        "print(calc.multiplicar(3,5))\n",
        "print(calc.dividir(15,5))"
      ],
      "metadata": {
        "colab": {
          "base_uri": "https://localhost:8080/"
        },
        "id": "_3TBZhN3cqbN",
        "outputId": "d2695497-9ec7-4a22-bdaf-79dce56c45e0"
      },
      "execution_count": 26,
      "outputs": [
        {
          "output_type": "stream",
          "name": "stdout",
          "text": [
            "8\n",
            "-2\n",
            "15\n",
            "3.0\n"
          ]
        }
      ]
    }
  ]
}