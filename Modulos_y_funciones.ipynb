{
  "nbformat": 4,
  "nbformat_minor": 0,
  "metadata": {
    "colab": {
      "name": "Modulos y funciones.ipynb",
      "provenance": [],
      "authorship_tag": "ABX9TyM4dLOBFeUTJOyk6Byby6nL",
      "include_colab_link": true
    },
    "kernelspec": {
      "name": "python3",
      "display_name": "Python 3"
    },
    "language_info": {
      "name": "python"
    }
  },
  "cells": [
    {
      "cell_type": "markdown",
      "metadata": {
        "id": "view-in-github",
        "colab_type": "text"
      },
      "source": [
        "<a href=\"https://colab.research.google.com/github/minticpro13/MisionTic2022/blob/main/Modulos_y_funciones.ipynb\" target=\"_parent\"><img src=\"https://colab.research.google.com/assets/colab-badge.svg\" alt=\"Open In Colab\"/></a>"
      ]
    },
    {
      "cell_type": "code",
      "execution_count": null,
      "metadata": {
        "colab": {
          "base_uri": "https://localhost:8080/"
        },
        "id": "sp2_5IwRM5uZ",
        "outputId": "5bb90341-f58f-4fba-d657-0440a7a4c03f"
      },
      "outputs": [
        {
          "output_type": "stream",
          "name": "stdout",
          "text": [
            "MANUEL\n",
            "Hola MANUEL\n"
          ]
        }
      ],
      "source": [
        "def saludar():\n",
        "  nombre = input()\n",
        "  print(\"Hola\", nombre)\n",
        "saludar()"
      ]
    },
    {
      "cell_type": "code",
      "source": [
        "def saludar(nombre):\n",
        "  print(\"Hola\", nombre)\n",
        "\n",
        "nombre = input()\n",
        "saludar(nombre)"
      ],
      "metadata": {
        "colab": {
          "base_uri": "https://localhost:8080/"
        },
        "id": "w3ctg1CpNYtg",
        "outputId": "6a072389-877d-48f5-dc4e-4dfa5579c11e"
      },
      "execution_count": null,
      "outputs": [
        {
          "output_type": "stream",
          "name": "stdout",
          "text": [
            "manuel\n",
            "Hola manuel\n"
          ]
        }
      ]
    },
    {
      "cell_type": "code",
      "source": [
        "def saludar(nombre):\n",
        "  return \"Hola \" + nombre\n",
        "\n",
        "nombre = input()\n",
        "print(saludar(nombre))"
      ],
      "metadata": {
        "colab": {
          "base_uri": "https://localhost:8080/"
        },
        "id": "dYBsLWcxN7ch",
        "outputId": "899b0010-e132-4ccb-e7ec-4d1a61284707"
      },
      "execution_count": null,
      "outputs": [
        {
          "output_type": "stream",
          "name": "stdout",
          "text": [
            "manuel\n",
            "Hola manuel\n"
          ]
        }
      ]
    },
    {
      "cell_type": "code",
      "source": [
        "def saludar(nombre=\"estudiante\"):\n",
        "  return \"Hola \" + nombre\n",
        "\n",
        "nombre = input()\n",
        "if nombre == \"\":\n",
        "  print(saludar())\n",
        "else:\n",
        "  print(saludar(nombre))"
      ],
      "metadata": {
        "colab": {
          "base_uri": "https://localhost:8080/"
        },
        "id": "OVNM1LJyOXqj",
        "outputId": "25ec04d7-6e5f-491f-e3af-362652c3a9ec"
      },
      "execution_count": null,
      "outputs": [
        {
          "output_type": "stream",
          "name": "stdout",
          "text": [
            "manuel\n",
            "Hola manuel\n"
          ]
        }
      ]
    },
    {
      "cell_type": "code",
      "source": [
        "def log_entero(num, base=2):\n",
        "  cont = 0\n",
        "  while num >= base:\n",
        "    cont+=1\n",
        "    num /= base\n",
        "  return cont\n",
        "print(log_entero(1024))#log_entero(1024,2)\n",
        "print(log_entero(1000,10))\n",
        "print(log_entero(9,3))\n"
      ],
      "metadata": {
        "colab": {
          "base_uri": "https://localhost:8080/"
        },
        "id": "195U5SpqPX5V",
        "outputId": "fa452c4b-1e7d-4c7d-df4a-f720e83a604a"
      },
      "execution_count": null,
      "outputs": [
        {
          "output_type": "stream",
          "name": "stdout",
          "text": [
            "10\n",
            "3\n",
            "2\n"
          ]
        }
      ]
    },
    {
      "cell_type": "code",
      "source": [
        "def arg_variables(arg1, *args):\n",
        "  print(arg1, end=\" \")\n",
        "  for arg in args:\n",
        "    print(arg, end=\" \")\n",
        "  print(\"\")\n",
        "arg_variables(\"hola\")\n",
        "arg_variables(\"hola\", \"estudiantes\")\n",
        "arg_variables(\"hola\", \"estudiantes\", \"mision\", \"tic\")"
      ],
      "metadata": {
        "colab": {
          "base_uri": "https://localhost:8080/"
        },
        "id": "-QpUI0CVQrOU",
        "outputId": "cecc1d8d-ab0c-4642-c97b-09b69dca2083"
      },
      "execution_count": null,
      "outputs": [
        {
          "output_type": "stream",
          "name": "stdout",
          "text": [
            "hola \n",
            "hola estudiantes \n",
            "hola estudiantes mision tic \n"
          ]
        }
      ]
    },
    {
      "cell_type": "code",
      "source": [
        "def variable_argument(var1, *vari):\n",
        "  print(\"salida:\"+ str(var1))\n",
        "  for var in vari:\n",
        "    print(var)\n",
        "variable_argument(60)\n",
        "variable_argument(100, 90, 67, 23, 10)"
      ],
      "metadata": {
        "colab": {
          "base_uri": "https://localhost:8080/"
        },
        "id": "uwbHCoZ2Rti8",
        "outputId": "a3031453-b620-4e93-ef4c-99c26b9f6eb5"
      },
      "execution_count": null,
      "outputs": [
        {
          "output_type": "stream",
          "name": "stdout",
          "text": [
            "salida:60\n",
            "salida:100\n",
            "90\n",
            "67\n",
            "23\n",
            "10\n"
          ]
        }
      ]
    },
    {
      "cell_type": "code",
      "source": [
        "from pprint import pprint\n",
        "def informar(**var):\n",
        "  pprint(var)\n",
        "  for key, value in var.items():\n",
        "    pprint(\"%s == %s\" %(key,value))\n",
        "    # print(key, \" == \", value)\n",
        "    # print( \"'\",key, \" == \", value,\"'\", sep=\"\")\n",
        "informar(nombre=\"Poseidón\",edad=6000,ciudad=\"Olimpo\")\n",
        "informar(nombre=\"manuel\")"
      ],
      "metadata": {
        "colab": {
          "base_uri": "https://localhost:8080/"
        },
        "id": "HLuAo5ukSEVt",
        "outputId": "c6f749f2-f083-4c96-917f-e5f46102d015"
      },
      "execution_count": null,
      "outputs": [
        {
          "output_type": "stream",
          "name": "stdout",
          "text": [
            "{'ciudad': 'Olimpo', 'edad': 6000, 'nombre': 'Poseidón'}\n",
            "'nombre == Poseidón'\n",
            "'edad == 6000'\n",
            "'ciudad == Olimpo'\n",
            "{'nombre': 'manuel'}\n",
            "'nombre == manuel'\n"
          ]
        }
      ]
    },
    {
      "cell_type": "code",
      "source": [
        "def f(diccionario):\n",
        "  for k, v in diccionario.items():\n",
        "    print(k, v)\n",
        "\n",
        "def g(**diccionario):\n",
        "  for k, v in diccionario.items():\n",
        "    print(k, v)\n",
        "\n",
        "entrada= {\"nombre\": \"manuel\", \"edad\": \"28\"}\n",
        "f(entrada)\n",
        "g(nombre=\"manuel\",edad=\"28\")\n",
        "# f(nombre=\"manuel\",edad=\"28\") #error\n",
        "# g(entrada) #error"
      ],
      "metadata": {
        "colab": {
          "base_uri": "https://localhost:8080/"
        },
        "id": "RIJFzrn-XY6A",
        "outputId": "61ae15da-b074-4883-c4c7-46b4f3d6a821"
      },
      "execution_count": null,
      "outputs": [
        {
          "output_type": "stream",
          "name": "stdout",
          "text": [
            "nombre manuel\n",
            "edad 28\n",
            "nombre manuel\n",
            "edad 28\n"
          ]
        }
      ]
    },
    {
      "cell_type": "markdown",
      "source": [
        "modulo.py\n",
        "\n",
        "```\n",
        "pi = 3.1416\n",
        "\n",
        "def saludar():\n",
        "  nombre = input()\n",
        "  print(\"Hola\", nombre)\n",
        "```\n",
        "\n"
      ],
      "metadata": {
        "id": "93JsATO5cBOw"
      }
    },
    {
      "cell_type": "code",
      "source": [
        "import modulo\n",
        "\n",
        "print(modulo.pi)\n",
        "modulo.saludar()"
      ],
      "metadata": {
        "colab": {
          "base_uri": "https://localhost:8080/"
        },
        "id": "MiWHqxOYbles",
        "outputId": "f26655a6-b37e-49c7-f82c-da317e903130"
      },
      "execution_count": null,
      "outputs": [
        {
          "output_type": "stream",
          "name": "stdout",
          "text": [
            "3.1416\n",
            "manuel\n",
            "Hola manuel\n"
          ]
        }
      ]
    },
    {
      "cell_type": "markdown",
      "source": [
        "calculadora.py\n",
        "\n",
        "```\n",
        "def sumar(a,b):\n",
        "  return a + b\n",
        " \n",
        "def restar(a,b):\n",
        "  return a - b\n",
        "  # return suma(a,-b)\n",
        " \n",
        "def multiplicar(a,b):\n",
        "  return a * b\n",
        " \n",
        "def dividir(a,b):\n",
        "  return a / b\n",
        "```\n",
        "\n"
      ],
      "metadata": {
        "id": "pbOTTnuqisYT"
      }
    },
    {
      "cell_type": "code",
      "source": [
        "import calculadora as calc\n",
        "\n",
        "print(calc.sumar(3,5))\n",
        "print(calc.restar(3,5))\n",
        "print(calc.multiplicar(3,5))\n",
        "print(calc.dividir(15,5))"
      ],
      "metadata": {
        "colab": {
          "base_uri": "https://localhost:8080/"
        },
        "id": "_3TBZhN3cqbN",
        "outputId": "18634b11-3be4-4956-e38c-dfefed45fdcd"
      },
      "execution_count": null,
      "outputs": [
        {
          "output_type": "stream",
          "name": "stdout",
          "text": [
            "8\n",
            "-2\n",
            "15\n",
            "3.0\n"
          ]
        }
      ]
    },
    {
      "cell_type": "code",
      "source": [
        "import calculadora \n",
        "\n",
        "print(dir(calculadora))\n"
      ],
      "metadata": {
        "colab": {
          "base_uri": "https://localhost:8080/"
        },
        "id": "E7abxR5h6BhA",
        "outputId": "20b2f95e-aa04-460f-d773-fb21eb9d9b75"
      },
      "execution_count": null,
      "outputs": [
        {
          "output_type": "stream",
          "name": "stdout",
          "text": [
            "['__builtins__', '__cached__', '__doc__', '__file__', '__loader__', '__name__', '__package__', '__spec__', 'dividir', 'multiplicar', 'restar', 'sumar']\n"
          ]
        }
      ]
    },
    {
      "cell_type": "code",
      "source": [
        "import sys\n",
        "for p in sys.path:\n",
        "  print(p)\n"
      ],
      "metadata": {
        "colab": {
          "base_uri": "https://localhost:8080/"
        },
        "id": "lwNCUULb6xP6",
        "outputId": "852b4af9-c564-4f3d-ea49-c53f306a0bce"
      },
      "execution_count": null,
      "outputs": [
        {
          "output_type": "stream",
          "name": "stdout",
          "text": [
            "\n",
            "/content\n",
            "/env/python\n",
            "/usr/lib/python37.zip\n",
            "/usr/lib/python3.7\n",
            "/usr/lib/python3.7/lib-dynload\n",
            "/usr/local/lib/python3.7/dist-packages\n",
            "/usr/lib/python3/dist-packages\n",
            "/usr/local/lib/python3.7/dist-packages/IPython/extensions\n",
            "/root/.ipython\n"
          ]
        }
      ]
    },
    {
      "cell_type": "code",
      "source": [
        "# from comprimir import aRar, aTar, aZip\n",
        "from comprimir import aRar as rar\n",
        "\n",
        "rar.crear_rar(\"clase\")\n",
        "# aTar.crear_tar(\"clase\")\n",
        "# aZip.crear_zip(\"clase\")"
      ],
      "metadata": {
        "colab": {
          "base_uri": "https://localhost:8080/"
        },
        "id": "m0jcU-sP8JeD",
        "outputId": "5acb2482-3cf5-4f87-f1b5-2e366c006ed8"
      },
      "execution_count": null,
      "outputs": [
        {
          "output_type": "stream",
          "name": "stdout",
          "text": [
            "creando...clase.rar\n"
          ]
        }
      ]
    }
  ]
}