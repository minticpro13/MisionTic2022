{
  "nbformat": 4,
  "nbformat_minor": 0,
  "metadata": {
    "colab": {
      "name": "Ciclos while, do - while.ipynb",
      "provenance": [],
      "authorship_tag": "ABX9TyOdF9ASgtybHcUvNNiorWZv",
      "include_colab_link": true
    },
    "kernelspec": {
      "name": "python3",
      "display_name": "Python 3"
    },
    "language_info": {
      "name": "python"
    }
  },
  "cells": [
    {
      "cell_type": "markdown",
      "metadata": {
        "id": "view-in-github",
        "colab_type": "text"
      },
      "source": [
        "<a href=\"https://colab.research.google.com/github/minticpro13/MisionTic2022/blob/main/Ciclos_while%2C_do_while.ipynb\" target=\"_parent\"><img src=\"https://colab.research.google.com/assets/colab-badge.svg\" alt=\"Open In Colab\"/></a>"
      ]
    },
    {
      "cell_type": "code",
      "execution_count": 30,
      "metadata": {
        "colab": {
          "base_uri": "https://localhost:8080/"
        },
        "id": "_jXI7QlIqUxq",
        "outputId": "e333ada4-0d93-4349-87da-066077ca7073"
      },
      "outputs": [
        {
          "output_type": "stream",
          "name": "stdout",
          "text": [
            "Hasta que número quiere imprimir?: 5\n",
            "0\n",
            "1\n",
            "2\n",
            "3\n",
            "4\n",
            "5\n"
          ]
        }
      ],
      "source": [
        "def imprimir(dato):\n",
        "  print(dato)\n",
        "n = int(input(\"Hasta que número quiere imprimir?: \"))\n",
        "numero_actual = 0\n",
        "while( numero_actual <= n):\n",
        "  imprimir(numero_actual)\n",
        "  numero_actual += 1 # num_actual = num_actual + 1"
      ]
    },
    {
      "cell_type": "code",
      "source": [
        "i = 8\n",
        "while( i <= 5 ):\n",
        "  print(i)\n",
        "  i = i + 1"
      ],
      "metadata": {
        "id": "sR7RfeIEwN4G"
      },
      "execution_count": 42,
      "outputs": []
    },
    {
      "cell_type": "code",
      "source": [
        "i = 2 # inicializa a i en 2\n",
        "j = 25 # inicializa a j en 25\n",
        "while i < j: # mientras i sea menor a j\n",
        "  print(i, j, sep = \", \") # imprime los valores de i y j\n",
        "  i *= 2 # i = i * 2; i se mult´ıplica por 2 en cada paso\n",
        "  j += 10 # j = j + 10; se incrementa de 10 en 10\n",
        "print(\"the end.\") # se ejecuta al terminar el ciclo\n",
        "print(i, j, sep = \", \")"
      ],
      "metadata": {
        "colab": {
          "base_uri": "https://localhost:8080/"
        },
        "id": "oaPfNZ-X3x6e",
        "outputId": "c08248a4-f29a-4d73-de29-424dc6cd0e03"
      },
      "execution_count": 43,
      "outputs": [
        {
          "output_type": "stream",
          "name": "stdout",
          "text": [
            "2, 25\n",
            "4, 35\n",
            "8, 45\n",
            "16, 55\n",
            "32, 65\n",
            "64, 75\n",
            "the end.\n",
            "128, 85\n"
          ]
        }
      ]
    },
    {
      "cell_type": "code",
      "source": [
        "i = 1\n",
        "trigo = 1\n",
        "while ( i <= 64 ):\n",
        "  print(i,\":\", trigo)\n",
        "  i += 1\n",
        "  trigo *= 2"
      ],
      "metadata": {
        "id": "4vrx_RZz5C5n"
      },
      "execution_count": null,
      "outputs": []
    },
    {
      "cell_type": "code",
      "source": [
        "i = 0\n",
        "while ( i < 64 ):\n",
        "  print(i+1,\":\", 2 ** i )\n",
        "  i += 1"
      ],
      "metadata": {
        "id": "j2zz6igB7gQ_"
      },
      "execution_count": null,
      "outputs": []
    },
    {
      "cell_type": "code",
      "source": [
        "def min_maquina():\n",
        "  Xo = 1.0\n",
        "  Xi = Xo / 2.0\n",
        "  while(Xi > 0.0):\n",
        "    Xo = Xi\n",
        "    Xi = Xo / 2.0 # Xi /= 2\n",
        "  print(Xo, Xi)\n",
        "  print(\"El minimo número de maquina es: \", Xo)\n",
        "\n",
        "min_maquina()\n",
        "# print(\"El minimo número de maquina es: \", min_maquina())\n",
        "\n"
      ],
      "metadata": {
        "colab": {
          "base_uri": "https://localhost:8080/"
        },
        "id": "ZJU1EGvQ84TL",
        "outputId": "a48219da-c6b1-4788-ec67-786c3f22f4f9"
      },
      "execution_count": 49,
      "outputs": [
        {
          "output_type": "stream",
          "name": "stdout",
          "text": [
            "5e-324 0.0\n",
            "El minimo número de maquina es:  5e-324\n"
          ]
        }
      ]
    }
  ]
}