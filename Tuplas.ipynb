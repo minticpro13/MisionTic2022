{
  "nbformat": 4,
  "nbformat_minor": 0,
  "metadata": {
    "colab": {
      "name": "Tuplas.ipynb",
      "provenance": [],
      "authorship_tag": "ABX9TyONbT5keTH8EFuSRg8BuFsF",
      "include_colab_link": true
    },
    "kernelspec": {
      "name": "python3",
      "display_name": "Python 3"
    },
    "language_info": {
      "name": "python"
    }
  },
  "cells": [
    {
      "cell_type": "markdown",
      "metadata": {
        "id": "view-in-github",
        "colab_type": "text"
      },
      "source": [
        "<a href=\"https://colab.research.google.com/github/minticpro13/MisionTic2022/blob/main/Tuplas.ipynb\" target=\"_parent\"><img src=\"https://colab.research.google.com/assets/colab-badge.svg\" alt=\"Open In Colab\"/></a>"
      ]
    },
    {
      "cell_type": "code",
      "execution_count": 2,
      "metadata": {
        "colab": {
          "base_uri": "https://localhost:8080/"
        },
        "id": "DQ_PB47vvhvK",
        "outputId": "05c7c5a6-d797-4083-8163-bd3a7cce23b1"
      },
      "outputs": [
        {
          "output_type": "stream",
          "name": "stdout",
          "text": [
            "(1, 2, 3)\n"
          ]
        }
      ],
      "source": [
        "tupla = 1,2,3\n",
        "\n",
        "print(tupla)"
      ]
    },
    {
      "cell_type": "code",
      "source": [
        "tupla1 = (1,\"2\",3,\"4\", True)\n",
        "tupla2 = (\"A\",\"B\",\"C\")\n",
        "tupla3 = (tupla1,tupla2)\n",
        "print(tupla1)\n",
        "print(tupla2)\n",
        "print(tupla3)\n",
        "print(tupla1[0])\n",
        "print(tupla2[2])\n",
        "print(tupla3[0][4])"
      ],
      "metadata": {
        "colab": {
          "base_uri": "https://localhost:8080/"
        },
        "id": "L2lRkgvBv6vc",
        "outputId": "0914dab4-20c5-4732-aa24-0160d093f175"
      },
      "execution_count": 8,
      "outputs": [
        {
          "output_type": "stream",
          "name": "stdout",
          "text": [
            "(1, '2', 3, '4', True)\n",
            "('A', 'B', 'C')\n",
            "((1, '2', 3, '4', True), ('A', 'B', 'C'))\n",
            "1\n",
            "C\n",
            "True\n"
          ]
        }
      ]
    },
    {
      "cell_type": "code",
      "source": [
        "tupla1 = (1,\"2\",3,\"4\", True)\n",
        "tupla2 = (\"A\",\"B\",\"C\")\n",
        "tupla_junta_no_revuelta = tupla1 + tupla2\n",
        "print(tupla_junta_no_revuelta)"
      ],
      "metadata": {
        "colab": {
          "base_uri": "https://localhost:8080/"
        },
        "id": "g1O-Hoeew-l3",
        "outputId": "2e18659a-334d-4def-f546-1b33bdc097ec"
      },
      "execution_count": 9,
      "outputs": [
        {
          "output_type": "stream",
          "name": "stdout",
          "text": [
            "(1, '2', 3, '4', True, 'A', 'B', 'C')\n"
          ]
        }
      ]
    },
    {
      "cell_type": "code",
      "source": [
        "tup2 = (1, 2, 3, 4, 5)\n",
        "tup3 = tup2 * 3\n",
        "print(tup3)\n",
        "tup4 = (\"Abc\", \"Bcd\")\n",
        "tup5 = tup4 * 2\n",
        "print(tup5)"
      ],
      "metadata": {
        "colab": {
          "base_uri": "https://localhost:8080/"
        },
        "id": "os5Cz9Cmv_aR",
        "outputId": "987192f1-026a-4e84-ce21-43177a70e5c2"
      },
      "execution_count": 10,
      "outputs": [
        {
          "output_type": "stream",
          "name": "stdout",
          "text": [
            "(1, 2, 3, 4, 5, 1, 2, 3, 4, 5, 1, 2, 3, 4, 5)\n",
            "('Abc', 'Bcd', 'Abc', 'Bcd')\n"
          ]
        }
      ]
    },
    {
      "cell_type": "code",
      "source": [
        "print((\"Rojas\", 123) < (\"Rosas\", 123))\n",
        "print((\"Rosas\", 123) == (\"rosas\", 123))\n",
        "print((\"Rosas\", 123) > (\"Rosas\", 23))\n",
        "print((\"Rojas\", \"123\") > (\"Rosas\", 23))\n",
        "print((\"Rosas\", \"123\") > (\"Rosas\", \"23\"))"
      ],
      "metadata": {
        "colab": {
          "base_uri": "https://localhost:8080/"
        },
        "id": "aPkoUkwSzSiL",
        "outputId": "5c536e91-da6f-4bb2-ac55-545bf3988913"
      },
      "execution_count": 13,
      "outputs": [
        {
          "output_type": "stream",
          "name": "stdout",
          "text": [
            "True\n",
            "False\n",
            "True\n",
            "False\n",
            "False\n"
          ]
        }
      ]
    },
    {
      "cell_type": "code",
      "source": [
        "avengers = (\"Ironman\", \"Thor\", \"Ant-man\", \"Hulk\")\n",
        "print(avengers[0])\n",
        "print(avengers[3])\n",
        "print(avengers[-1])\n",
        "print(avengers[-3])\n"
      ],
      "metadata": {
        "colab": {
          "base_uri": "https://localhost:8080/"
        },
        "id": "f_JnPMzl1QGi",
        "outputId": "359490ae-fb4c-498c-f227-432dfafec900"
      },
      "execution_count": 14,
      "outputs": [
        {
          "output_type": "stream",
          "name": "stdout",
          "text": [
            "Ironman\n",
            "Hulk\n",
            "Hulk\n",
            "Thor\n"
          ]
        }
      ]
    },
    {
      "cell_type": "code",
      "source": [
        "palabras = (\"cien\", \"años\", \"de\", \"soledad\")\n",
        "# palabras = (\"cien años\", \"de\", \"soledad\")\n",
        "if \"años\" in palabras:\n",
        "  print(\"Si está en la tupla\")\n",
        "else:\n",
        "  print(\"No está en la tupla\")"
      ],
      "metadata": {
        "colab": {
          "base_uri": "https://localhost:8080/"
        },
        "id": "wAWzP6dO1dBh",
        "outputId": "1cc5baae-814f-4675-a17e-d108719f2c0a"
      },
      "execution_count": 18,
      "outputs": [
        {
          "output_type": "stream",
          "name": "stdout",
          "text": [
            "Si está en la tupla\n"
          ]
        }
      ]
    },
    {
      "cell_type": "code",
      "source": [
        "palabras = (\"cien años\", \"de\", \"soledad\")\n",
        "if \"años\" in palabras[0]:\n",
        "# if \"años\" in \"cien años\":\n",
        "  print(\"si\")"
      ],
      "metadata": {
        "colab": {
          "base_uri": "https://localhost:8080/"
        },
        "id": "At50ZR7r2YhA",
        "outputId": "24e0df7f-2135-4231-d6c4-265910a60395"
      },
      "execution_count": 20,
      "outputs": [
        {
          "output_type": "stream",
          "name": "stdout",
          "text": [
            "si\n"
          ]
        }
      ]
    },
    {
      "cell_type": "code",
      "source": [
        "text = (\"cien\", \"años\", \"de\", \"soledad\")\n",
        "if \"compañia\" not in text:\n",
        "  print(\"No está en la tupla\")\n",
        "else:\n",
        "  print(\"Si está en la tupla\")\n"
      ],
      "metadata": {
        "colab": {
          "base_uri": "https://localhost:8080/"
        },
        "id": "2GMxbZxq3hEa",
        "outputId": "ea62e3ce-ced5-4b70-d848-2f65264c6e74"
      },
      "execution_count": 22,
      "outputs": [
        {
          "output_type": "stream",
          "name": "stdout",
          "text": [
            "No está en la tupla\n"
          ]
        }
      ]
    },
    {
      "cell_type": "code",
      "source": [
        "tupla = (\"cien\", \"años\", \"de\", \"soledad\")\n",
        "for x in tupla:\n",
        "  print(x)"
      ],
      "metadata": {
        "colab": {
          "base_uri": "https://localhost:8080/"
        },
        "id": "wavr4jDh3JjG",
        "outputId": "f559af19-e421-4bd5-e04d-8ea958435792"
      },
      "execution_count": 24,
      "outputs": [
        {
          "output_type": "stream",
          "name": "stdout",
          "text": [
            "cien\n",
            "años\n",
            "de\n",
            "soledad\n"
          ]
        }
      ]
    },
    {
      "cell_type": "code",
      "source": [
        "tupla1 = 1,2,3\n",
        "print(tupla1)\n",
        "primero, segundo, tercero = tupla1\n",
        "print(primero)\n",
        "print(segundo)\n",
        "print(tercero)"
      ],
      "metadata": {
        "colab": {
          "base_uri": "https://localhost:8080/"
        },
        "id": "epiWlA9N4c_y",
        "outputId": "9eabb1ec-1d5f-4579-c737-5ffe63888442"
      },
      "execution_count": 28,
      "outputs": [
        {
          "output_type": "stream",
          "name": "stdout",
          "text": [
            "(1, 2, 3)\n",
            "1\n",
            "2\n",
            "3\n"
          ]
        }
      ]
    },
    {
      "cell_type": "code",
      "source": [
        "def devolver_varios():\n",
        "  tupla1 = 8,45,9\n",
        "  print(len(tupla1))\n",
        "  return tupla1\n",
        "\n",
        "primero, segundo, tercero = devolver_varios() # tupla1\n",
        "\n",
        "print(primero)\n",
        "print(segundo)\n",
        "print(tercero)"
      ],
      "metadata": {
        "colab": {
          "base_uri": "https://localhost:8080/"
        },
        "id": "o-ANmETt5HnS",
        "outputId": "3deda6a9-6e27-40c9-9a11-e65abd7010a5"
      },
      "execution_count": 32,
      "outputs": [
        {
          "output_type": "stream",
          "name": "stdout",
          "text": [
            "3\n",
            "8\n",
            "45\n",
            "9\n"
          ]
        }
      ]
    },
    {
      "cell_type": "code",
      "source": [
        "primero, segundo, tercero = 1,2,3\n",
        "\n",
        "print(primero)\n",
        "print(segundo)\n",
        "print(tercero)"
      ],
      "metadata": {
        "colab": {
          "base_uri": "https://localhost:8080/"
        },
        "id": "o518yBMV5jvu",
        "outputId": "1a9ef14c-c7a4-4346-b5b5-b3b9a49a4580"
      },
      "execution_count": 33,
      "outputs": [
        {
          "output_type": "stream",
          "name": "stdout",
          "text": [
            "6\n",
            "2\n",
            "3\n"
          ]
        }
      ]
    },
    {
      "cell_type": "code",
      "source": [
        "tupla1 = 8,45,9\n",
        "print(tupla1[0]+tupla1[1]+tupla1[2])\n",
        "# tupla1[0] = tupla1[0]+5\n",
        "type(devolver_varios)"
      ],
      "metadata": {
        "colab": {
          "base_uri": "https://localhost:8080/"
        },
        "id": "0hrS_YSL6S9K",
        "outputId": "ac74f6da-ddb2-4773-fe44-d6d2153bb6b3"
      },
      "execution_count": 37,
      "outputs": [
        {
          "output_type": "stream",
          "name": "stdout",
          "text": [
            "62\n"
          ]
        },
        {
          "output_type": "execute_result",
          "data": {
            "text/plain": [
              "function"
            ]
          },
          "metadata": {},
          "execution_count": 37
        }
      ]
    }
  ]
}