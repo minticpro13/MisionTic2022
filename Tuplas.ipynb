{
  "nbformat": 4,
  "nbformat_minor": 0,
  "metadata": {
    "colab": {
      "name": "Tuplas.ipynb",
      "provenance": [],
      "authorship_tag": "ABX9TyMF5dcaenWfWQSISjTd8ams",
      "include_colab_link": true
    },
    "kernelspec": {
      "name": "python3",
      "display_name": "Python 3"
    },
    "language_info": {
      "name": "python"
    }
  },
  "cells": [
    {
      "cell_type": "markdown",
      "metadata": {
        "id": "view-in-github",
        "colab_type": "text"
      },
      "source": [
        "<a href=\"https://colab.research.google.com/github/minticpro13/MisionTic2022/blob/main/Tuplas.ipynb\" target=\"_parent\"><img src=\"https://colab.research.google.com/assets/colab-badge.svg\" alt=\"Open In Colab\"/></a>"
      ]
    },
    {
      "cell_type": "code",
      "execution_count": null,
      "metadata": {
        "colab": {
          "base_uri": "https://localhost:8080/"
        },
        "id": "DQ_PB47vvhvK",
        "outputId": "05c7c5a6-d797-4083-8163-bd3a7cce23b1"
      },
      "outputs": [
        {
          "output_type": "stream",
          "name": "stdout",
          "text": [
            "(1, 2, 3)\n"
          ]
        }
      ],
      "source": [
        "tupla = 1,2,3\n",
        "\n",
        "print(tupla)"
      ]
    },
    {
      "cell_type": "code",
      "source": [
        "tupla1 = (1,\"2\",3,\"4\", True)\n",
        "tupla2 = (\"A\",\"B\",\"C\")\n",
        "tupla3 = (tupla1,tupla2)\n",
        "print(tupla1)\n",
        "print(tupla2)\n",
        "print(tupla3)\n",
        "print(tupla1[0])\n",
        "print(tupla2[2])\n",
        "print(tupla3[0][4])"
      ],
      "metadata": {
        "colab": {
          "base_uri": "https://localhost:8080/"
        },
        "id": "L2lRkgvBv6vc",
        "outputId": "0914dab4-20c5-4732-aa24-0160d093f175"
      },
      "execution_count": null,
      "outputs": [
        {
          "output_type": "stream",
          "name": "stdout",
          "text": [
            "(1, '2', 3, '4', True)\n",
            "('A', 'B', 'C')\n",
            "((1, '2', 3, '4', True), ('A', 'B', 'C'))\n",
            "1\n",
            "C\n",
            "True\n"
          ]
        }
      ]
    },
    {
      "cell_type": "code",
      "source": [
        "tupla1 = (1,\"2\",3,\"4\", True)\n",
        "tupla2 = (\"A\",\"B\",\"C\")\n",
        "tupla_junta_no_revuelta = tupla1 + tupla2\n",
        "print(tupla_junta_no_revuelta)"
      ],
      "metadata": {
        "colab": {
          "base_uri": "https://localhost:8080/"
        },
        "id": "g1O-Hoeew-l3",
        "outputId": "2e18659a-334d-4def-f546-1b33bdc097ec"
      },
      "execution_count": null,
      "outputs": [
        {
          "output_type": "stream",
          "name": "stdout",
          "text": [
            "(1, '2', 3, '4', True, 'A', 'B', 'C')\n"
          ]
        }
      ]
    },
    {
      "cell_type": "code",
      "source": [
        "tup2 = (1, 2, 3, 4, 5)\n",
        "tup3 = tup2 * 3\n",
        "print(tup3)\n",
        "tup4 = (\"Abc\", \"Bcd\")\n",
        "tup5 = tup4 * 2\n",
        "print(tup5)"
      ],
      "metadata": {
        "colab": {
          "base_uri": "https://localhost:8080/"
        },
        "id": "os5Cz9Cmv_aR",
        "outputId": "987192f1-026a-4e84-ce21-43177a70e5c2"
      },
      "execution_count": null,
      "outputs": [
        {
          "output_type": "stream",
          "name": "stdout",
          "text": [
            "(1, 2, 3, 4, 5, 1, 2, 3, 4, 5, 1, 2, 3, 4, 5)\n",
            "('Abc', 'Bcd', 'Abc', 'Bcd')\n"
          ]
        }
      ]
    },
    {
      "cell_type": "code",
      "source": [
        "print((\"Rojas\", 123) < (\"Rosas\", 123))\n",
        "print((\"Rosas\", 123) == (\"rosas\", 123))\n",
        "print((\"Rosas\", 123) > (\"Rosas\", 23))\n",
        "print((\"Rojas\", \"123\") > (\"Rosas\", 23))\n",
        "print((\"Rosas\", \"123\") > (\"Rosas\", \"23\"))"
      ],
      "metadata": {
        "colab": {
          "base_uri": "https://localhost:8080/"
        },
        "id": "aPkoUkwSzSiL",
        "outputId": "5c536e91-da6f-4bb2-ac55-545bf3988913"
      },
      "execution_count": null,
      "outputs": [
        {
          "output_type": "stream",
          "name": "stdout",
          "text": [
            "True\n",
            "False\n",
            "True\n",
            "False\n",
            "False\n"
          ]
        }
      ]
    },
    {
      "cell_type": "code",
      "source": [
        "avengers = (\"Ironman\", \"Thor\", \"Ant-man\", \"Hulk\")\n",
        "print(avengers[0])\n",
        "print(avengers[3])\n",
        "print(avengers[-1])\n",
        "print(avengers[-3])\n"
      ],
      "metadata": {
        "colab": {
          "base_uri": "https://localhost:8080/"
        },
        "id": "f_JnPMzl1QGi",
        "outputId": "359490ae-fb4c-498c-f227-432dfafec900"
      },
      "execution_count": null,
      "outputs": [
        {
          "output_type": "stream",
          "name": "stdout",
          "text": [
            "Ironman\n",
            "Hulk\n",
            "Hulk\n",
            "Thor\n"
          ]
        }
      ]
    },
    {
      "cell_type": "code",
      "source": [
        "palabras = (\"cien\", \"años\", \"de\", \"soledad\")\n",
        "# palabras = (\"cien años\", \"de\", \"soledad\")\n",
        "if \"años\" in palabras:\n",
        "  print(\"Si está en la tupla\")\n",
        "else:\n",
        "  print(\"No está en la tupla\")"
      ],
      "metadata": {
        "colab": {
          "base_uri": "https://localhost:8080/"
        },
        "id": "wAWzP6dO1dBh",
        "outputId": "1cc5baae-814f-4675-a17e-d108719f2c0a"
      },
      "execution_count": null,
      "outputs": [
        {
          "output_type": "stream",
          "name": "stdout",
          "text": [
            "Si está en la tupla\n"
          ]
        }
      ]
    },
    {
      "cell_type": "code",
      "source": [
        "palabras = (\"cien años\", \"de\", \"soledad\")\n",
        "if \"años\" in palabras[0]:\n",
        "# if \"años\" in \"cien años\":\n",
        "  print(\"si\")"
      ],
      "metadata": {
        "colab": {
          "base_uri": "https://localhost:8080/"
        },
        "id": "At50ZR7r2YhA",
        "outputId": "24e0df7f-2135-4231-d6c4-265910a60395"
      },
      "execution_count": null,
      "outputs": [
        {
          "output_type": "stream",
          "name": "stdout",
          "text": [
            "si\n"
          ]
        }
      ]
    },
    {
      "cell_type": "code",
      "source": [
        "text = (\"cien\", \"años\", \"de\", \"soledad\")\n",
        "if \"compañia\" not in text:\n",
        "  print(\"No está en la tupla\")\n",
        "else:\n",
        "  print(\"Si está en la tupla\")\n"
      ],
      "metadata": {
        "colab": {
          "base_uri": "https://localhost:8080/"
        },
        "id": "2GMxbZxq3hEa",
        "outputId": "ea62e3ce-ced5-4b70-d848-2f65264c6e74"
      },
      "execution_count": null,
      "outputs": [
        {
          "output_type": "stream",
          "name": "stdout",
          "text": [
            "No está en la tupla\n"
          ]
        }
      ]
    },
    {
      "cell_type": "code",
      "source": [
        "tupla = (\"cien\", \"años\", \"de\", \"soledad\")\n",
        "for x in tupla:\n",
        "  print(x)"
      ],
      "metadata": {
        "colab": {
          "base_uri": "https://localhost:8080/"
        },
        "id": "wavr4jDh3JjG",
        "outputId": "f559af19-e421-4bd5-e04d-8ea958435792"
      },
      "execution_count": null,
      "outputs": [
        {
          "output_type": "stream",
          "name": "stdout",
          "text": [
            "cien\n",
            "años\n",
            "de\n",
            "soledad\n"
          ]
        }
      ]
    },
    {
      "cell_type": "code",
      "source": [
        "tupla1 = 1,2,3\n",
        "print(tupla1)\n",
        "primero, segundo, tercero = tupla1\n",
        "print(primero)\n",
        "print(segundo)\n",
        "print(tercero)"
      ],
      "metadata": {
        "colab": {
          "base_uri": "https://localhost:8080/"
        },
        "id": "epiWlA9N4c_y",
        "outputId": "9eabb1ec-1d5f-4579-c737-5ffe63888442"
      },
      "execution_count": null,
      "outputs": [
        {
          "output_type": "stream",
          "name": "stdout",
          "text": [
            "(1, 2, 3)\n",
            "1\n",
            "2\n",
            "3\n"
          ]
        }
      ]
    },
    {
      "cell_type": "code",
      "source": [
        "def devolver_varios():\n",
        "  tupla1 = 8,45,9\n",
        "  print(len(tupla1))\n",
        "  return tupla1\n",
        "\n",
        "primero, segundo, tercero = devolver_varios() # tupla1\n",
        "\n",
        "print(primero)\n",
        "print(segundo)\n",
        "print(tercero)"
      ],
      "metadata": {
        "colab": {
          "base_uri": "https://localhost:8080/"
        },
        "id": "o-ANmETt5HnS",
        "outputId": "3deda6a9-6e27-40c9-9a11-e65abd7010a5"
      },
      "execution_count": null,
      "outputs": [
        {
          "output_type": "stream",
          "name": "stdout",
          "text": [
            "3\n",
            "8\n",
            "45\n",
            "9\n"
          ]
        }
      ]
    },
    {
      "cell_type": "code",
      "source": [
        "primero, segundo, tercero = 1,2,3\n",
        "\n",
        "print(primero)\n",
        "print(segundo)\n",
        "print(tercero)"
      ],
      "metadata": {
        "colab": {
          "base_uri": "https://localhost:8080/"
        },
        "id": "o518yBMV5jvu",
        "outputId": "1a9ef14c-c7a4-4346-b5b5-b3b9a49a4580"
      },
      "execution_count": null,
      "outputs": [
        {
          "output_type": "stream",
          "name": "stdout",
          "text": [
            "6\n",
            "2\n",
            "3\n"
          ]
        }
      ]
    },
    {
      "cell_type": "code",
      "source": [
        "tupla1 = 8,45,9\n",
        "print(tupla1[0]+tupla1[1]+tupla1[2])\n",
        "# tupla1[0] = tupla1[0]+5\n",
        "type(devolver_varios)"
      ],
      "metadata": {
        "colab": {
          "base_uri": "https://localhost:8080/"
        },
        "id": "0hrS_YSL6S9K",
        "outputId": "ac74f6da-ddb2-4773-fe44-d6d2153bb6b3"
      },
      "execution_count": null,
      "outputs": [
        {
          "output_type": "stream",
          "name": "stdout",
          "text": [
            "62\n"
          ]
        },
        {
          "output_type": "execute_result",
          "data": {
            "text/plain": [
              "function"
            ]
          },
          "metadata": {},
          "execution_count": 37
        }
      ]
    },
    {
      "cell_type": "code",
      "source": [
        "tupla = (11, 9, -2, 3, 8, 5)\n",
        "var1, var2, var3 = (tupla[i] for i in (0, 2, 4)) #(9,3,5)\n",
        "# var1, var2, var3 = (9,3,5)\n",
        "nueva_tupla = (tupla[i] for i in (1, 3, 5))\n",
        "# print(nueva_tupla)\n",
        "# for elemento in nueva_tupla:\n",
        "#   print(elemento)\n",
        "print(var1)\n",
        "print(var2)\n",
        "print(var3)"
      ],
      "metadata": {
        "colab": {
          "base_uri": "https://localhost:8080/"
        },
        "id": "GLCvH7Lmqv67",
        "outputId": "7a23723a-510b-4ee7-eaa8-ba77a2eaca23"
      },
      "execution_count": 15,
      "outputs": [
        {
          "output_type": "stream",
          "name": "stdout",
          "text": [
            "11\n",
            "-2\n",
            "8\n"
          ]
        }
      ]
    },
    {
      "cell_type": "code",
      "source": [
        "tupla = (11, 9, -2, 14, 8, 25)\n",
        "for i in range(1):\n",
        "   print(tupla[i])"
      ],
      "metadata": {
        "colab": {
          "base_uri": "https://localhost:8080/"
        },
        "id": "Ri7FAZZrs6BA",
        "outputId": "9359de32-5b64-4659-893c-0ea121c4f42d"
      },
      "execution_count": 23,
      "outputs": [
        {
          "output_type": "stream",
          "name": "stdout",
          "text": [
            "11\n"
          ]
        }
      ]
    },
    {
      "cell_type": "code",
      "source": [
        "def minmax(a,b):\n",
        "  if a < b:\n",
        "    return a, b\n",
        "  else:\n",
        "    return b, a\n",
        "\n",
        "minimo, maximo = minmax( 5, 8)\n",
        "\n",
        "print(\"minimo:\", minimo, \"maximo:\", maximo )"
      ],
      "metadata": {
        "colab": {
          "base_uri": "https://localhost:8080/"
        },
        "id": "LYx55jnPvd97",
        "outputId": "28a4e0bb-cb28-4e26-e14d-e3ea72a78b0e"
      },
      "execution_count": 28,
      "outputs": [
        {
          "output_type": "stream",
          "name": "stdout",
          "text": [
            "minimo: 5 maximo: 8\n"
          ]
        }
      ]
    },
    {
      "cell_type": "code",
      "source": [
        "tup = (1, 2, 3, 4)\n",
        "nombre = (\"Minch\", \"Yoda\")\n",
        "trabajo = (\"Stars\", \"War\", \"Movie\")\n",
        "empty = ()\n",
        "print(len(tup))\n",
        "print(len(nombre))\n",
        "print(len(trabajo))\n",
        "print(len(empty))\n"
      ],
      "metadata": {
        "colab": {
          "base_uri": "https://localhost:8080/"
        },
        "id": "AtLG3wc6wjpo",
        "outputId": "5d233391-80e6-4fff-9941-d928a17d7435"
      },
      "execution_count": 29,
      "outputs": [
        {
          "output_type": "stream",
          "name": "stdout",
          "text": [
            "4\n",
            "2\n",
            "3\n",
            "0\n"
          ]
        }
      ]
    },
    {
      "cell_type": "code",
      "source": [
        "trabajo = (\"Stars\", \"War\", \"Movie\")\n",
        "print(trabajo[0:2])\n",
        "print(len(trabajo))"
      ],
      "metadata": {
        "colab": {
          "base_uri": "https://localhost:8080/"
        },
        "id": "KMReE6bxwxx_",
        "outputId": "975f8f69-8dbb-4fdc-c1e8-0b9171dbc26e"
      },
      "execution_count": 37,
      "outputs": [
        {
          "output_type": "stream",
          "name": "stdout",
          "text": [
            "('Stars', 'War')\n",
            "3\n"
          ]
        }
      ]
    },
    {
      "cell_type": "code",
      "source": [
        "for i in range(0,3):\n",
        "  print(trabajo[i]+\"s\", end=\" \")"
      ],
      "metadata": {
        "colab": {
          "base_uri": "https://localhost:8080/"
        },
        "id": "9anYm1jmw4bl",
        "outputId": "78f324d7-f14c-4dd4-ac2e-930340b21e96"
      },
      "execution_count": 38,
      "outputs": [
        {
          "output_type": "stream",
          "name": "stdout",
          "text": [
            "Starss Wars Movies "
          ]
        }
      ]
    },
    {
      "cell_type": "code",
      "source": [
        "tupla = (4, 3, 8, 8, 2, 5, 4, 6, 8, 9)\n",
        "print(tupla.count(8))\n",
        "print(tupla.count(4))\n",
        "print(tupla.count(1))\n"
      ],
      "metadata": {
        "colab": {
          "base_uri": "https://localhost:8080/"
        },
        "id": "JV_WrbiY13K1",
        "outputId": "854bd29a-01e0-4cc8-929c-3e892cb52473"
      },
      "execution_count": 41,
      "outputs": [
        {
          "output_type": "stream",
          "name": "stdout",
          "text": [
            "3\n",
            "2\n",
            "0\n"
          ]
        }
      ]
    },
    {
      "cell_type": "code",
      "source": [
        "tupla = (4, 3, 8, 8, 2, 5, 4, 6, 8, 9)\n",
        "pos = tupla.index(2)\n",
        "print(tupla[pos:len(tupla)])\n",
        "print(tupla[pos:pos+3])\n",
        "print(tupla.index(8))\n",
        "print(tupla.index(5))\n"
      ],
      "metadata": {
        "colab": {
          "base_uri": "https://localhost:8080/"
        },
        "id": "i5qdqFC_2gYx",
        "outputId": "f88b47f5-fe54-4e91-e838-46d905379ea6"
      },
      "execution_count": 45,
      "outputs": [
        {
          "output_type": "stream",
          "name": "stdout",
          "text": [
            "(2, 5, 4, 6, 8, 9)\n",
            "(2, 5, 4)\n",
            "2\n",
            "5\n"
          ]
        }
      ]
    },
    {
      "cell_type": "code",
      "source": [
        "del max\n",
        "del min"
      ],
      "metadata": {
        "id": "Zutbgji64tXX"
      },
      "execution_count": null,
      "outputs": []
    },
    {
      "cell_type": "code",
      "source": [
        "tupla = (4, 3, 8, 8, 2, 5, 4, 6, 8, 9)\n",
        "tupla = (\"4\", \"3\", \"8\", \"8\", \"2\", \"CINCO\", \"hola\", \"6\")\n",
        "print(tupla)\n",
        "print(max(tupla))\n",
        "print(min(tupla))\n"
      ],
      "metadata": {
        "colab": {
          "base_uri": "https://localhost:8080/"
        },
        "id": "p31NWJCv3Gim",
        "outputId": "ea70c726-5aa3-44d8-d198-1075a673ce54"
      },
      "execution_count": 59,
      "outputs": [
        {
          "output_type": "stream",
          "name": "stdout",
          "text": [
            "('4', '3', '8', '8', '2', 'CINCO', 'hola', '6')\n",
            "hola\n",
            "2\n"
          ]
        }
      ]
    }
  ]
}