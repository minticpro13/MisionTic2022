{
  "nbformat": 4,
  "nbformat_minor": 0,
  "metadata": {
    "colab": {
      "name": "Arreglos y matrices.ipynb",
      "provenance": [],
      "authorship_tag": "ABX9TyM+tr2iIyftcwB3My9Gdrb/",
      "include_colab_link": true
    },
    "kernelspec": {
      "name": "python3",
      "display_name": "Python 3"
    },
    "language_info": {
      "name": "python"
    }
  },
  "cells": [
    {
      "cell_type": "markdown",
      "metadata": {
        "id": "view-in-github",
        "colab_type": "text"
      },
      "source": [
        "<a href=\"https://colab.research.google.com/github/minticpro13/MisionTic2022/blob/main/Arreglos_y_matrices.ipynb\" target=\"_parent\"><img src=\"https://colab.research.google.com/assets/colab-badge.svg\" alt=\"Open In Colab\"/></a>"
      ]
    },
    {
      "cell_type": "code",
      "execution_count": 4,
      "metadata": {
        "colab": {
          "base_uri": "https://localhost:8080/"
        },
        "id": "Zk5mSErW8OGe",
        "outputId": "e344156c-f6f2-47b1-9231-56c43d8e435f"
      },
      "outputs": [
        {
          "output_type": "stream",
          "name": "stdout",
          "text": [
            "Arreglo:2 41 58 58 65 8 2 3 4 6 4\n",
            "[2.0, 41.0, 58.0, 58.0, 65.0, 8.0, 2.0, 3.0, 4.0, 6.0, 4.0]\n"
          ]
        }
      ],
      "source": [
        "def lee_arreglo_enteros():\n",
        "  return [float(x) for x in input(\"Arreglo:\").split()]\n",
        "print(lee_arreglo_enteros())"
      ]
    },
    {
      "cell_type": "code",
      "source": [
        "entrada = input(\"Arreglo:\").split(\" \")\n",
        "salida = []\n",
        "for x in entrada:\n",
        "  salida.append(int(x))\n",
        "print(salida)"
      ],
      "metadata": {
        "colab": {
          "base_uri": "https://localhost:8080/"
        },
        "id": "QAcuCjceAuVo",
        "outputId": "bea49194-706e-4bb9-a18b-4944baf2ee2b"
      },
      "execution_count": 3,
      "outputs": [
        {
          "output_type": "stream",
          "name": "stdout",
          "text": [
            "Arreglo:2 41 58 58 65 8 2 3 4 6 4\n",
            "[2, 41, 58, 58, 65, 8, 2, 3, 4, 6, 4]\n"
          ]
        }
      ]
    },
    {
      "cell_type": "code",
      "source": [
        "precios = [2, 41, 58, 58, 65, 8, 2, 3, 4, 6, 4]\n",
        "total = 0\n",
        "for x in precios:\n",
        "  total += x\n",
        "print(total)"
      ],
      "metadata": {
        "colab": {
          "base_uri": "https://localhost:8080/"
        },
        "id": "ZRyHDIm-CA9F",
        "outputId": "1c8eab77-8cb5-457a-ce19-acc5edac97c3"
      },
      "execution_count": 5,
      "outputs": [
        {
          "output_type": "stream",
          "name": "stdout",
          "text": [
            "251\n"
          ]
        }
      ]
    },
    {
      "cell_type": "code",
      "source": [
        "precios = [2, 41, 58, 58, 65, 8, 2, 3, 4, 6, 4]\n",
        "precios[3] = 23\n",
        "cantidad =  len(precios)\n",
        "total = 0\n",
        "for i in range(cantidad):\n",
        "  total += precios[i]\n",
        "\n",
        "print(total)"
      ],
      "metadata": {
        "colab": {
          "base_uri": "https://localhost:8080/"
        },
        "id": "KtekGr_aCW3H",
        "outputId": "50482328-220c-4ea2-e4a3-5daf2a12b7da"
      },
      "execution_count": 10,
      "outputs": [
        {
          "output_type": "stream",
          "name": "stdout",
          "text": [
            "216\n"
          ]
        }
      ]
    },
    {
      "cell_type": "code",
      "source": [
        "precios = [2, 41, 58, 58, 65, 8, 2, 3, 4, 6, 4]\n",
        "\n",
        "def pos_maximo(A):\n",
        "  maximo = 0\n",
        "  for i in range(1, len(A)):\n",
        "    if A[maximo] < A[i]:\n",
        "      maximo = i\n",
        "  return maximo\n",
        "\n",
        "\n",
        "print(pos_maximo(precios))"
      ],
      "metadata": {
        "colab": {
          "base_uri": "https://localhost:8080/"
        },
        "id": "r23EL1jLEcAA",
        "outputId": "b14154c4-529b-4e83-9a2b-a5abfde935a5"
      },
      "execution_count": 11,
      "outputs": [
        {
          "output_type": "stream",
          "name": "stdout",
          "text": [
            "4\n"
          ]
        }
      ]
    },
    {
      "cell_type": "code",
      "source": [
        "precios = [2, 41, 58, 58, 65, 8, 2, 3, 4, 6, 4]\n",
        "# maximo = max(precios)\n",
        "# precios.index(maximo)\n",
        "def pos_maximo(A):\n",
        "  maximo = -9000000\n",
        "  pos = 0\n",
        "  for i in range(1, len(A)):\n",
        "    if maximo < A[i]:\n",
        "      maximo = A[i]\n",
        "      pos = i\n",
        "  return pos, maximo\n",
        "\n",
        "print(pos_maximo(precios))"
      ],
      "metadata": {
        "colab": {
          "base_uri": "https://localhost:8080/"
        },
        "id": "L0KDXceaGLq2",
        "outputId": "5de425bf-b653-458f-d199-fb3cdafc1073"
      },
      "execution_count": 16,
      "outputs": [
        {
          "output_type": "stream",
          "name": "stdout",
          "text": [
            "(0, 80)\n"
          ]
        }
      ]
    },
    {
      "cell_type": "markdown",
      "source": [
        "![image.png](data:image/png;base64,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)"
      ],
      "metadata": {
        "id": "Ef4D9DEtJ59H"
      }
    },
    {
      "cell_type": "code",
      "source": [
        "A = [[1,7,5],[5,4,3]]\n",
        "def imprimir_matriz(A):\n",
        "  for i in range(len(A)):\n",
        "    for j in range(len(A[i])):\n",
        "      print(A[i][j], end =\" \")\n",
        "    print(\"\")\n"
      ],
      "metadata": {
        "id": "sjRpP-8ZH8Ej"
      },
      "execution_count": 24,
      "outputs": []
    },
    {
      "cell_type": "code",
      "source": [
        "# A = [[1,7,5],[5,4,3]]\n",
        "# for i in range(len(A[0])):\n",
        "#   for j in range(len(A)):\n",
        "#     print(A[j][i], end =\" \")\n",
        "#   print(\"\")\n",
        "A = [[1,7,5],[5,4,3]]\n",
        "for j in range(len(A[0])):\n",
        "  for i in range(len(A)):\n",
        "    print(A[i][j], end =\" \")\n",
        "  print(\"\")"
      ],
      "metadata": {
        "colab": {
          "base_uri": "https://localhost:8080/"
        },
        "id": "wdd5DFdMNd0M",
        "outputId": "f3252398-82c6-4916-8c07-b20c18f959dd"
      },
      "execution_count": 23,
      "outputs": [
        {
          "output_type": "stream",
          "name": "stdout",
          "text": [
            "1 5 \n",
            "7 4 \n",
            "5 3 \n"
          ]
        }
      ]
    },
    {
      "cell_type": "code",
      "source": [
        "def cuadrado_matriz(A):\n",
        "  Y = [] # Y=[[0,0,0],[0,0,0]]\n",
        "  for i in range(len(A)):\n",
        "    fila = []\n",
        "    for j in range(len(A[i])):\n",
        "      fila.append(A[i][j]**2) #Y[i][j] = A[i][j]**2\n",
        "    Y.append(fila)\n",
        "  return Y\n",
        "\n",
        "A = [[1,7,5],[5,4,3]]\n",
        "\n",
        "resultado = cuadrado_matriz(A)\n",
        "imprimir_matriz(A)\n",
        "imprimir_matriz(resultado)"
      ],
      "metadata": {
        "colab": {
          "base_uri": "https://localhost:8080/"
        },
        "id": "Uu__D0NPQxSW",
        "outputId": "8addae1b-db04-4342-fd89-2caebcd2495e"
      },
      "execution_count": 26,
      "outputs": [
        {
          "output_type": "stream",
          "name": "stdout",
          "text": [
            "1 7 5 \n",
            "5 4 3 \n",
            "1 49 25 \n",
            "25 16 9 \n"
          ]
        }
      ]
    },
    {
      "cell_type": "code",
      "source": [
        "A = [[1,7,5],[5,4,3],[7,5,3]]\n",
        "def imprimir_diagonal(A):\n",
        "  for i in range(len(A)):\n",
        "    for j in range(len(A[i])):\n",
        "      if i == j:\n",
        "        print(A[i][j], end =\" \")\n",
        "      else:\n",
        "        print(\"0\", end = \" \")\n",
        "    print(\"\")\n",
        "\n",
        "imprimir_diagonal(A)"
      ],
      "metadata": {
        "colab": {
          "base_uri": "https://localhost:8080/"
        },
        "id": "60idjiraU4N_",
        "outputId": "026b4b3d-a17f-4fdd-ec44-cf9c0e532765"
      },
      "execution_count": 32,
      "outputs": [
        {
          "output_type": "stream",
          "name": "stdout",
          "text": [
            "1 0 0 \n",
            "0 4 0 \n",
            "0 0 3 \n"
          ]
        }
      ]
    },
    {
      "cell_type": "code",
      "source": [
        "A = [[1,7,5],[5,4,3],[7,5,3]]\n",
        "def imprimir_diagonal(A):\n",
        "  for i in range(len(A)):\n",
        "    for j in range(len(A[i])):\n",
        "      if i == j:\n",
        "        print(A[i][j], end =\" \")\n",
        "\n",
        "imprimir_diagonal(A)"
      ],
      "metadata": {
        "colab": {
          "base_uri": "https://localhost:8080/"
        },
        "id": "E8dkkADxVQZ_",
        "outputId": "edecb189-65e9-416e-b2fa-17bef7ebf915"
      },
      "execution_count": 35,
      "outputs": [
        {
          "output_type": "stream",
          "name": "stdout",
          "text": [
            "1 4 3 "
          ]
        }
      ]
    },
    {
      "cell_type": "code",
      "source": [
        "A = [[1,7,5],[5,4,3],[7,5,3]]\n",
        "def imprimir_diagonal(A):\n",
        "  for i in range(len(A)):\n",
        "    print(A[i][i], end =\" \")\n",
        "imprimir_diagonal(A)"
      ],
      "metadata": {
        "colab": {
          "base_uri": "https://localhost:8080/"
        },
        "id": "rBG6isv9VtTe",
        "outputId": "f6ec7865-1498-48c5-ed15-f19ec329aa7f"
      },
      "execution_count": 34,
      "outputs": [
        {
          "output_type": "stream",
          "name": "stdout",
          "text": [
            "1 4 3 "
          ]
        }
      ]
    },
    {
      "cell_type": "code",
      "source": [
        "A = [[1,7,5],[5,4,3],[7,5,3]]\n",
        "def imprimir_diagonal_invertida(A):\n",
        "  for i in range(len(A)):\n",
        "    print(A[len(A)-1-i][i], end =\" \")\n",
        "imprimir_diagonal_invertida(A)"
      ],
      "metadata": {
        "colab": {
          "base_uri": "https://localhost:8080/"
        },
        "id": "k2c3EcBtWXyd",
        "outputId": "030e8f9a-fc38-4738-ba0a-46c681636256"
      },
      "execution_count": 37,
      "outputs": [
        {
          "output_type": "stream",
          "name": "stdout",
          "text": [
            "7 4 5 "
          ]
        }
      ]
    },
    {
      "cell_type": "code",
      "source": [
        "A = [[1,7,5],[5,4,3],[7,5,3]]\n",
        "def imprimir_diagonal_invertida(A):#por terminar\n",
        "  for i in range(len(A)):\n",
        "    for j in range(len(A[i])):\n",
        "      if i == j:\n",
        "        print(A[i][j], end =\" \")\n",
        "\n",
        "imprimir_diagonal(A)"
      ],
      "metadata": {
        "id": "Zv-j7xbuW3IC"
      },
      "execution_count": null,
      "outputs": []
    }
  ]
}