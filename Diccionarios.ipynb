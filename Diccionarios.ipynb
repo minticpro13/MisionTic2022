{
  "nbformat": 4,
  "nbformat_minor": 0,
  "metadata": {
    "colab": {
      "name": "Diccionarios.ipynb",
      "provenance": [],
      "authorship_tag": "ABX9TyMYcowLgnfp502CliGRwLIm",
      "include_colab_link": true
    },
    "kernelspec": {
      "name": "python3",
      "display_name": "Python 3"
    },
    "language_info": {
      "name": "python"
    }
  },
  "cells": [
    {
      "cell_type": "markdown",
      "metadata": {
        "id": "view-in-github",
        "colab_type": "text"
      },
      "source": [
        "<a href=\"https://colab.research.google.com/github/minticpro13/MisionTic2022/blob/main/Diccionarios.ipynb\" target=\"_parent\"><img src=\"https://colab.research.google.com/assets/colab-badge.svg\" alt=\"Open In Colab\"/></a>"
      ]
    },
    {
      "cell_type": "code",
      "execution_count": null,
      "metadata": {
        "colab": {
          "base_uri": "https://localhost:8080/"
        },
        "id": "eHVAquDuo6fR",
        "outputId": "8749b6a7-8e2a-447b-c25f-df12c8ac2989"
      },
      "outputs": [
        {
          "output_type": "stream",
          "name": "stdout",
          "text": [
            "{'nombre': 'manuel', 'apellido': 'zambrano', 'edad': 28, 'grupo': 'P29'}\n",
            "manuel\n",
            "carlos\n",
            "{'nombre': 'carlos', 'apellido': 'zambrano', 'edad': 28, 'grupo': 'P29'}\n"
          ]
        }
      ],
      "source": [
        "profesor = {\"nombre\": \"manuel\", \"apellido\":\"zambrano\", \"edad\": 28, \"grupo\": \"P29\"}\n",
        "\n",
        "print(profesor)\n",
        "print(profesor[\"nombre\"])\n",
        "profesor[\"nombre\"] = \"carlos\"\n",
        "print(profesor[\"nombre\"])\n",
        "print(profesor)\n"
      ]
    },
    {
      "cell_type": "code",
      "source": [
        "dict_ports1 = {22:\"SSH\", 80:\"Http\"}\n",
        "dict_ports2 = {53:\"DNS\", 443:\"https\"}\n",
        "dict_ports3 = {8080:\"Http\", 3306:\"Mysql\"}\n",
        "# dict_ports2 = {22:\"TCP\", 53:\"DNS\", 443:\"https\"}\n",
        "print(dict_ports1)\n",
        "dict_ports1.update(dict_ports2)\n",
        "print(dict_ports1)\n",
        "dict_ports1.update(dict_ports3)\n",
        "print(dict_ports1)"
      ],
      "metadata": {
        "colab": {
          "base_uri": "https://localhost:8080/"
        },
        "id": "GEjVChGfrbzr",
        "outputId": "92f88175-a1f4-4b26-fb2c-ce67dc0a122e"
      },
      "execution_count": null,
      "outputs": [
        {
          "output_type": "stream",
          "name": "stdout",
          "text": [
            "{22: 'SSH', 80: 'Http'}\n",
            "{22: 'SSH', 80: 'Http', 53: 'DNS', 443: 'https'}\n",
            "{22: 'SSH', 80: 'Http', 53: 'DNS', 443: 'https', 8080: 'Http', 3306: 'Mysql'}\n"
          ]
        }
      ]
    },
    {
      "cell_type": "code",
      "source": [
        "a = {123:\"Rojas\", 87:\"Rosas\"} == {87:\"Rosas\", 123:\"Rosas\"}\n",
        "print(a)\n",
        "print({\"Rosas\":123} != {\"rosas\":123})\n",
        "b = {123:\"Rosas\", 87:\"rojas\"} == {\"Rosas\":123, 87:\"rojas\"}\n",
        "print(b)"
      ],
      "metadata": {
        "colab": {
          "base_uri": "https://localhost:8080/"
        },
        "id": "zvEyhA6Lt2ed",
        "outputId": "60a7c7b0-0aaa-45f8-f920-b3046bc00dc8"
      },
      "execution_count": null,
      "outputs": [
        {
          "output_type": "stream",
          "name": "stdout",
          "text": [
            "False\n",
            "True\n",
            "False\n"
          ]
        }
      ]
    },
    {
      "cell_type": "code",
      "source": [
        "dict_ports1 = {22:\"SSH\", 80:\"Http\", 0:\"ttpy\"}\n",
        "dict_ports1[1] = \"none\"\n",
        "del dict_ports1[22]\n",
        "print(dict_ports1)"
      ],
      "metadata": {
        "colab": {
          "base_uri": "https://localhost:8080/"
        },
        "id": "vg5QywgXvLlp",
        "outputId": "9cb23b6e-5c75-4298-ad6e-71752e704baa"
      },
      "execution_count": null,
      "outputs": [
        {
          "output_type": "stream",
          "name": "stdout",
          "text": [
            "{80: 'Http', 0: 'ttpy', 1: 'none'}\n"
          ]
        }
      ]
    },
    {
      "cell_type": "code",
      "source": [
        "dict_ports1 = {22:\"SSH\", 80:\"Http\", 0:\"ttpy\"}\n",
        "if \"Http\" in dict_ports1:\n",
        "  print(\"si esta\")\n",
        "else:\n",
        "  print(\"no esta\")"
      ],
      "metadata": {
        "colab": {
          "base_uri": "https://localhost:8080/"
        },
        "id": "Lyzs_fS3z8Pl",
        "outputId": "596dcad2-6706-4b75-b465-87279b0c58a6"
      },
      "execution_count": null,
      "outputs": [
        {
          "output_type": "stream",
          "name": "stdout",
          "text": [
            "no esta\n"
          ]
        }
      ]
    },
    {
      "cell_type": "code",
      "source": [
        "puertos = {22:\"SSH\", 80:\"Http\", 0:\"ttpy\"}\n",
        "\n",
        "for x in puertos:\n",
        "  print( x, puertos[x])\n",
        "  \n",
        "for llave, valor in puertos.items():\n",
        "  print(llave, valor)"
      ],
      "metadata": {
        "colab": {
          "base_uri": "https://localhost:8080/"
        },
        "id": "_B9TBV1a0di0",
        "outputId": "478aefa6-2770-4fd3-8029-f38bec3a334f"
      },
      "execution_count": null,
      "outputs": [
        {
          "output_type": "stream",
          "name": "stdout",
          "text": [
            "22 SSH\n",
            "80 Http\n",
            "0 ttpy\n",
            "22 SSH\n",
            "80 Http\n",
            "0 ttpy\n"
          ]
        }
      ]
    },
    {
      "cell_type": "code",
      "source": [
        "profesor = {\"nombre\": \"manuel\", \"apellido\":\"zambrano\", \"edad\": 28, \"grupo\": \"P29\"}\n",
        "profesores = {12151: profesor}\n",
        "profesor2 = {\"nombre\": \"carlos\", \"apellido\":\"gomez\", \"edad\": 27, \"grupo\": \"P19\"}\n",
        "profesores[11524] = profesor2\n",
        "print(profesores)\n",
        "\n",
        "for key in profesores:\n",
        "  # if profesores[key][\"nombre\"] == \"manuel\" and profesores[key][\"apellido\"] == \"zambrano\":\n",
        "    print(profesores[key][\"nombre\"])\n"
      ],
      "metadata": {
        "colab": {
          "base_uri": "https://localhost:8080/"
        },
        "id": "ubvF928u1zv4",
        "outputId": "5c056f61-4e0e-4779-b828-a9d666cf6346"
      },
      "execution_count": null,
      "outputs": [
        {
          "output_type": "stream",
          "name": "stdout",
          "text": [
            "{12151: {'nombre': 'manuel', 'apellido': 'zambrano', 'edad': 28, 'grupo': 'P29'}, 11524: {'nombre': 'carlos', 'apellido': 'gomez', 'edad': 27, 'grupo': 'P19'}}\n",
            "manuel\n",
            "carlos\n"
          ]
        }
      ]
    },
    {
      "cell_type": "code",
      "source": [
        "dict1 = {\"a\":1, \"b\":2, \"c\":3}\n",
        "print(dict1.get(\"a\")) #dict1[\"a\"]\n",
        "print(dict1.get(\"d\", \"clave no encontrada.\"))\n",
        "print(dict1.get(\"d\")) #dict1[\"d\"]\n"
      ],
      "metadata": {
        "colab": {
          "base_uri": "https://localhost:8080/"
        },
        "id": "bXsn7KpL12hP",
        "outputId": "ee4561ae-5bee-455b-81b0-aa3b0059381b"
      },
      "execution_count": null,
      "outputs": [
        {
          "output_type": "stream",
          "name": "stdout",
          "text": [
            "1\n",
            "clave no encontrada.\n",
            "None\n"
          ]
        }
      ]
    },
    {
      "cell_type": "code",
      "source": [
        "puertos = {22:\"SSH\", \"80\":\"Http\", 0:\"ttpy\"}\n",
        "# print(max(puertos))\n",
        "# print(min(puertos))\n",
        "print(puertos.keys())\n",
        "print(list(puertos.values()))"
      ],
      "metadata": {
        "colab": {
          "base_uri": "https://localhost:8080/"
        },
        "id": "teyq4_AD6mRH",
        "outputId": "ffe29926-69a2-4e1f-9e69-c260ed88ecf8"
      },
      "execution_count": null,
      "outputs": [
        {
          "output_type": "stream",
          "name": "stdout",
          "text": [
            "dict_keys([22, '80', 0])\n",
            "['SSH', 'Http', 'ttpy']\n"
          ]
        }
      ]
    },
    {
      "cell_type": "code",
      "source": [
        "puertos = [[80, \"http\"], [20, \"ftp\"], [23, \"telnet\"]]\n",
        "d_port = dict(puertos)\n",
        "print(d_port)\n",
        "puertos = [(20, \"ftp\"), (80, \"http\"), (23, \"telnet\")]\n",
        "d_port = dict(puertos)\n",
        "print(d_port)\n"
      ],
      "metadata": {
        "colab": {
          "base_uri": "https://localhost:8080/",
          "height": 236
        },
        "id": "dLLoUGZA7drb",
        "outputId": "0cd68fa8-b27b-45a9-ca55-3681c9c0ee2d"
      },
      "execution_count": null,
      "outputs": [
        {
          "output_type": "stream",
          "name": "stdout",
          "text": [
            "{80: 'http', 20: 'ftp', 23: 'telnet'}\n"
          ]
        },
        {
          "output_type": "error",
          "ename": "ValueError",
          "evalue": "ignored",
          "traceback": [
            "\u001b[0;31m---------------------------------------------------------------------------\u001b[0m",
            "\u001b[0;31mValueError\u001b[0m                                Traceback (most recent call last)",
            "\u001b[0;32m<ipython-input-48-f4c61f28e4e0>\u001b[0m in \u001b[0;36m<module>\u001b[0;34m()\u001b[0m\n\u001b[1;32m      3\u001b[0m \u001b[0mprint\u001b[0m\u001b[0;34m(\u001b[0m\u001b[0md_port\u001b[0m\u001b[0;34m)\u001b[0m\u001b[0;34m\u001b[0m\u001b[0;34m\u001b[0m\u001b[0m\n\u001b[1;32m      4\u001b[0m \u001b[0mpuertos\u001b[0m \u001b[0;34m=\u001b[0m \u001b[0;34m[\u001b[0m\u001b[0;34m(\u001b[0m\u001b[0;36m20\u001b[0m\u001b[0;34m,\u001b[0m \u001b[0;34m\"ftp\"\u001b[0m\u001b[0;34m,\u001b[0m\u001b[0;36m8\u001b[0m\u001b[0;34m)\u001b[0m\u001b[0;34m,\u001b[0m \u001b[0;34m(\u001b[0m\u001b[0;36m80\u001b[0m\u001b[0;34m,\u001b[0m \u001b[0;34m\"http\"\u001b[0m\u001b[0;34m)\u001b[0m\u001b[0;34m,\u001b[0m \u001b[0;34m(\u001b[0m\u001b[0;36m23\u001b[0m\u001b[0;34m,\u001b[0m \u001b[0;34m\"telnet\"\u001b[0m\u001b[0;34m)\u001b[0m\u001b[0;34m]\u001b[0m\u001b[0;34m\u001b[0m\u001b[0;34m\u001b[0m\u001b[0m\n\u001b[0;32m----> 5\u001b[0;31m \u001b[0md_port\u001b[0m \u001b[0;34m=\u001b[0m \u001b[0mdict\u001b[0m\u001b[0;34m(\u001b[0m\u001b[0mpuertos\u001b[0m\u001b[0;34m)\u001b[0m\u001b[0;34m\u001b[0m\u001b[0;34m\u001b[0m\u001b[0m\n\u001b[0m\u001b[1;32m      6\u001b[0m \u001b[0mprint\u001b[0m\u001b[0;34m(\u001b[0m\u001b[0md_port\u001b[0m\u001b[0;34m)\u001b[0m\u001b[0;34m\u001b[0m\u001b[0;34m\u001b[0m\u001b[0m\n",
            "\u001b[0;31mValueError\u001b[0m: dictionary update sequence element #0 has length 3; 2 is required"
          ]
        }
      ]
    },
    {
      "cell_type": "code",
      "source": [
        "dict_ports = {22:\"SSH\", 23:\"telnet\", 80:\"Http\"}\n",
        "print(dict_ports)\n",
        "dict_ports.clear()\n",
        "print(dict_ports)\n"
      ],
      "metadata": {
        "colab": {
          "base_uri": "https://localhost:8080/"
        },
        "id": "JvS60BzU8Tx3",
        "outputId": "4ebb35cf-a6f0-4be1-c763-ad930e9da01b"
      },
      "execution_count": null,
      "outputs": [
        {
          "output_type": "stream",
          "name": "stdout",
          "text": [
            "{22: 'SSH', 23: 'telnet', 80: 'Http'}\n",
            "{}\n"
          ]
        }
      ]
    },
    {
      "cell_type": "code",
      "source": [
        "dict_ports = {22:\"SSH\", 23:\"telnet\", 80:\"Http\"}\n",
        "print(dict_ports)\n",
        "copy = dict_ports.copy()\n",
        "fake_copy = dict_ports\n",
        "fake_copy.clear()\n",
        "\n",
        "print(dict_ports)"
      ],
      "metadata": {
        "id": "QRLfL8tK9IN1"
      },
      "execution_count": null,
      "outputs": []
    }
  ]
}