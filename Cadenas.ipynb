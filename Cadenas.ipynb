{
  "nbformat": 4,
  "nbformat_minor": 0,
  "metadata": {
    "colab": {
      "name": "Cadenas.ipynb",
      "provenance": [],
      "authorship_tag": "ABX9TyPR91sd2AN19rFRuQjCaXcq",
      "include_colab_link": true
    },
    "kernelspec": {
      "name": "python3",
      "display_name": "Python 3"
    },
    "language_info": {
      "name": "python"
    }
  },
  "cells": [
    {
      "cell_type": "markdown",
      "metadata": {
        "id": "view-in-github",
        "colab_type": "text"
      },
      "source": [
        "<a href=\"https://colab.research.google.com/github/minticpro13/MisionTic2022/blob/main/Cadenas.ipynb\" target=\"_parent\"><img src=\"https://colab.research.google.com/assets/colab-badge.svg\" alt=\"Open In Colab\"/></a>"
      ]
    },
    {
      "cell_type": "code",
      "execution_count": null,
      "metadata": {
        "colab": {
          "base_uri": "https://localhost:8080/"
        },
        "id": "XC49PXC4Ilth",
        "outputId": "dc936a3f-a7c4-47da-c2c5-0aee2335d2a4"
      },
      "outputs": [
        {
          "output_type": "stream",
          "name": "stdout",
          "text": [
            "4\n",
            "8\n",
            "9\n",
            "6\n",
            "8\n",
            "4\n",
            "5\n",
            "iguales\n"
          ]
        }
      ],
      "source": [
        "cadena = \"la clase ya casi se acaba\"\n",
        "numero = 4896845\n",
        "# for letra in cadena:\n",
        "#   print(letra)\n",
        "for digito in str(numero):\n",
        "  print(digito)\n",
        "\n",
        "if cadena[-1] == \"a\":\n",
        "  print(\"iguales\")\n"
      ]
    },
    {
      "cell_type": "code",
      "source": [
        "cadena = \"A\\n\\tA\\tB\\n\\tManuel\\tzambrano\"\n",
        "print(cadena)"
      ],
      "metadata": {
        "colab": {
          "base_uri": "https://localhost:8080/"
        },
        "id": "xmA7pjGs8s49",
        "outputId": "9e6e5c77-4d02-4e63-e40e-f9e9c26b9e6e"
      },
      "execution_count": 5,
      "outputs": [
        {
          "output_type": "stream",
          "name": "stdout",
          "text": [
            "A\n",
            "\tA\tB\n",
            "\tManuel\tzambrano\n"
          ]
        }
      ]
    },
    {
      "cell_type": "code",
      "source": [
        "cadena = \"\\\"manuel\\\"\"\n",
        "print(cadena)\n",
        "cadena = '\"manuel\"'\n",
        "print(cadena)\n",
        "cadena = \"'manuel'\\u069E\"\n",
        "cadena = \"\\u069E\"\n",
        "cadena_vacia = \"\"\n",
        "print(cadena_vacia)"
      ],
      "metadata": {
        "colab": {
          "base_uri": "https://localhost:8080/"
        },
        "id": "-IRPUlh4-T8-",
        "outputId": "c1ba4234-754c-41d2-e7db-39844bfe4e95"
      },
      "execution_count": 11,
      "outputs": [
        {
          "output_type": "stream",
          "name": "stdout",
          "text": [
            "\"manuel\"\n",
            "\"manuel\"\n",
            "\n"
          ]
        }
      ]
    },
    {
      "cell_type": "code",
      "source": [
        "nombre = \"Minch\"\n",
        "apellido = \"yoda\"\n",
        "print(nombre +\" \"+ apellido)\n",
        "\n",
        "digitos = \"\"\n",
        "for i in range(0,10,1): #range(10)\n",
        "  digitos = digitos + str(i)\n",
        "\n",
        "print(digitos)"
      ],
      "metadata": {
        "colab": {
          "base_uri": "https://localhost:8080/"
        },
        "id": "VuajFwLgAMwe",
        "outputId": "71d19358-b214-43fd-ef04-458f4b17379e"
      },
      "execution_count": 14,
      "outputs": [
        {
          "output_type": "stream",
          "name": "stdout",
          "text": [
            "Minch yoda\n",
            "0123456789\n"
          ]
        }
      ]
    },
    {
      "cell_type": "code",
      "source": [
        "print(\"Rosas\" < \"Rojas\")\n",
        "print(\"Rosas\" != \"Rojas\")\n",
        "print(\"Rosa\" < \"Rojas\")\n",
        "print(\"Roja\" < \"Rojas\")\n",
        "print(\"Roja\" < \"roja\")\n",
        "print(\"Roja\" < \"rojas\")"
      ],
      "metadata": {
        "colab": {
          "base_uri": "https://localhost:8080/"
        },
        "id": "6Z1eEsd0E6w7",
        "outputId": "2d256f71-b8ed-45eb-d3d9-8609421c5ea7"
      },
      "execution_count": 19,
      "outputs": [
        {
          "output_type": "stream",
          "name": "stdout",
          "text": [
            "False\n",
            "True\n",
            "False\n",
            "True\n",
            "True\n",
            "True\n"
          ]
        }
      ]
    },
    {
      "cell_type": "code",
      "source": [
        "cadena = \"Minch Yoda\"\n",
        "print(cadena[9])\n",
        "print(cadena[-1])\n",
        "largo = len(cadena)\n",
        "print(largo)\n",
        "print(cadena[largo-1])\n"
      ],
      "metadata": {
        "colab": {
          "base_uri": "https://localhost:8080/"
        },
        "id": "6dTfYSwYHYHR",
        "outputId": "0e2b3eb3-f473-49a7-9fec-6bff804f704a"
      },
      "execution_count": 25,
      "outputs": [
        {
          "output_type": "stream",
          "name": "stdout",
          "text": [
            "a\n",
            "a\n",
            "10\n",
            "a\n"
          ]
        }
      ]
    }
  ]
}