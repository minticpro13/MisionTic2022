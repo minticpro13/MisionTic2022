{
  "nbformat": 4,
  "nbformat_minor": 0,
  "metadata": {
    "colab": {
      "name": "Cadenas.ipynb",
      "provenance": [],
      "authorship_tag": "ABX9TyNlsfO0aemWsU1FuCAFggiq",
      "include_colab_link": true
    },
    "kernelspec": {
      "name": "python3",
      "display_name": "Python 3"
    },
    "language_info": {
      "name": "python"
    }
  },
  "cells": [
    {
      "cell_type": "markdown",
      "metadata": {
        "id": "view-in-github",
        "colab_type": "text"
      },
      "source": [
        "<a href=\"https://colab.research.google.com/github/minticpro13/MisionTic2022/blob/main/Cadenas.ipynb\" target=\"_parent\"><img src=\"https://colab.research.google.com/assets/colab-badge.svg\" alt=\"Open In Colab\"/></a>"
      ]
    },
    {
      "cell_type": "code",
      "execution_count": null,
      "metadata": {
        "colab": {
          "base_uri": "https://localhost:8080/"
        },
        "id": "XC49PXC4Ilth",
        "outputId": "dc936a3f-a7c4-47da-c2c5-0aee2335d2a4"
      },
      "outputs": [
        {
          "output_type": "stream",
          "name": "stdout",
          "text": [
            "4\n",
            "8\n",
            "9\n",
            "6\n",
            "8\n",
            "4\n",
            "5\n",
            "iguales\n"
          ]
        }
      ],
      "source": [
        "cadena = \"la clase ya casi se acaba\"\n",
        "numero = 4896845\n",
        "# for letra in cadena:\n",
        "#   print(letra)\n",
        "for digito in str(numero):\n",
        "  print(digito)\n",
        "\n",
        "if cadena[-1] == \"a\":\n",
        "  print(\"iguales\")\n"
      ]
    },
    {
      "cell_type": "code",
      "source": [
        "cadena = \"A\\n\\tA\\tB\\n\\tManuel\\tzambrano\"\n",
        "print(cadena)"
      ],
      "metadata": {
        "colab": {
          "base_uri": "https://localhost:8080/"
        },
        "id": "xmA7pjGs8s49",
        "outputId": "9e6e5c77-4d02-4e63-e40e-f9e9c26b9e6e"
      },
      "execution_count": null,
      "outputs": [
        {
          "output_type": "stream",
          "name": "stdout",
          "text": [
            "A\n",
            "\tA\tB\n",
            "\tManuel\tzambrano\n"
          ]
        }
      ]
    },
    {
      "cell_type": "code",
      "source": [
        "cadena = \"\\\"manuel\\\"\"\n",
        "print(cadena)\n",
        "cadena = '\"manuel\"'\n",
        "print(cadena)\n",
        "cadena = \"'manuel'\\u069E\"\n",
        "cadena = \"\\u069E\"\n",
        "cadena_vacia = \"\"\n",
        "print(cadena_vacia)"
      ],
      "metadata": {
        "colab": {
          "base_uri": "https://localhost:8080/"
        },
        "id": "-IRPUlh4-T8-",
        "outputId": "c1ba4234-754c-41d2-e7db-39844bfe4e95"
      },
      "execution_count": null,
      "outputs": [
        {
          "output_type": "stream",
          "name": "stdout",
          "text": [
            "\"manuel\"\n",
            "\"manuel\"\n",
            "\n"
          ]
        }
      ]
    },
    {
      "cell_type": "code",
      "source": [
        "nombre = \"Minch\"\n",
        "apellido = \"yoda\"\n",
        "print(nombre +\" \"+ apellido)\n",
        "\n",
        "digitos = \"\"\n",
        "for i in range(0,10,1): #range(10)\n",
        "  digitos = digitos + str(i)\n",
        "\n",
        "print(digitos)"
      ],
      "metadata": {
        "colab": {
          "base_uri": "https://localhost:8080/"
        },
        "id": "VuajFwLgAMwe",
        "outputId": "71d19358-b214-43fd-ef04-458f4b17379e"
      },
      "execution_count": null,
      "outputs": [
        {
          "output_type": "stream",
          "name": "stdout",
          "text": [
            "Minch yoda\n",
            "0123456789\n"
          ]
        }
      ]
    },
    {
      "cell_type": "code",
      "source": [
        "print(\"Rosas\" < \"Rojas\")\n",
        "print(\"Rosas\" != \"Rojas\")\n",
        "print(\"Rosa\" < \"Rojas\")\n",
        "print(\"Roja\" < \"Rojas\")\n",
        "print(\"Roja\" < \"roja\")\n",
        "print(\"Roja\" < \"rojas\")"
      ],
      "metadata": {
        "colab": {
          "base_uri": "https://localhost:8080/"
        },
        "id": "6Z1eEsd0E6w7",
        "outputId": "2d256f71-b8ed-45eb-d3d9-8609421c5ea7"
      },
      "execution_count": null,
      "outputs": [
        {
          "output_type": "stream",
          "name": "stdout",
          "text": [
            "False\n",
            "True\n",
            "False\n",
            "True\n",
            "True\n",
            "True\n"
          ]
        }
      ]
    },
    {
      "cell_type": "code",
      "source": [
        "cadena = \"Minch Yoda\"\n",
        "print(cadena[9])\n",
        "print(cadena[-1])\n",
        "largo = len(cadena)\n",
        "print(largo)\n",
        "print(cadena[largo-1])\n"
      ],
      "metadata": {
        "colab": {
          "base_uri": "https://localhost:8080/"
        },
        "id": "6dTfYSwYHYHR",
        "outputId": "0e2b3eb3-f473-49a7-9fec-6bff804f704a"
      },
      "execution_count": null,
      "outputs": [
        {
          "output_type": "stream",
          "name": "stdout",
          "text": [
            "a\n",
            "a\n",
            "10\n",
            "a\n"
          ]
        }
      ]
    },
    {
      "cell_type": "code",
      "source": [
        "cadena = \"Minch Yoda\"\n",
        "largo = len(cadena)\n",
        "for i in range(largo):\n",
        "  print(cadena[i], end=\"\")\n",
        "print(\"\")\n",
        "for caracter in cadena:\n",
        "  print(caracter, end=\"\")"
      ],
      "metadata": {
        "colab": {
          "base_uri": "https://localhost:8080/"
        },
        "id": "b5tlpxWGKR69",
        "outputId": "4cc12e70-542f-4973-afc6-0938aa932a81"
      },
      "execution_count": null,
      "outputs": [
        {
          "output_type": "stream",
          "name": "stdout",
          "text": [
            "Minch Yoda\n",
            "Minch Yoda"
          ]
        }
      ]
    },
    {
      "cell_type": "code",
      "source": [
        "cadena = \"Minch Yoda\"\n",
        "cadenas_con_a = 0\n",
        "if \"a\" in cadena:\n",
        "  cadenas_con_a += 1\n",
        "  print(cadena)\n",
        "\n",
        "print(cadenas_con_a)"
      ],
      "metadata": {
        "colab": {
          "base_uri": "https://localhost:8080/"
        },
        "id": "pTIZsHCyL-zt",
        "outputId": "9a415819-b8e5-4bec-c2ff-b53c818e5dbe"
      },
      "execution_count": null,
      "outputs": [
        {
          "output_type": "stream",
          "name": "stdout",
          "text": [
            "Minch Yoda\n",
            "1\n"
          ]
        }
      ]
    },
    {
      "cell_type": "code",
      "source": [
        "nombre = \"Minch Yoda\"\n",
        "trabajo = \"Stars War\"\n",
        "planeta = \"Tatoon \\t cinco\"\n",
        "vacia = \"\"\n",
        "print(len(nombre))\n",
        "print(len(trabajo))\n",
        "print(len(planeta))\n",
        "print(len(vacia))"
      ],
      "metadata": {
        "colab": {
          "base_uri": "https://localhost:8080/"
        },
        "id": "rnkNgManNU9l",
        "outputId": "448e5af8-3fc9-431f-81e8-913d139b09c8"
      },
      "execution_count": null,
      "outputs": [
        {
          "output_type": "stream",
          "name": "stdout",
          "text": [
            "10\n",
            "9\n",
            "14\n",
            "0\n"
          ]
        }
      ]
    },
    {
      "cell_type": "code",
      "source": [
        "cadena = \"Minch Yoda\"\n",
        "for i in range(7):#range(0,5)\n",
        "  print(cadena[i], end=\"\")\n",
        "print(\"\")\n",
        "print(cadena[:7])"
      ],
      "metadata": {
        "colab": {
          "base_uri": "https://localhost:8080/"
        },
        "id": "TJ_gKA3FNyHO",
        "outputId": "a911b7fe-280b-4a40-a705-aa831a47daef"
      },
      "execution_count": null,
      "outputs": [
        {
          "output_type": "stream",
          "name": "stdout",
          "text": [
            "Minch Y\n",
            "Minch Y\n"
          ]
        }
      ]
    },
    {
      "cell_type": "code",
      "source": [
        "cadena = \"Minch Yoda\"\n",
        "for i in range(2,7):#range(0,5)\n",
        "  print(cadena[i], end=\"\")\n",
        "print(\"\")\n",
        "print(cadena[2:7])"
      ],
      "metadata": {
        "colab": {
          "base_uri": "https://localhost:8080/"
        },
        "id": "YF5elMnzOWzi",
        "outputId": "e05c1105-1ab4-4b88-99e9-b47920c3ce56"
      },
      "execution_count": null,
      "outputs": [
        {
          "output_type": "stream",
          "name": "stdout",
          "text": [
            "nch Y\n",
            "nch Y\n"
          ]
        }
      ]
    },
    {
      "cell_type": "code",
      "source": [
        "cadena = \"Minch Yoda\"\n",
        "for i in range(2,7,2):#range(0,5)\n",
        "  print(cadena[i], end=\"\")\n",
        "print(\"\")\n",
        "print(cadena[2:7:2])"
      ],
      "metadata": {
        "colab": {
          "base_uri": "https://localhost:8080/"
        },
        "id": "1RhaW2lQOl7y",
        "outputId": "9f4cfa14-f61f-4484-e7de-e32162d8e3a4"
      },
      "execution_count": null,
      "outputs": [
        {
          "output_type": "stream",
          "name": "stdout",
          "text": [
            "nhY\n",
            "nhY\n"
          ]
        }
      ]
    },
    {
      "cell_type": "code",
      "source": [
        "cadena = \"Minch Yoda\"\n",
        "print(cadena[::-1])\n",
        "print(cadena[::-1])"
      ],
      "metadata": {
        "colab": {
          "base_uri": "https://localhost:8080/"
        },
        "id": "tFLw4vvmOuft",
        "outputId": "f0163df0-020c-458b-a01f-71cf5d1f653c"
      },
      "execution_count": null,
      "outputs": [
        {
          "output_type": "stream",
          "name": "stdout",
          "text": [
            "adoY hcniM\n",
            "oY hc\n"
          ]
        }
      ]
    },
    {
      "cell_type": "code",
      "source": [
        "cadena = \"The avengers\"\n",
        "# print(cadena.count(\"e\"))\n",
        "# print(cadena.count(\"a\"))\n",
        "# print(cadena.count(\"e\",3,7))\n",
        "largo = len(cadena)\n",
        "print(largo)\n",
        "print(cadena.count(\"s\",3,largo))\n",
        "print(cadena.count(\"s\",3,largo-1))\n"
      ],
      "metadata": {
        "colab": {
          "base_uri": "https://localhost:8080/"
        },
        "id": "PwkTYIf7P9Uj",
        "outputId": "eb0a6ce4-1aa0-4fea-b4f1-075bcf057662"
      },
      "execution_count": null,
      "outputs": [
        {
          "output_type": "stream",
          "name": "stdout",
          "text": [
            "12\n",
            "1\n",
            "0\n"
          ]
        }
      ]
    },
    {
      "cell_type": "code",
      "source": [
        "cadena = \"la clase ya casi se acaba\"\n",
        "pos = cadena.find(\"clase\")\n",
        "print(cadena[pos:pos+5])\n"
      ],
      "metadata": {
        "colab": {
          "base_uri": "https://localhost:8080/"
        },
        "id": "QY047ytSRxFa",
        "outputId": "73fea5a1-aedc-4afc-ea16-2efe36fd06ea"
      },
      "execution_count": null,
      "outputs": [
        {
          "output_type": "stream",
          "name": "stdout",
          "text": [
            "clase\n"
          ]
        }
      ]
    },
    {
      "cell_type": "code",
      "source": [
        "str2 = \"It is not despair, for despair is \" \\\n",
        "\"only for those who see the end \" \\\n",
        "\"beyond all doubt. We do not.\"\n",
        "print(\"first:\", str2.find(\"despair\"))\n",
        "print(\"last:\", str2.rfind(\"despair\"))"
      ],
      "metadata": {
        "colab": {
          "base_uri": "https://localhost:8080/"
        },
        "id": "i-9lSOrESeCG",
        "outputId": "13d5ef13-5601-4277-d0f6-980dd1298274"
      },
      "execution_count": null,
      "outputs": [
        {
          "output_type": "stream",
          "name": "stdout",
          "text": [
            "first: 10\n",
            "last: 23\n"
          ]
        }
      ]
    },
    {
      "cell_type": "code",
      "source": [
        "cadena = \"La clase ya casi se acaba\"\n",
        "print(cadena.upper())\n",
        "print(cadena.lower())\n",
        "print(cadena.capitalize())\n",
        "print(cadena.title())\n",
        "print(cadena.swapcase())"
      ],
      "metadata": {
        "colab": {
          "base_uri": "https://localhost:8080/"
        },
        "id": "U6gJjUu7S60-",
        "outputId": "7bd7e352-45de-4851-8d14-ecfdf0d4cd20"
      },
      "execution_count": null,
      "outputs": [
        {
          "output_type": "stream",
          "name": "stdout",
          "text": [
            "LA CLASE YA CASI SE ACABA\n",
            "la clase ya casi se acaba\n",
            "La clase ya casi se acaba\n",
            "La Clase Ya Casi Se Acaba\n",
            "lA CLASE YA CASI SE ACABA\n"
          ]
        }
      ]
    },
    {
      "cell_type": "code",
      "source": [
        "cadena = \"---++--cien años de soledad---++--\"\n",
        "cuenta =\"000000082151000\"\n",
        "print (cadena)\n",
        "print(cadena.strip())\n",
        "print(cadena.lstrip(\"-+\"))\n",
        "print(cadena.rstrip(\"-+\"))"
      ],
      "metadata": {
        "colab": {
          "base_uri": "https://localhost:8080/"
        },
        "id": "WBOIMtWMjFQN",
        "outputId": "a0dc27be-e6ea-4fe5-d30c-66b7ef5663a5"
      },
      "execution_count": 7,
      "outputs": [
        {
          "output_type": "stream",
          "name": "stdout",
          "text": [
            "---++--cien años de soledad---++--\n",
            "---++--cien años de soledad---++--\n",
            "cien años de soledad---++--\n",
            "---++--cien años de soledad\n"
          ]
        }
      ]
    },
    {
      "cell_type": "code",
      "source": [
        "fecha = \"09-05-2022\"\n",
        "datos = fecha.split(\"-\")\n",
        "print(\"día:\"+str(datos[0]), \"mes:\", datos[1], \"año:\", datos[2])\n",
        "print(\"día:\", datos[0], \"mes:\", datos[1], \"año:\", datos[2], sep=\"\")\n",
        "print(\"día:\", (datos[0]), sep=\"\", end=\" \" )\n",
        "print(\"mes:\", datos[1], sep=\"\" )\n",
        "print(\"año:\", datos[2], sep=\"\" )"
      ],
      "metadata": {
        "colab": {
          "base_uri": "https://localhost:8080/"
        },
        "id": "_0kyeCIMkRNy",
        "outputId": "688f4885-33b8-4279-dc83-d2270aa74af4"
      },
      "execution_count": 15,
      "outputs": [
        {
          "output_type": "stream",
          "name": "stdout",
          "text": [
            "día:09 mes: 05 año: 2022\n",
            "día:09mes:05año:2022\n",
            "día:09 mes:05\n",
            "año:2022\n"
          ]
        }
      ]
    },
    {
      "cell_type": "code",
      "source": [
        "cadena = \"Bienvenidos\"\n",
        "print(cadena.ljust(30, \"-\") )\n",
        "print(cadena.rjust(30, \"-\") )\n",
        "print(cadena.center(5, \"-\") )\n",
        "print(cadena.zfill(30) )"
      ],
      "metadata": {
        "colab": {
          "base_uri": "https://localhost:8080/"
        },
        "id": "GkJVpcCSmLIg",
        "outputId": "4860c0e5-5cdc-46e6-c96b-34ce1860fe5f"
      },
      "execution_count": 21,
      "outputs": [
        {
          "output_type": "stream",
          "name": "stdout",
          "text": [
            "Bienvenidos-------------------\n",
            "-------------------Bienvenidos\n",
            "Bienvenidos\n",
            "0000000000000000000Bienvenidos\n"
          ]
        }
      ]
    },
    {
      "cell_type": "code",
      "source": [
        "valido =  False\n",
        "nombre = \"\"\n",
        "while(not valido):\n",
        "  nombre = input(\"digite un nombre entre 4 y 8 letras:\")\n",
        "  if (4 <= len(nombre) <= 8 ):\n",
        "    valido = True\n",
        "\n",
        "print(\"bienvenido\", nombre)"
      ],
      "metadata": {
        "colab": {
          "base_uri": "https://localhost:8080/"
        },
        "id": "WnAmXKsCofOj",
        "outputId": "4ca33665-5317-49de-888a-0038654e6e71"
      },
      "execution_count": 24,
      "outputs": [
        {
          "output_type": "stream",
          "name": "stdout",
          "text": [
            "digite un nombre entre 4 y 8 letras:edilberto\n",
            "digite un nombre entre 4 y 8 letras:adg\n",
            "digite un nombre entre 4 y 8 letras:elsa\n",
            "bienvenido elsa\n"
          ]
        }
      ]
    },
    {
      "cell_type": "code",
      "source": [
        "cadena = \"cien años de soledad\"\n",
        "nueva = cadena.replace(\"cien\", \"setenta\")\n",
        "print(nueva)\n",
        "nueva = nueva.replace(\"años\", \"días\")\n",
        "print(nueva)\n",
        "nueva = nueva.replace(\"soledad\", \"clases sincronicas\")\n",
        "print(nueva)"
      ],
      "metadata": {
        "colab": {
          "base_uri": "https://localhost:8080/"
        },
        "id": "hCY_8u_LpOn7",
        "outputId": "fdff5aaa-171c-4dae-b7f4-2d59df3d281d"
      },
      "execution_count": 25,
      "outputs": [
        {
          "output_type": "stream",
          "name": "stdout",
          "text": [
            "setenta años de soledad\n",
            "setenta días de soledad\n",
            "setenta días de clases sincronicas\n"
          ]
        }
      ]
    }
  ]
}