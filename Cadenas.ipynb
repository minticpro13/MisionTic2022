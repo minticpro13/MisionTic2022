{
  "nbformat": 4,
  "nbformat_minor": 0,
  "metadata": {
    "colab": {
      "name": "Cadenas.ipynb",
      "provenance": [],
      "authorship_tag": "ABX9TyPFmKTcC/9YJlJ2Vta3bu5D",
      "include_colab_link": true
    },
    "kernelspec": {
      "name": "python3",
      "display_name": "Python 3"
    },
    "language_info": {
      "name": "python"
    }
  },
  "cells": [
    {
      "cell_type": "markdown",
      "metadata": {
        "id": "view-in-github",
        "colab_type": "text"
      },
      "source": [
        "<a href=\"https://colab.research.google.com/github/minticpro13/MisionTic2022/blob/main/Cadenas.ipynb\" target=\"_parent\"><img src=\"https://colab.research.google.com/assets/colab-badge.svg\" alt=\"Open In Colab\"/></a>"
      ]
    },
    {
      "cell_type": "code",
      "execution_count": 8,
      "metadata": {
        "colab": {
          "base_uri": "https://localhost:8080/"
        },
        "id": "XC49PXC4Ilth",
        "outputId": "dc936a3f-a7c4-47da-c2c5-0aee2335d2a4"
      },
      "outputs": [
        {
          "output_type": "stream",
          "name": "stdout",
          "text": [
            "4\n",
            "8\n",
            "9\n",
            "6\n",
            "8\n",
            "4\n",
            "5\n",
            "iguales\n"
          ]
        }
      ],
      "source": [
        "cadena = \"la clase ya casi se acaba\"\n",
        "numero = 4896845\n",
        "# for letra in cadena:\n",
        "#   print(letra)\n",
        "for digito in str(numero):\n",
        "  print(digito)\n",
        "\n",
        "if cadena[-1] == \"a\":\n",
        "  print(\"iguales\")\n"
      ]
    }
  ]
}