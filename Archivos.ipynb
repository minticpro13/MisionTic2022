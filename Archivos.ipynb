{
  "nbformat": 4,
  "nbformat_minor": 0,
  "metadata": {
    "colab": {
      "name": "Archivos.ipynb",
      "provenance": [],
      "authorship_tag": "ABX9TyOhhwtzGse8hxenD8KVSfOq",
      "include_colab_link": true
    },
    "kernelspec": {
      "name": "python3",
      "display_name": "Python 3"
    },
    "language_info": {
      "name": "python"
    }
  },
  "cells": [
    {
      "cell_type": "markdown",
      "metadata": {
        "id": "view-in-github",
        "colab_type": "text"
      },
      "source": [
        "<a href=\"https://colab.research.google.com/github/minticpro13/MisionTic2022/blob/main/Archivos.ipynb\" target=\"_parent\"><img src=\"https://colab.research.google.com/assets/colab-badge.svg\" alt=\"Open In Colab\"/></a>"
      ]
    },
    {
      "cell_type": "code",
      "source": [
        "ruta= \"files/data.txt\"\n",
        "with open(ruta, \"r\") as f: #f = open(ruta,\"r\")\n",
        "  data = f.read()\n",
        "  print(data)\n"
      ],
      "metadata": {
        "colab": {
          "base_uri": "https://localhost:8080/"
        },
        "id": "xV5Dity502KE",
        "outputId": "c5a9db93-90d2-4444-c20b-d03abdfac2e8"
      },
      "execution_count": 37,
      "outputs": [
        {
          "output_type": "stream",
          "name": "stdout",
          "text": [
            "Hola Estudiantes!!!\n"
          ]
        }
      ]
    },
    {
      "cell_type": "code",
      "source": [
        "with open(\"files/wdata.txt\", \"w\") as archivo: \n",
        "  data = \"guardando en un archivo...\\n\"\n",
        "\n",
        "  archivo.write(data)\n",
        "  archivo.write(data)\n"
      ],
      "metadata": {
        "id": "aMchUN5J9S0k"
      },
      "execution_count": 40,
      "outputs": []
    },
    {
      "cell_type": "code",
      "source": [
        "with open(\"files/wdata.txt\", \"a\") as archivo: \n",
        "  data = \"agregando...\\n\"\n",
        "\n",
        "  archivo.write(data)\n",
        "  archivo.write(data)\n",
        "  "
      ],
      "metadata": {
        "id": "rpJkCus4-H4M"
      },
      "execution_count": 43,
      "outputs": []
    },
    {
      "cell_type": "code",
      "source": [
        "with open(\"files/wdata.txt\", \"r+\") as archivo: \n",
        "  data = \"guardando en un archivo...\\n\"\n",
        "  contenido = archivo.read()\n",
        "  archivo.write(data)\n",
        "  archivo.write(data)\n",
        "  print(contenido)"
      ],
      "metadata": {
        "colab": {
          "base_uri": "https://localhost:8080/"
        },
        "id": "kJQJZ70h-k-C",
        "outputId": "b73ed047-f9c8-46f5-9077-195e4b5e2ef0"
      },
      "execution_count": 45,
      "outputs": [
        {
          "output_type": "stream",
          "name": "stdout",
          "text": [
            "guardando en un archivo...\n",
            "guardando en un archivo...\n",
            "agregando...\n",
            "agregando...\n",
            "agregando...\n",
            "agregando.guardando en un archivo...\n",
            "guardando en un archivo...\n",
            "\n"
          ]
        }
      ]
    },
    {
      "cell_type": "code",
      "source": [
        "with open(\"files/data1.txt\", \"r\", encoding=\"utf-8\") as f: \n",
        "  data = f.read()\n",
        "  print(data)"
      ],
      "metadata": {
        "colab": {
          "base_uri": "https://localhost:8080/",
          "height": 340
        },
        "id": "-wN5nNXw_bhV",
        "outputId": "8b55e7d9-6ff4-48e7-c7b4-5bea66f3dcf2"
      },
      "execution_count": 49,
      "outputs": [
        {
          "output_type": "error",
          "ename": "UnicodeDecodeError",
          "evalue": "ignored",
          "traceback": [
            "\u001b[0;31m---------------------------------------------------------------------------\u001b[0m",
            "\u001b[0;31mUnicodeDecodeError\u001b[0m                        Traceback (most recent call last)",
            "\u001b[0;32m<ipython-input-49-65ace3b8fd27>\u001b[0m in \u001b[0;36m<module>\u001b[0;34m()\u001b[0m\n\u001b[1;32m      1\u001b[0m \u001b[0;32mwith\u001b[0m \u001b[0mopen\u001b[0m\u001b[0;34m(\u001b[0m\u001b[0;34m\"files/data1.txt\"\u001b[0m\u001b[0;34m,\u001b[0m \u001b[0;34m\"r\"\u001b[0m\u001b[0;34m,\u001b[0m \u001b[0mencoding\u001b[0m\u001b[0;34m=\u001b[0m\u001b[0;34m\"ASCII\"\u001b[0m\u001b[0;34m)\u001b[0m \u001b[0;32mas\u001b[0m \u001b[0mf\u001b[0m\u001b[0;34m:\u001b[0m\u001b[0;34m\u001b[0m\u001b[0;34m\u001b[0m\u001b[0m\n\u001b[0;32m----> 2\u001b[0;31m   \u001b[0mdata\u001b[0m \u001b[0;34m=\u001b[0m \u001b[0mf\u001b[0m\u001b[0;34m.\u001b[0m\u001b[0mread\u001b[0m\u001b[0;34m(\u001b[0m\u001b[0;34m)\u001b[0m\u001b[0;34m\u001b[0m\u001b[0;34m\u001b[0m\u001b[0m\n\u001b[0m\u001b[1;32m      3\u001b[0m   \u001b[0mprint\u001b[0m\u001b[0;34m(\u001b[0m\u001b[0mdata\u001b[0m\u001b[0;34m)\u001b[0m\u001b[0;34m\u001b[0m\u001b[0;34m\u001b[0m\u001b[0m\n",
            "\u001b[0;32m/usr/lib/python3.7/encodings/ascii.py\u001b[0m in \u001b[0;36mdecode\u001b[0;34m(self, input, final)\u001b[0m\n\u001b[1;32m     24\u001b[0m \u001b[0;32mclass\u001b[0m \u001b[0mIncrementalDecoder\u001b[0m\u001b[0;34m(\u001b[0m\u001b[0mcodecs\u001b[0m\u001b[0;34m.\u001b[0m\u001b[0mIncrementalDecoder\u001b[0m\u001b[0;34m)\u001b[0m\u001b[0;34m:\u001b[0m\u001b[0;34m\u001b[0m\u001b[0;34m\u001b[0m\u001b[0m\n\u001b[1;32m     25\u001b[0m     \u001b[0;32mdef\u001b[0m \u001b[0mdecode\u001b[0m\u001b[0;34m(\u001b[0m\u001b[0mself\u001b[0m\u001b[0;34m,\u001b[0m \u001b[0minput\u001b[0m\u001b[0;34m,\u001b[0m \u001b[0mfinal\u001b[0m\u001b[0;34m=\u001b[0m\u001b[0;32mFalse\u001b[0m\u001b[0;34m)\u001b[0m\u001b[0;34m:\u001b[0m\u001b[0;34m\u001b[0m\u001b[0;34m\u001b[0m\u001b[0m\n\u001b[0;32m---> 26\u001b[0;31m         \u001b[0;32mreturn\u001b[0m \u001b[0mcodecs\u001b[0m\u001b[0;34m.\u001b[0m\u001b[0mascii_decode\u001b[0m\u001b[0;34m(\u001b[0m\u001b[0minput\u001b[0m\u001b[0;34m,\u001b[0m \u001b[0mself\u001b[0m\u001b[0;34m.\u001b[0m\u001b[0merrors\u001b[0m\u001b[0;34m)\u001b[0m\u001b[0;34m[\u001b[0m\u001b[0;36m0\u001b[0m\u001b[0;34m]\u001b[0m\u001b[0;34m\u001b[0m\u001b[0;34m\u001b[0m\u001b[0m\n\u001b[0m\u001b[1;32m     27\u001b[0m \u001b[0;34m\u001b[0m\u001b[0m\n\u001b[1;32m     28\u001b[0m \u001b[0;32mclass\u001b[0m \u001b[0mStreamWriter\u001b[0m\u001b[0;34m(\u001b[0m\u001b[0mCodec\u001b[0m\u001b[0;34m,\u001b[0m\u001b[0mcodecs\u001b[0m\u001b[0;34m.\u001b[0m\u001b[0mStreamWriter\u001b[0m\u001b[0;34m)\u001b[0m\u001b[0;34m:\u001b[0m\u001b[0;34m\u001b[0m\u001b[0;34m\u001b[0m\u001b[0m\n",
            "\u001b[0;31mUnicodeDecodeError\u001b[0m: 'ascii' codec can't decode byte 0xc3 in position 12: ordinal not in range(128)"
          ]
        }
      ]
    },
    {
      "cell_type": "code",
      "source": [
        "with open(\"files/data1.txt\", \"r\", encoding=\"utf-8\") as f: \n",
        "  data = f.read(6)\n",
        "  print(data)\n",
        "  data = f.read(14000)\n",
        "  print(data)"
      ],
      "metadata": {
        "colab": {
          "base_uri": "https://localhost:8080/"
        },
        "id": "bKqVYEBm_4aH",
        "outputId": "8124f409-7cfa-4272-e465-60272e2b52dc"
      },
      "execution_count": 51,
      "outputs": [
        {
          "output_type": "stream",
          "name": "stdout",
          "text": [
            "Esta e\n",
            "s la línea 1: abcabcabc\n",
            "Esta es la línea 2: abcabcabc\n",
            "Esta es la línea 3: abcabcabc\n"
          ]
        }
      ]
    },
    {
      "cell_type": "code",
      "source": [
        "with open(\"files/data1.txt\", \"r\") as f:\n",
        "  for i in range(3):\n",
        "    # data = f.readline()\n",
        "    print(data, end= \"\")"
      ],
      "metadata": {
        "colab": {
          "base_uri": "https://localhost:8080/"
        },
        "id": "6G7JCINqBV9U",
        "outputId": "b2e7647a-01e2-41af-b6cd-33818e7073a7"
      },
      "execution_count": 55,
      "outputs": [
        {
          "output_type": "stream",
          "name": "stdout",
          "text": [
            "Esta es la línea 1: abcabcabc\n",
            "Esta es la línea 2: abcabcabc\n",
            "Esta es la línea 3: abcabcabc"
          ]
        }
      ]
    },
    {
      "cell_type": "code",
      "source": [
        "with open(\"files/data1.txt\", \"r\") as f:\n",
        "    print(f.readline())"
      ],
      "metadata": {
        "colab": {
          "base_uri": "https://localhost:8080/"
        },
        "id": "p4Jw0mVRCtKC",
        "outputId": "5e51e618-36ab-4333-bb73-4cf11c99938a"
      },
      "execution_count": 57,
      "outputs": [
        {
          "output_type": "stream",
          "name": "stdout",
          "text": [
            "<built-in method readline of _io.TextIOWrapper object at 0x7f492616bad0>\n"
          ]
        }
      ]
    },
    {
      "cell_type": "code",
      "source": [
        "with open(\"files/data1.txt\", \"r\", encoding=\"utf-8\") as f:\n",
        "  print(\"Nombre del archivo: \", f.name)\n",
        "  lista = f.readlines()\n",
        "  for linea in lista:\n",
        "    print(linea)\n"
      ],
      "metadata": {
        "colab": {
          "base_uri": "https://localhost:8080/"
        },
        "id": "uYKxYKuPDYCT",
        "outputId": "ec6b1eaf-c9d2-4e31-ef2d-6e8741796d5f"
      },
      "execution_count": 59,
      "outputs": [
        {
          "output_type": "stream",
          "name": "stdout",
          "text": [
            "Nombre del archivo:  files/data1.txt\n",
            "Esta es la línea 1: abcabcabc\n",
            "\n",
            "Esta es la línea 2: abcabcabc\n",
            "\n",
            "Esta es la línea 3: abcabcabc\n"
          ]
        }
      ]
    },
    {
      "cell_type": "code",
      "source": [
        "with open(\"files/data1.txt\", \"r\", encoding=\"utf-8\") as f:\n",
        "  for linea in f:\n",
        "    print(linea, end=\"\")"
      ],
      "metadata": {
        "colab": {
          "base_uri": "https://localhost:8080/"
        },
        "id": "Opiefa4pELI3",
        "outputId": "c10fa229-2082-4d0a-d5fd-7c3107194ce7"
      },
      "execution_count": 60,
      "outputs": [
        {
          "output_type": "stream",
          "name": "stdout",
          "text": [
            "Esta es la línea 1: abcabcabc\n",
            "Esta es la línea 2: abcabcabc\n",
            "Esta es la línea 3: abcabcabc"
          ]
        }
      ]
    },
    {
      "cell_type": "code",
      "source": [
        "with open(\"files/data2.txt\", \"a+\", encoding=\"utf-8\") as f:\n",
        "  f.write(\"\\nEsta es la línea 4: abcabcabc\")"
      ],
      "metadata": {
        "id": "dx3COnhSEmQV"
      },
      "execution_count": 62,
      "outputs": []
    },
    {
      "cell_type": "code",
      "source": [
        "values = [ 1231, 1325, 1235.5, False]\n",
        "with open(\"files/data3.txt\", \"w+\", encoding=\"utf-8\") as f:\n",
        "  \n",
        "  for elemento in values:\n",
        "    str_value = str(elemento)\n",
        "    f.write(str_value+\"\\n\")"
      ],
      "metadata": {
        "id": "y-9r-gzWFSb6"
      },
      "execution_count": 67,
      "outputs": []
    }
  ]
}