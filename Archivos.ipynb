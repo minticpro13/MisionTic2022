{
  "nbformat": 4,
  "nbformat_minor": 0,
  "metadata": {
    "colab": {
      "name": "Archivos.ipynb",
      "provenance": [],
      "authorship_tag": "ABX9TyOJTM/nowXckPEwcwMwo64S",
      "include_colab_link": true
    },
    "kernelspec": {
      "name": "python3",
      "display_name": "Python 3"
    },
    "language_info": {
      "name": "python"
    }
  },
  "cells": [
    {
      "cell_type": "markdown",
      "metadata": {
        "id": "view-in-github",
        "colab_type": "text"
      },
      "source": [
        "<a href=\"https://colab.research.google.com/github/minticpro13/MisionTic2022/blob/main/Archivos.ipynb\" target=\"_parent\"><img src=\"https://colab.research.google.com/assets/colab-badge.svg\" alt=\"Open In Colab\"/></a>"
      ]
    },
    {
      "cell_type": "code",
      "source": [
        "ruta= \"files/data.txt\"\n",
        "with open(ruta, \"r\") as f: #f = open(ruta,\"r\")\n",
        "  data = f.read()\n",
        "  print(data)\n"
      ],
      "metadata": {
        "colab": {
          "base_uri": "https://localhost:8080/"
        },
        "id": "xV5Dity502KE",
        "outputId": "c5a9db93-90d2-4444-c20b-d03abdfac2e8"
      },
      "execution_count": null,
      "outputs": [
        {
          "output_type": "stream",
          "name": "stdout",
          "text": [
            "Hola Estudiantes!!!\n"
          ]
        }
      ]
    },
    {
      "cell_type": "code",
      "source": [
        "with open(\"files/wdata.txt\", \"w\") as archivo: \n",
        "  data = \"guardando en un archivo...\\n\"\n",
        "\n",
        "  archivo.write(data)\n",
        "  archivo.write(data)\n"
      ],
      "metadata": {
        "id": "aMchUN5J9S0k"
      },
      "execution_count": null,
      "outputs": []
    },
    {
      "cell_type": "code",
      "source": [
        "with open(\"files/wdata.txt\", \"a\") as archivo: \n",
        "  data = \"agregando...\\n\"\n",
        "\n",
        "  archivo.write(data)\n",
        "  archivo.write(data)\n",
        "  "
      ],
      "metadata": {
        "id": "rpJkCus4-H4M"
      },
      "execution_count": null,
      "outputs": []
    },
    {
      "cell_type": "code",
      "source": [
        "with open(\"files/wdata.txt\", \"r+\") as archivo: \n",
        "  data = \"guardando en un archivo...\\n\"\n",
        "  contenido = archivo.read()\n",
        "  archivo.write(data)\n",
        "  archivo.write(data)\n",
        "  print(contenido)"
      ],
      "metadata": {
        "colab": {
          "base_uri": "https://localhost:8080/"
        },
        "id": "kJQJZ70h-k-C",
        "outputId": "b73ed047-f9c8-46f5-9077-195e4b5e2ef0"
      },
      "execution_count": null,
      "outputs": [
        {
          "output_type": "stream",
          "name": "stdout",
          "text": [
            "guardando en un archivo...\n",
            "guardando en un archivo...\n",
            "agregando...\n",
            "agregando...\n",
            "agregando...\n",
            "agregando.guardando en un archivo...\n",
            "guardando en un archivo...\n",
            "\n"
          ]
        }
      ]
    },
    {
      "cell_type": "code",
      "source": [
        "with open(\"files/data1.txt\", \"r\", encoding=\"utf-8\") as f: \n",
        "  data = f.read()\n",
        "  print(data)"
      ],
      "metadata": {
        "colab": {
          "base_uri": "https://localhost:8080/",
          "height": 323
        },
        "id": "-wN5nNXw_bhV",
        "outputId": "8b55e7d9-6ff4-48e7-c7b4-5bea66f3dcf2"
      },
      "execution_count": null,
      "outputs": [
        {
          "output_type": "error",
          "ename": "UnicodeDecodeError",
          "evalue": "ignored",
          "traceback": [
            "\u001b[0;31m---------------------------------------------------------------------------\u001b[0m",
            "\u001b[0;31mUnicodeDecodeError\u001b[0m                        Traceback (most recent call last)",
            "\u001b[0;32m<ipython-input-49-65ace3b8fd27>\u001b[0m in \u001b[0;36m<module>\u001b[0;34m()\u001b[0m\n\u001b[1;32m      1\u001b[0m \u001b[0;32mwith\u001b[0m \u001b[0mopen\u001b[0m\u001b[0;34m(\u001b[0m\u001b[0;34m\"files/data1.txt\"\u001b[0m\u001b[0;34m,\u001b[0m \u001b[0;34m\"r\"\u001b[0m\u001b[0;34m,\u001b[0m \u001b[0mencoding\u001b[0m\u001b[0;34m=\u001b[0m\u001b[0;34m\"ASCII\"\u001b[0m\u001b[0;34m)\u001b[0m \u001b[0;32mas\u001b[0m \u001b[0mf\u001b[0m\u001b[0;34m:\u001b[0m\u001b[0;34m\u001b[0m\u001b[0;34m\u001b[0m\u001b[0m\n\u001b[0;32m----> 2\u001b[0;31m   \u001b[0mdata\u001b[0m \u001b[0;34m=\u001b[0m \u001b[0mf\u001b[0m\u001b[0;34m.\u001b[0m\u001b[0mread\u001b[0m\u001b[0;34m(\u001b[0m\u001b[0;34m)\u001b[0m\u001b[0;34m\u001b[0m\u001b[0;34m\u001b[0m\u001b[0m\n\u001b[0m\u001b[1;32m      3\u001b[0m   \u001b[0mprint\u001b[0m\u001b[0;34m(\u001b[0m\u001b[0mdata\u001b[0m\u001b[0;34m)\u001b[0m\u001b[0;34m\u001b[0m\u001b[0;34m\u001b[0m\u001b[0m\n",
            "\u001b[0;32m/usr/lib/python3.7/encodings/ascii.py\u001b[0m in \u001b[0;36mdecode\u001b[0;34m(self, input, final)\u001b[0m\n\u001b[1;32m     24\u001b[0m \u001b[0;32mclass\u001b[0m \u001b[0mIncrementalDecoder\u001b[0m\u001b[0;34m(\u001b[0m\u001b[0mcodecs\u001b[0m\u001b[0;34m.\u001b[0m\u001b[0mIncrementalDecoder\u001b[0m\u001b[0;34m)\u001b[0m\u001b[0;34m:\u001b[0m\u001b[0;34m\u001b[0m\u001b[0;34m\u001b[0m\u001b[0m\n\u001b[1;32m     25\u001b[0m     \u001b[0;32mdef\u001b[0m \u001b[0mdecode\u001b[0m\u001b[0;34m(\u001b[0m\u001b[0mself\u001b[0m\u001b[0;34m,\u001b[0m \u001b[0minput\u001b[0m\u001b[0;34m,\u001b[0m \u001b[0mfinal\u001b[0m\u001b[0;34m=\u001b[0m\u001b[0;32mFalse\u001b[0m\u001b[0;34m)\u001b[0m\u001b[0;34m:\u001b[0m\u001b[0;34m\u001b[0m\u001b[0;34m\u001b[0m\u001b[0m\n\u001b[0;32m---> 26\u001b[0;31m         \u001b[0;32mreturn\u001b[0m \u001b[0mcodecs\u001b[0m\u001b[0;34m.\u001b[0m\u001b[0mascii_decode\u001b[0m\u001b[0;34m(\u001b[0m\u001b[0minput\u001b[0m\u001b[0;34m,\u001b[0m \u001b[0mself\u001b[0m\u001b[0;34m.\u001b[0m\u001b[0merrors\u001b[0m\u001b[0;34m)\u001b[0m\u001b[0;34m[\u001b[0m\u001b[0;36m0\u001b[0m\u001b[0;34m]\u001b[0m\u001b[0;34m\u001b[0m\u001b[0;34m\u001b[0m\u001b[0m\n\u001b[0m\u001b[1;32m     27\u001b[0m \u001b[0;34m\u001b[0m\u001b[0m\n\u001b[1;32m     28\u001b[0m \u001b[0;32mclass\u001b[0m \u001b[0mStreamWriter\u001b[0m\u001b[0;34m(\u001b[0m\u001b[0mCodec\u001b[0m\u001b[0;34m,\u001b[0m\u001b[0mcodecs\u001b[0m\u001b[0;34m.\u001b[0m\u001b[0mStreamWriter\u001b[0m\u001b[0;34m)\u001b[0m\u001b[0;34m:\u001b[0m\u001b[0;34m\u001b[0m\u001b[0;34m\u001b[0m\u001b[0m\n",
            "\u001b[0;31mUnicodeDecodeError\u001b[0m: 'ascii' codec can't decode byte 0xc3 in position 12: ordinal not in range(128)"
          ]
        }
      ]
    },
    {
      "cell_type": "code",
      "source": [
        "with open(\"files/data1.txt\", \"r\", encoding=\"utf-8\") as f: \n",
        "  data = f.read(6)\n",
        "  print(data)\n",
        "  data = f.read(14000)\n",
        "  print(data)"
      ],
      "metadata": {
        "colab": {
          "base_uri": "https://localhost:8080/"
        },
        "id": "bKqVYEBm_4aH",
        "outputId": "8124f409-7cfa-4272-e465-60272e2b52dc"
      },
      "execution_count": null,
      "outputs": [
        {
          "output_type": "stream",
          "name": "stdout",
          "text": [
            "Esta e\n",
            "s la línea 1: abcabcabc\n",
            "Esta es la línea 2: abcabcabc\n",
            "Esta es la línea 3: abcabcabc\n"
          ]
        }
      ]
    },
    {
      "cell_type": "code",
      "source": [
        "with open(\"files/data1.txt\", \"r\") as f:\n",
        "  for i in range(3):\n",
        "    # data = f.readline()\n",
        "    print(data, end= \"\")"
      ],
      "metadata": {
        "colab": {
          "base_uri": "https://localhost:8080/"
        },
        "id": "6G7JCINqBV9U",
        "outputId": "b2e7647a-01e2-41af-b6cd-33818e7073a7"
      },
      "execution_count": null,
      "outputs": [
        {
          "output_type": "stream",
          "name": "stdout",
          "text": [
            "Esta es la línea 1: abcabcabc\n",
            "Esta es la línea 2: abcabcabc\n",
            "Esta es la línea 3: abcabcabc"
          ]
        }
      ]
    },
    {
      "cell_type": "code",
      "source": [
        "with open(\"files/data1.txt\", \"r\") as f:\n",
        "    print(f.readline())"
      ],
      "metadata": {
        "colab": {
          "base_uri": "https://localhost:8080/"
        },
        "id": "p4Jw0mVRCtKC",
        "outputId": "5e51e618-36ab-4333-bb73-4cf11c99938a"
      },
      "execution_count": null,
      "outputs": [
        {
          "output_type": "stream",
          "name": "stdout",
          "text": [
            "<built-in method readline of _io.TextIOWrapper object at 0x7f492616bad0>\n"
          ]
        }
      ]
    },
    {
      "cell_type": "code",
      "source": [
        "with open(\"files/data1.txt\", \"r\", encoding=\"utf-8\") as f:\n",
        "  print(\"Nombre del archivo: \", f.name)\n",
        "  lista = f.readlines()\n",
        "  for linea in lista:\n",
        "    print(linea)\n"
      ],
      "metadata": {
        "colab": {
          "base_uri": "https://localhost:8080/"
        },
        "id": "uYKxYKuPDYCT",
        "outputId": "ec6b1eaf-c9d2-4e31-ef2d-6e8741796d5f"
      },
      "execution_count": null,
      "outputs": [
        {
          "output_type": "stream",
          "name": "stdout",
          "text": [
            "Nombre del archivo:  files/data1.txt\n",
            "Esta es la línea 1: abcabcabc\n",
            "\n",
            "Esta es la línea 2: abcabcabc\n",
            "\n",
            "Esta es la línea 3: abcabcabc\n"
          ]
        }
      ]
    },
    {
      "cell_type": "code",
      "source": [
        "with open(\"files/data1.txt\", \"r\", encoding=\"utf-8\") as f:\n",
        "  for linea in f:\n",
        "    print(linea, end=\"\")"
      ],
      "metadata": {
        "colab": {
          "base_uri": "https://localhost:8080/"
        },
        "id": "Opiefa4pELI3",
        "outputId": "c10fa229-2082-4d0a-d5fd-7c3107194ce7"
      },
      "execution_count": null,
      "outputs": [
        {
          "output_type": "stream",
          "name": "stdout",
          "text": [
            "Esta es la línea 1: abcabcabc\n",
            "Esta es la línea 2: abcabcabc\n",
            "Esta es la línea 3: abcabcabc"
          ]
        }
      ]
    },
    {
      "cell_type": "code",
      "source": [
        "with open(\"files/data2.txt\", \"a+\", encoding=\"utf-8\") as f:\n",
        "  f.write(\"\\nEsta es la línea 4: abcabcabc\")"
      ],
      "metadata": {
        "id": "dx3COnhSEmQV"
      },
      "execution_count": null,
      "outputs": []
    },
    {
      "cell_type": "code",
      "source": [
        "values = [ 1231, 1325, 1235.5, False]\n",
        "with open(\"files/data3.txt\", \"w+\", encoding=\"utf-8\") as f:\n",
        "  \n",
        "  for elemento in values:\n",
        "    str_value = str(elemento)\n",
        "    f.write(str_value+\"\\n\")"
      ],
      "metadata": {
        "id": "y-9r-gzWFSb6"
      },
      "execution_count": null,
      "outputs": []
    },
    {
      "cell_type": "code",
      "source": [
        "with open(\"files/data4.txt\",\"r\") as f:\n",
        "  f.seek(11,0)\n",
        "  # print(f.tell())\n",
        "  data = f.read()\n",
        "  # print(f.tell())\n",
        "  print(data)"
      ],
      "metadata": {
        "colab": {
          "base_uri": "https://localhost:8080/"
        },
        "id": "sbX5Nou9XeGq",
        "outputId": "a51783ff-c69b-4820-fe15-8c8919feb46a"
      },
      "execution_count": 4,
      "outputs": [
        {
          "output_type": "stream",
          "name": "stdout",
          "text": [
            "11\n",
            "31\n",
            "letras\n",
            "1234\n",
            "5678\n",
            "\n"
          ]
        }
      ]
    },
    {
      "cell_type": "code",
      "source": [
        "with open(\"files/data4.txt\",\"a+\") as f:\n",
        "  print(f.tell())"
      ],
      "metadata": {
        "id": "181PmvGfcklE",
        "colab": {
          "base_uri": "https://localhost:8080/"
        },
        "outputId": "2b062375-7e80-4db5-8321-f465a82a48f0"
      },
      "execution_count": 5,
      "outputs": [
        {
          "output_type": "stream",
          "name": "stdout",
          "text": [
            "31\n"
          ]
        }
      ]
    },
    {
      "cell_type": "code",
      "source": [
        "# Abre el archivo en modo de s´olo lectura\n",
        "with open(\"files/data5.txt\", \"r\", encoding=\"utf-8\") as f:\n",
        "  list_content = f.readlines()\n",
        "  list_content.insert(1, \"Esta es la línea 1.5: jajaja\\n\")\n",
        "# Re-abre el archivo en modo de s´olo escritura\n",
        "# para sobreescribir la versi´on anterior de ´este\n",
        "# with open(\"files/data5.txt\", \"w\", encoding=\"utf-8\") as f:\n",
        "#   contenido = \"\".join(list_content)\n",
        "#   f.write(contenido)\n",
        "with open(\"files/data5.txt\", \"w\", encoding=\"utf-8\") as f:\n",
        "  for linea in list_content:\n",
        "    f.write(linea)"
      ],
      "metadata": {
        "id": "mQ1xuY5g5cSl"
      },
      "execution_count": 8,
      "outputs": []
    },
    {
      "cell_type": "code",
      "source": [
        "import os\n",
        "entries = os.scandir(\"files/\")\n",
        "# print(type(entries))\n",
        "for entry in entries:\n",
        "  print(entry.name + \", es directorio: \"\n",
        "  + str(entry.is_dir()) + \", size: \" +\n",
        "  str(entry.stat().st_size) + \" bytes.\")"
      ],
      "metadata": {
        "colab": {
          "base_uri": "https://localhost:8080/"
        },
        "id": "OJb1-E4O6osd",
        "outputId": "79206bd5-65e7-4561-bd7e-cb7f1ba45466"
      },
      "execution_count": 11,
      "outputs": [
        {
          "output_type": "stream",
          "name": "stdout",
          "text": [
            "data1.txt, es directorio: False, size: 94 bytes.\n",
            "names.txt, es directorio: False, size: 220 bytes.\n",
            "SalesJan2009.csv, es directorio: False, size: 130480 bytes.\n",
            "data5.txt, es directorio: False, size: 123 bytes.\n",
            "discurso.jpg, es directorio: False, size: 59808 bytes.\n",
            "python_es.txt, es directorio: False, size: 33754 bytes.\n",
            "data3.txt, es directorio: False, size: 18 bytes.\n",
            "programming_powers.pkl, es directorio: False, size: 154 bytes.\n",
            "wdataegghgg.txt, es directorio: False, size: 36 bytes.\n",
            "copy.jpg, es directorio: False, size: 59808 bytes.\n",
            "data.txt, es directorio: False, size: 14 bytes.\n",
            "wdata.txt, es directorio: False, size: 117 bytes.\n",
            "wdatas.txt, es directorio: False, size: 117 bytes.\n",
            "data4.txt, es directorio: False, size: 31 bytes.\n",
            "data2.txt, es directorio: False, size: 130 bytes.\n"
          ]
        }
      ]
    },
    {
      "cell_type": "code",
      "source": [
        "import pickle\n",
        "name = [\"mohit\", \"bhaskar\", \"manish\", 45]\n",
        "skill = [\"Python\", \"Python\", \"Java\", \"año\"]\n",
        "dict1 = dict(zip(name, skill))\n",
        "\n",
        "\n",
        "print(name)\n",
        "print(skill)\n",
        "print(dict1)\n",
        "with open(\"files/programming_powers.pkl\", \"wb\") as p_file:\n",
        "  pickle.dump(name, p_file)\n",
        "  pickle.dump(skill, p_file)\n",
        "  pickle.dump(dict1, p_file)\n"
      ],
      "metadata": {
        "colab": {
          "base_uri": "https://localhost:8080/"
        },
        "id": "QfTh0F1w8EP_",
        "outputId": "ffe7174f-3e59-43fe-fb33-a2385fa31eeb"
      },
      "execution_count": 17,
      "outputs": [
        {
          "output_type": "stream",
          "name": "stdout",
          "text": [
            "['mohit', 'bhaskar', 'manish', 45]\n",
            "['Python', 'Python', 'Java', 'año']\n",
            "{'mohit': 'Python', 'bhaskar': 'Python', 'manish': 'Java', 45: 'año'}\n"
          ]
        }
      ]
    },
    {
      "cell_type": "code",
      "source": [
        "import pickle\n",
        "with open(\"files/programming_powers.pkl\", \"rb\") as p_file:\n",
        "  data1 = pickle.load(p_file)\n",
        "  data2 = pickle.load(p_file)\n",
        "  data3 = pickle.load(p_file)\n",
        "\n",
        "print(data1)\n",
        "print(data2)\n",
        "print(data3)"
      ],
      "metadata": {
        "colab": {
          "base_uri": "https://localhost:8080/"
        },
        "id": "B0Dv26X29ICq",
        "outputId": "1756d912-5a3f-40ce-e3fe-0a28b628ab4d"
      },
      "execution_count": 18,
      "outputs": [
        {
          "output_type": "stream",
          "name": "stdout",
          "text": [
            "['mohit', 'bhaskar', 'manish', 45]\n",
            "['Python', 'Python', 'Java', 'año']\n",
            "{'mohit': 'Python', 'bhaskar': 'Python', 'manish': 'Java', 45: 'año'}\n"
          ]
        }
      ]
    },
    {
      "cell_type": "code",
      "source": [
        "with open(\"files/discurso.jpg\", \"rb\") as imagen:\n",
        "  data = imagen.read()\n",
        "  \n",
        "with open(\"files/copy.jpg\", \"wb\") as f:\n",
        "  f.write(data)\n"
      ],
      "metadata": {
        "id": "pfipQqn_-t9R"
      },
      "execution_count": 20,
      "outputs": []
    },
    {
      "cell_type": "code",
      "source": [
        ""
      ],
      "metadata": {
        "colab": {
          "base_uri": "https://localhost:8080/"
        },
        "id": "wHsJuYdQDIi4",
        "outputId": "04c9b0c7-6403-4c9c-8492-296d5c885eef"
      },
      "execution_count": 28,
      "outputs": [
        {
          "output_type": "stream",
          "name": "stdout",
          "text": [
            "16\n",
            "8\n",
            "24\n"
          ]
        }
      ]
    }
  ]
}