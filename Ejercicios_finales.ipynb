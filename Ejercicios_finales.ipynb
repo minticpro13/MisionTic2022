{
  "nbformat": 4,
  "nbformat_minor": 0,
  "metadata": {
    "colab": {
      "name": "Ejercicios finales.ipynb",
      "provenance": [],
      "authorship_tag": "ABX9TyOK4ph+KaCnp57KI5SHIFWn",
      "include_colab_link": true
    },
    "kernelspec": {
      "name": "python3",
      "display_name": "Python 3"
    },
    "language_info": {
      "name": "python"
    }
  },
  "cells": [
    {
      "cell_type": "markdown",
      "metadata": {
        "id": "view-in-github",
        "colab_type": "text"
      },
      "source": [
        "<a href=\"https://colab.research.google.com/github/minticpro13/MisionTic2022/blob/main/Ejercicios_finales.ipynb\" target=\"_parent\"><img src=\"https://colab.research.google.com/assets/colab-badge.svg\" alt=\"Open In Colab\"/></a>"
      ]
    },
    {
      "cell_type": "code",
      "execution_count": 7,
      "metadata": {
        "colab": {
          "base_uri": "https://localhost:8080/"
        },
        "id": "ocO-AL8I94bi",
        "outputId": "13df648e-a5a4-4013-d332-03900e45ca09"
      },
      "outputs": [
        {
          "output_type": "stream",
          "name": "stdout",
          "text": [
            "(1, 1)\n"
          ]
        }
      ],
      "source": [
        "def encontrar_manzana(barrio):\n",
        " \n",
        "    alto = len(barrio)\n",
        "    ancho = len(barrio[0])\n",
        " \n",
        "    matriz_nueva =[]\n",
        "    for i in range(alto):\n",
        "        matriz_nueva.append([])\n",
        "        for j in range(ancho):\n",
        "            matriz_nueva[i].append(0)\n",
        " \n",
        "    for i in range(alto):\n",
        "        for j in range(ancho):\n",
        "            # si esta en la primera fila:\n",
        "            if i==0:\n",
        "                # y en la primera columna:\n",
        "                if j==0:\n",
        "                    matriz_nueva[i][j] = barrio[i][j+1]+barrio[i+1][j]+barrio[i+1][j+1]\n",
        "                # o en la última columna:\n",
        "                elif j==ancho-1:\n",
        "                    matriz_nueva[i][j] = barrio[i][j-1]+barrio[i+1][j-1]+barrio[i+1][j]\n",
        "                # o ni en la primera ni en la última columna:\n",
        "                else:\n",
        "                    matriz_nueva[i][j] = barrio[i][j-1]+barrio[i+1][j-1]+barrio[i+1][j]+barrio[i+1][j+1]+barrio[i][j+1]\n",
        "            #si está en la última fila:          \n",
        "            elif i==alto-1:\n",
        "                # y en la primera columna:\n",
        "                if j==0:\n",
        "                    matriz_nueva[i][j] = barrio[i-1][j]+barrio[i-1][j+1]+barrio[i][j+1]\n",
        "                # o en la última columna:\n",
        "                elif j==ancho-1:\n",
        "                    matriz_nueva[i][j] = barrio[i][j-1]+barrio[i-1][j-1]+barrio[i-1][j]\n",
        "                # o ni en la primera ni en la última columna:\n",
        "                else:\n",
        "                    matriz_nueva[i][j] = barrio[i][j-1]+barrio[i-1][j-1]+barrio[i-1][j]+barrio[i-1][j+1]+barrio[i][j+1]\n",
        "            # si está en la primera columna y no está en la primera ni la última fila:\n",
        "            elif j==0 and i>0 and i<alto-1:\n",
        "                matriz_nueva[i][j] = barrio[i-1][j]+barrio[i-1][j+1]+barrio[i][j+1]+barrio[i+1][j+1]+barrio[i+1][j]\n",
        "            # si está en la última columna y no está en la primera ni la última fila:\n",
        "            elif j==ancho-1 and i>0 and i<alto-1:\n",
        "                matriz_nueva[i][j] = barrio[i-1][j]+barrio[i-1][j-1]+barrio[i][j-1]+barrio[i+1][j-1]+barrio[i+1][j]\n",
        "            # si no está ni en los bordes ni en los extremos:\n",
        "            else:\n",
        "                matriz_nueva[i][j] = barrio[i-1][j]+barrio[i-1][j-1]+barrio[i][j-1]+barrio[i+1][j-1]+barrio[i+1][j]+barrio[i+1][j+1]+barrio[i][j+1]+barrio[i-1][j+1]\n",
        " \n",
        "#estas 2 instrucciones son para verificar que si está sumando bien:\n",
        "    barrio =  matriz_nueva\n",
        "\n",
        "    alto = len(barrio)\n",
        "    ancho = len(barrio[0])\n",
        "\n",
        "    mayor = barrio[0][0]\n",
        "    posicion = (0,0)\n",
        "    for i in range(alto):\n",
        "        for j in range(ancho):\n",
        "            if mayor < barrio[i][j]:\n",
        "              mayor = barrio[i][j]\n",
        "              posicion = (i,j)\n",
        "    return posicion\n",
        "\n",
        "# def encontrar_mayor(barrio):\n",
        "\n",
        "#   alto = len(barrio)\n",
        "#   ancho = len(barrio[0])\n",
        "\n",
        "#   mayor = barrio[0][0]\n",
        "#   posicion = (0,0)\n",
        "#   for i in range(alto):\n",
        "#       for j in range(ancho):\n",
        "#           if mayor < barrio[i][j]:\n",
        "#             mayor = barrio[i][j]\n",
        "#             posicion = (i,j)\n",
        "#   return posicion\n",
        "\n",
        "posicion_optima = encontrar_manzana([[36,40,25,85],[60,15,28,9],[42,75,25,50]])\n",
        "# print(encontrar_mayor(barrio))\n",
        "print(posicion_optima)"
      ]
    }
  ]
}