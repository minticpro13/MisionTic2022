{
  "nbformat": 4,
  "nbformat_minor": 0,
  "metadata": {
    "colab": {
      "name": "Librerias.ipynb",
      "provenance": [],
      "authorship_tag": "ABX9TyMcC/lZo7WGpHCrFly1mT66",
      "include_colab_link": true
    },
    "kernelspec": {
      "name": "python3",
      "display_name": "Python 3"
    },
    "language_info": {
      "name": "python"
    }
  },
  "cells": [
    {
      "cell_type": "markdown",
      "metadata": {
        "id": "view-in-github",
        "colab_type": "text"
      },
      "source": [
        "<a href=\"https://colab.research.google.com/github/minticpro13/MisionTic2022/blob/main/Librerias.ipynb\" target=\"_parent\"><img src=\"https://colab.research.google.com/assets/colab-badge.svg\" alt=\"Open In Colab\"/></a>"
      ]
    },
    {
      "cell_type": "markdown",
      "source": [
        "#Numpy"
      ],
      "metadata": {
        "id": "h7UUHJJ7_RVV"
      }
    },
    {
      "cell_type": "code",
      "execution_count": null,
      "metadata": {
        "colab": {
          "base_uri": "https://localhost:8080/"
        },
        "id": "uBAG8Oio_Pqe",
        "outputId": "8f66d305-b3c4-4b32-af18-b858a6455e32"
      },
      "outputs": [
        {
          "output_type": "stream",
          "name": "stdout",
          "text": [
            "['5', 2, 3, 4]\n",
            "[5 2 3 4]\n"
          ]
        }
      ],
      "source": [
        "import numpy as np\n",
        "a = np.array(range(1,5)) # Crea un arreglo lineal\n",
        "b = list(range(1,5))\n",
        "b[0] = \"5\"\n",
        "print(b)\n",
        "# print(type(a)) # Imprime \"<class ’numpy.ndarray’>\"\n",
        "a[0] = \"5\"\n",
        "print(a)\n",
        "# print(a.shape) # Imprime \"(4,)\" es de tama~no 4, de 1 dimensi´on\n",
        "# print(a[0], a[1], a[2])\n",
        "# a[0] = -4\n",
        "# print(a)"
      ]
    },
    {
      "cell_type": "code",
      "source": [
        "b = np.array([[1,2,3,5,6],[4,5,6,7,8]]) # Crea un arreglo 2-dimensional\n",
        "print(b.shape)\n",
        "print(b)\n",
        "b[0,1] = 1590 #b[0][1]\n",
        "print(b)\n",
        "print(b[0,0], b[0,1], b[1,0])"
      ],
      "metadata": {
        "id": "IC6EHYiw_1ZT"
      },
      "execution_count": null,
      "outputs": []
    },
    {
      "cell_type": "code",
      "source": [
        "import numpy as np\n",
        "a = np.zeros((2,3,4))\n",
        "# Crea una matriz 3-dimensional (2x3x4) de ceros (0’s)\n",
        "print(a.shape)\n",
        "print(a)\n",
        "print(\"---------\")"
      ],
      "metadata": {
        "colab": {
          "base_uri": "https://localhost:8080/"
        },
        "id": "rIGmZD197Ncg",
        "outputId": "02385020-3bd1-41e8-c4df-5ec9a280960c"
      },
      "execution_count": 2,
      "outputs": [
        {
          "output_type": "stream",
          "name": "stdout",
          "text": [
            "(2, 3, 4)\n",
            "[[[0. 0. 0. 0.]\n",
            "  [0. 0. 0. 0.]\n",
            "  [0. 0. 0. 0.]]\n",
            "\n",
            " [[0. 0. 0. 0.]\n",
            "  [0. 0. 0. 0.]\n",
            "  [0. 0. 0. 0.]]]\n",
            "---------\n"
          ]
        }
      ]
    },
    {
      "cell_type": "code",
      "source": [
        "import numpy as np\n",
        "b = np.ones((2,3))\n",
        "print(b)"
      ],
      "metadata": {
        "colab": {
          "base_uri": "https://localhost:8080/"
        },
        "id": "JYvEWyj28SVO",
        "outputId": "af108208-8574-4e34-edc0-cecc3f1cc3e8"
      },
      "execution_count": 3,
      "outputs": [
        {
          "output_type": "stream",
          "name": "stdout",
          "text": [
            "[[1. 1. 1.]\n",
            " [1. 1. 1.]]\n"
          ]
        }
      ]
    },
    {
      "cell_type": "code",
      "source": [
        "import numpy as np\n",
        "# Crea un arreglo 2-dimensional con forma (3, 4)\n",
        "a = np.array([[1,2,3,4], [5,6,7,8], [9,10,11,12]])\n",
        "print(a.shape)\n",
        "# print(a)\n",
        "b = a[:2, 1:3]\n",
        "# print(b)\n",
        "b[0,1] = 5\n",
        "print(a)\n",
        "print(b)"
      ],
      "metadata": {
        "colab": {
          "base_uri": "https://localhost:8080/"
        },
        "id": "E5rLRcrA8--l",
        "outputId": "e4d8e897-c914-499c-cac9-0989f7b13120"
      },
      "execution_count": 10,
      "outputs": [
        {
          "output_type": "stream",
          "name": "stdout",
          "text": [
            "(3, 4)\n",
            "[[ 1  2  5  4]\n",
            " [ 5  6  7  8]\n",
            " [ 9 10 11 12]]\n",
            "[[2 5]\n",
            " [6 7]]\n"
          ]
        }
      ]
    },
    {
      "cell_type": "code",
      "source": [
        "import numpy as np\n",
        "a = np.array([[1,2,3,4], [5,6,7,8], [9,10,11,12]])\n",
        "print(a.dtype)\n",
        "# print(type(a))\n",
        "x = np.array([1.0, 2.0])\n",
        "print(x.dtype)\n",
        "x = np.array([5, -4], dtype=np.int32)\n",
        "print(x.dtype)"
      ],
      "metadata": {
        "colab": {
          "base_uri": "https://localhost:8080/"
        },
        "id": "M7Y2eZmx9_jD",
        "outputId": "94c215ea-5b62-4a70-8fba-26ac2cf7feb8"
      },
      "execution_count": 13,
      "outputs": [
        {
          "output_type": "stream",
          "name": "stdout",
          "text": [
            "int64\n",
            "<class 'numpy.ndarray'>\n",
            "float64\n",
            "int32\n"
          ]
        }
      ]
    },
    {
      "cell_type": "code",
      "source": [
        "import numpy as np\n",
        "x = np.array([[1,2,5], [3,4,6]], dtype=np.float128)\n",
        "y = np.array([[5,6,-1], [7,8,-6]], dtype=np.float128)\n",
        "print(x)\n",
        "print(y)\n",
        "print(\"Suma:\")\n",
        "print(x + y)\n",
        "# print(\"-----\")\n",
        "# print(np.add(x, y))\n",
        "# print(\"raiz cuadrada:\")\n",
        "# print(np.sqrt(x))"
      ],
      "metadata": {
        "colab": {
          "base_uri": "https://localhost:8080/"
        },
        "id": "BgNM86RG_Lbe",
        "outputId": "75aa7d9e-39d7-41b4-8b50-ee88c463065f"
      },
      "execution_count": 21,
      "outputs": [
        {
          "output_type": "stream",
          "name": "stdout",
          "text": [
            "[[1. 2. 5.]\n",
            " [3. 4. 6.]]\n",
            "[[ 5.  6. -1.]\n",
            " [ 7.  8. -6.]]\n",
            "Suma:\n",
            "[[ 6.  8.  4.]\n",
            " [10. 12.  0.]]\n"
          ]
        }
      ]
    },
    {
      "cell_type": "code",
      "source": [
        "import numpy as np\n",
        "x = np.array([[1,2,5], [3,4,6]], dtype=np.float128)\n",
        "y = np.array([[5,6,-1], [7,8,-6]], dtype=np.float128)\n",
        "z = np.zeros((2,3)) # z = []\n",
        "\n",
        "for fila in range(x.shape[0]):# len(x)\n",
        "  for columna in range(x.shape[1]):# len(x[i])\n",
        "    z[fila,columna] = x[fila,columna] + y[fila,columna] # x[fila][columna]\n",
        "\n",
        "print(z)"
      ],
      "metadata": {
        "colab": {
          "base_uri": "https://localhost:8080/"
        },
        "id": "L_xHXQTqBRXQ",
        "outputId": "d7b6a8a6-169c-4669-dd83-9238262055d9"
      },
      "execution_count": 23,
      "outputs": [
        {
          "output_type": "stream",
          "name": "stdout",
          "text": [
            "[[ 6.  8.  4.]\n",
            " [10. 12.  0.]]\n"
          ]
        }
      ]
    },
    {
      "cell_type": "code",
      "source": [
        "import numpy as np\n",
        "np.linspace(2, 3, num=10, endpoint=True, retstep=True)"
      ],
      "metadata": {
        "colab": {
          "base_uri": "https://localhost:8080/"
        },
        "id": "N2VWHP7uATZK",
        "outputId": "a0963698-0013-4a12-c7a9-8bbf90539fd7"
      },
      "execution_count": 20,
      "outputs": [
        {
          "output_type": "execute_result",
          "data": {
            "text/plain": [
              "(array([2.        , 2.11111111, 2.22222222, 2.33333333, 2.44444444,\n",
              "        2.55555556, 2.66666667, 2.77777778, 2.88888889, 3.        ]),\n",
              " 0.1111111111111111)"
            ]
          },
          "metadata": {},
          "execution_count": 20
        }
      ]
    },
    {
      "cell_type": "markdown",
      "source": [
        "#Matplotlib"
      ],
      "metadata": {
        "id": "FlJeg-ujXwVi"
      }
    },
    {
      "cell_type": "code",
      "source": [
        "import matplotlib.pyplot as plt\n",
        "# Matplotlib plot.\n",
        "plt.plot([1, 2, 3, 4], [1, 4, 2, 3])"
      ],
      "metadata": {
        "colab": {
          "base_uri": "https://localhost:8080/",
          "height": 282
        },
        "id": "6nstACxcEIvl",
        "outputId": "29b93f2f-e1d1-425a-cae6-b3d6cbb59e6e"
      },
      "execution_count": 24,
      "outputs": [
        {
          "output_type": "execute_result",
          "data": {
            "text/plain": [
              "[<matplotlib.lines.Line2D at 0x7f64bd770050>]"
            ]
          },
          "metadata": {},
          "execution_count": 24
        },
        {
          "output_type": "display_data",
          "data": {
            "text/plain": [
              "<Figure size 432x288 with 1 Axes>"
            ],
            "image/png": "[encoded data removed]"
          },
          "metadata": {
            "needs_background": "light"
          }
        }
      ]
    },
    {
      "cell_type": "code",
      "source": [
        "import numpy as np\n",
        "import matplotlib.pyplot as plt\n",
        "x = np.linspace(0, 10, 50)\n",
        "# print(x)\n",
        "# plt.plot(x, x**2 )\n",
        "# A´un con el OO-style, usamos \".pyplot.figure\" para crear la figura.\n",
        "fig, ax = plt.subplots() # Crea la figura y los ejes.\n",
        "ax.plot(x, x, label=\"linear\") # Dibuja algunos datos en los ejes.\n",
        "ax.plot(x, x**2, label=\"quadratic\") # Dibuja mas datos en los ejes.\n",
        "ax.plot(x, x**3, label=\"cubic\") # ... y algunos m´as.\n",
        "ax.set_xlabel(\"Tiempo\") # Agrega un x-label a los ejes.\n",
        "ax.set_ylabel(\"Distancia\") # Agrega un y-label a los ejes.\n",
        "ax.set_title(\"Simple Plot\") # Agrega t´ıtulo a los ejes.\n",
        "ax.legend() # Agrega una leyenda.\n"
      ],
      "metadata": {
        "colab": {
          "base_uri": "https://localhost:8080/",
          "height": 312
        },
        "id": "X7dqau1pEgep",
        "outputId": "6027063c-546c-49ab-976a-44e1481a1f8a"
      },
      "execution_count": 60,
      "outputs": [
        {
          "output_type": "execute_result",
          "data": {
            "text/plain": [
              "<matplotlib.legend.Legend at 0x7f64b4082bd0>"
            ]
          },
          "metadata": {},
          "execution_count": 60
        },
        {
          "output_type": "display_data",
          "data": {
            "text/plain": [
              "<Figure size 432x288 with 1 Axes>"
            ],
            "image/png": "[encoded data removed]"
          },
          "metadata": {
            "needs_background": "light"
          }
        }
      ]
    },
    {
      "cell_type": "code",
      "source": [
        "names = [\"group_a\", \"group_b\", \"group_c\"]\n",
        "values = [3.4, 50.3, 23]\n",
        "plt.figure(figsize=(9, 9))\n",
        "posicion = int(331)\n",
        "plt.subplot(posicion)\n",
        "plt.bar(names, values)\n",
        "plt.subplot(335)\n",
        "plt.scatter(names, values)\n",
        "plt.subplot(332)\n",
        "plt.pie(values, labels= names)\n",
        "plt.subplot(339)\n",
        "plt.plot(names, values)\n",
        "plt.suptitle(\"Categorical Plotting\")\n",
        "plt.show()\n"
      ],
      "metadata": {
        "colab": {
          "base_uri": "https://localhost:8080/",
          "height": 603
        },
        "id": "WCubfVspMQc5",
        "outputId": "5fb9d571-ba0f-4edf-d5ef-709ff392dcd6"
      },
      "execution_count": 89,
      "outputs": [
        {
          "output_type": "display_data",
          "data": {
            "text/plain": [
              "<Figure size 648x648 with 4 Axes>"
            ],
            "image/png": "[encoded data removed]"
          },
          "metadata": {
            "needs_background": "light"
          }
        }
      ]
    },
    {
      "cell_type": "code",
      "source": [
        "dictc = {\"country\": [\"Brazil\", \"Russia\", \"India\",\n",
        "\"China\", \"South Africa\", \"Colombia\"],\n",
        "\"capital\": [\"Brasilia\", \"Moscow\", \"New Dehli\",\n",
        "\"Beijing\", \"Pretoria\", \"Bogot´a\"],\n",
        "\"area\": [8.516, 17.10, 3.286, 9.597, 1.221, 1.142],\n",
        "\"population\": [200.4, 143.5, 1252, 1357, 52.98, 49.65] }\n",
        "import pandas as panditas\n",
        "brics = panditas.DataFrame(dictc)\n",
        "print(brics)\n"
      ],
      "metadata": {
        "colab": {
          "base_uri": "https://localhost:8080/"
        },
        "id": "eR1b-d5wQ-4L",
        "outputId": "2376115a-4926-47af-bf7a-e0edfa19e92b"
      },
      "execution_count": 91,
      "outputs": [
        {
          "output_type": "stream",
          "name": "stdout",
          "text": [
            "        country    capital    area  population\n",
            "0        Brazil   Brasilia   8.516      200.40\n",
            "1        Russia     Moscow  17.100      143.50\n",
            "2         India  New Dehli   3.286     1252.00\n",
            "3         China    Beijing   9.597     1357.00\n",
            "4  South Africa   Pretoria   1.221       52.98\n",
            "5      Colombia    Bogot´a   1.142       49.65\n"
          ]
        }
      ]
    }
  ]
}