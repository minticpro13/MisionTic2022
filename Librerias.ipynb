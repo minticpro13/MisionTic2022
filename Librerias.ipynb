{
  "nbformat": 4,
  "nbformat_minor": 0,
  "metadata": {
    "colab": {
      "name": "Librerias.ipynb",
      "provenance": [],
      "authorship_tag": "ABX9TyMo6AHS/tnocir+OSMJ6mpg",
      "include_colab_link": true
    },
    "kernelspec": {
      "name": "python3",
      "display_name": "Python 3"
    },
    "language_info": {
      "name": "python"
    }
  },
  "cells": [
    {
      "cell_type": "markdown",
      "metadata": {
        "id": "view-in-github",
        "colab_type": "text"
      },
      "source": [
        "<a href=\"https://colab.research.google.com/github/minticpro13/MisionTic2022/blob/main/Librerias.ipynb\" target=\"_parent\"><img src=\"https://colab.research.google.com/assets/colab-badge.svg\" alt=\"Open In Colab\"/></a>"
      ]
    },
    {
      "cell_type": "markdown",
      "source": [
        "#Numpy"
      ],
      "metadata": {
        "id": "h7UUHJJ7_RVV"
      }
    },
    {
      "cell_type": "code",
      "execution_count": null,
      "metadata": {
        "id": "uBAG8Oio_Pqe"
      },
      "outputs": [],
      "source": [
        "import numpy as np\n",
        "a = np.array(list(range(1,5))) # Crea un arreglo lineal\n",
        "# print(type(a)) # Imprime \"<class ’numpy.ndarray’>\"\n",
        "# print(a)\n",
        "# print(a.shape) # Imprime \"(4,)\" es de tama~no 4, de 1 dimensi´on\n",
        "# print(a[0], a[1], a[2])\n",
        "# a[0] = -4\n",
        "# print(a)\n",
        "b = np.array([[1,2,3,5,6],[4,5,6,7,8]]) # Crea un arreglo 2-dimensional\n",
        "print(b.shape)\n",
        "print(b)\n",
        "b[0,1] = 1590 #b[0][1]\n",
        "print(b)\n",
        "print(b[0,0], b[0,1], b[1,0])"
      ]
    }
  ]
}