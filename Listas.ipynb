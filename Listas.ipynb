{
  "nbformat": 4,
  "nbformat_minor": 0,
  "metadata": {
    "colab": {
      "name": "Listas.ipynb",
      "provenance": [],
      "authorship_tag": "ABX9TyOR5kRrDJP1hnyo3ECtA3nC",
      "include_colab_link": true
    },
    "kernelspec": {
      "name": "python3",
      "display_name": "Python 3"
    },
    "language_info": {
      "name": "python"
    }
  },
  "cells": [
    {
      "cell_type": "markdown",
      "metadata": {
        "id": "view-in-github",
        "colab_type": "text"
      },
      "source": [
        "<a href=\"https://colab.research.google.com/github/minticpro13/MisionTic2022/blob/main/Listas.ipynb\" target=\"_parent\"><img src=\"https://colab.research.google.com/assets/colab-badge.svg\" alt=\"Open In Colab\"/></a>"
      ]
    },
    {
      "cell_type": "code",
      "execution_count": null,
      "metadata": {
        "id": "dhx8RXNBAB9n"
      },
      "outputs": [],
      "source": [
        "lista = []\n",
        "tupla = ()"
      ]
    },
    {
      "cell_type": "code",
      "source": [
        "lista = [\"hola\"]\n",
        "tupla = (\"hola\",)"
      ],
      "metadata": {
        "id": "rwIdNa0qAWgA"
      },
      "execution_count": null,
      "outputs": []
    },
    {
      "cell_type": "code",
      "source": [
        "lista = [\"hola\", 1]\n",
        "tupla = (\"hola\", 1)"
      ],
      "metadata": {
        "id": "q94v8oUhAe2H"
      },
      "execution_count": null,
      "outputs": []
    },
    {
      "cell_type": "code",
      "source": [
        "lista = [\"hola\", \"estudiantes\"]\n",
        "tupla = (\"hola\", \"estudiantes\")"
      ],
      "metadata": {
        "id": "DNwDzTavAewi"
      },
      "execution_count": null,
      "outputs": []
    },
    {
      "cell_type": "code",
      "source": [
        "tupla = tuple(lista)\n",
        "lista = list(tupla)\n",
        "print(lista)\n",
        "print(tupla)"
      ],
      "metadata": {
        "colab": {
          "base_uri": "https://localhost:8080/"
        },
        "id": "x5Vo_8C8CFSD",
        "outputId": "369cb623-0bd0-41d8-9450-54baa608327b"
      },
      "execution_count": null,
      "outputs": [
        {
          "output_type": "stream",
          "name": "stdout",
          "text": [
            "['hola', 'estudiantes']\n",
            "('hola', 'estudiantes')\n"
          ]
        }
      ]
    },
    {
      "cell_type": "code",
      "source": [
        "lista[0] = \"lista\"\n",
        "# tupla[0] = \"tupla\""
      ],
      "metadata": {
        "id": "T-wHI2AcAw5j"
      },
      "execution_count": null,
      "outputs": []
    },
    {
      "cell_type": "code",
      "source": [
        "nombres = [\"john\", \"maria\", \"manuel\"]\n",
        "otros = [\"juan\", \"sarah\", \"daniel\"]\n",
        "\n",
        "nombres.extend(otros)\n",
        "print(nombres)\n",
        "print(otros)"
      ],
      "metadata": {
        "id": "rQYMB8axBOr6",
        "colab": {
          "base_uri": "https://localhost:8080/"
        },
        "outputId": "c8face17-f27f-49c3-ab8f-cac961b82dee"
      },
      "execution_count": 1,
      "outputs": [
        {
          "output_type": "stream",
          "name": "stdout",
          "text": [
            "['john', 'maria', 'manuel', 'juan', 'sarah', 'daniel']\n",
            "['juan', 'sarah', 'daniel']\n"
          ]
        }
      ]
    },
    {
      "cell_type": "code",
      "source": [
        "print([\"Rojas\", 123] < [\"Rosas\", 123])\n",
        "print([\"Rosas\", 123] == [\"rosas\", 123])\n",
        "print([\"Rosas\", 123] > [\"Rosas\", 23])\n",
        "print([\"Rosas\", \"123\"] > [\"Rosas\", \"23\"])\n",
        "print([\"Rosas\", \"123\"] > [\"Rosas\", 23])"
      ],
      "metadata": {
        "colab": {
          "base_uri": "https://localhost:8080/",
          "height": 271
        },
        "id": "j8F9H2LV2U7y",
        "outputId": "36ccd09d-4581-4c1d-efe1-54ff8f0002d2"
      },
      "execution_count": 2,
      "outputs": [
        {
          "output_type": "stream",
          "name": "stdout",
          "text": [
            "True\n",
            "False\n",
            "True\n",
            "False\n"
          ]
        },
        {
          "output_type": "error",
          "ename": "TypeError",
          "evalue": "ignored",
          "traceback": [
            "\u001b[0;31m---------------------------------------------------------------------------\u001b[0m",
            "\u001b[0;31mTypeError\u001b[0m                                 Traceback (most recent call last)",
            "\u001b[0;32m<ipython-input-2-1425f742f077>\u001b[0m in \u001b[0;36m<module>\u001b[0;34m()\u001b[0m\n\u001b[1;32m      3\u001b[0m \u001b[0mprint\u001b[0m\u001b[0;34m(\u001b[0m\u001b[0;34m[\u001b[0m\u001b[0;34m\"Rosas\"\u001b[0m\u001b[0;34m,\u001b[0m \u001b[0;36m123\u001b[0m\u001b[0;34m]\u001b[0m \u001b[0;34m>\u001b[0m \u001b[0;34m[\u001b[0m\u001b[0;34m\"Rosas\"\u001b[0m\u001b[0;34m,\u001b[0m \u001b[0;36m23\u001b[0m\u001b[0;34m]\u001b[0m\u001b[0;34m)\u001b[0m\u001b[0;34m\u001b[0m\u001b[0;34m\u001b[0m\u001b[0m\n\u001b[1;32m      4\u001b[0m \u001b[0mprint\u001b[0m\u001b[0;34m(\u001b[0m\u001b[0;34m[\u001b[0m\u001b[0;34m\"Rosas\"\u001b[0m\u001b[0;34m,\u001b[0m \u001b[0;34m\"123\"\u001b[0m\u001b[0;34m]\u001b[0m \u001b[0;34m>\u001b[0m \u001b[0;34m[\u001b[0m\u001b[0;34m\"Rosas\"\u001b[0m\u001b[0;34m,\u001b[0m \u001b[0;34m\"23\"\u001b[0m\u001b[0;34m]\u001b[0m\u001b[0;34m)\u001b[0m\u001b[0;34m\u001b[0m\u001b[0;34m\u001b[0m\u001b[0m\n\u001b[0;32m----> 5\u001b[0;31m \u001b[0mprint\u001b[0m\u001b[0;34m(\u001b[0m\u001b[0;34m[\u001b[0m\u001b[0;34m\"Rosas\"\u001b[0m\u001b[0;34m,\u001b[0m \u001b[0;34m\"123\"\u001b[0m\u001b[0;34m]\u001b[0m \u001b[0;34m>\u001b[0m \u001b[0;34m[\u001b[0m\u001b[0;34m\"Rosas\"\u001b[0m\u001b[0;34m,\u001b[0m \u001b[0;36m23\u001b[0m\u001b[0;34m]\u001b[0m\u001b[0;34m)\u001b[0m\u001b[0;34m\u001b[0m\u001b[0;34m\u001b[0m\u001b[0m\n\u001b[0m",
            "\u001b[0;31mTypeError\u001b[0m: '>' not supported between instances of 'str' and 'int'"
          ]
        }
      ]
    },
    {
      "cell_type": "code",
      "source": [
        "avengers = [\"Ironman\", \"Thor\", \"Ant-man\", \"Hulk\"]\n",
        "print(avengers[0])\n",
        "print(avengers[3])\n",
        "print(avengers[-1])\n",
        "print(avengers[-3])\n"
      ],
      "metadata": {
        "colab": {
          "base_uri": "https://localhost:8080/"
        },
        "id": "a4w4IPTt22C6",
        "outputId": "c11775cc-20bb-4b15-fbaa-8e59861636d8"
      },
      "execution_count": 5,
      "outputs": [
        {
          "output_type": "stream",
          "name": "stdout",
          "text": [
            "Ironman\n",
            "Hulk\n",
            "Hulk\n",
            "Thor\n"
          ]
        }
      ]
    },
    {
      "cell_type": "code",
      "source": [
        "text = [\"cien\", \"años\", \"de\", \"soledad\"]\n",
        "text = [\"cien años\", \"de\", \"soledad\"]\n",
        "if \"años\" in text:\n",
        "  print(\"Si está en la lista\")\n",
        "else:\n",
        "  print(\"No está en la lista\")\n"
      ],
      "metadata": {
        "colab": {
          "base_uri": "https://localhost:8080/"
        },
        "id": "R2im3UfH3Zsy",
        "outputId": "bf709f9e-4c1e-4a3a-d373-6da819cd6d45"
      },
      "execution_count": 7,
      "outputs": [
        {
          "output_type": "stream",
          "name": "stdout",
          "text": [
            "No está en la lista\n"
          ]
        }
      ]
    },
    {
      "cell_type": "code",
      "source": [
        "avengers = [\"Ironman\", \"Thor\", \"Ant-man\", \"Hulk\"]\n",
        "for vengador in avengers:\n",
        "  print(vengador, end=\",\")"
      ],
      "metadata": {
        "colab": {
          "base_uri": "https://localhost:8080/"
        },
        "id": "5PnLGCUf3xHI",
        "outputId": "6b9505cc-fc37-477d-89f7-1f6a030f5f1a"
      },
      "execution_count": 11,
      "outputs": [
        {
          "output_type": "stream",
          "name": "stdout",
          "text": [
            "Ironman,Thor,Ant-man,Hulk,"
          ]
        }
      ]
    },
    {
      "cell_type": "code",
      "source": [
        "d = 10\n",
        "desplaza = [d + x for x in range(5)]\n",
        "print(desplaza)\n",
        "potencias = [3 ** x for x in range(2, 6)]\n",
        "print(potencias)\n",
        "poten = []\n",
        "for x in range(2, 6):\n",
        "  poten.append(3 ** x)\n",
        "print(poten)"
      ],
      "metadata": {
        "colab": {
          "base_uri": "https://localhost:8080/"
        },
        "id": "a3ZNf3FE4WNQ",
        "outputId": "0fe683b4-a46d-4c8c-944e-28faf805e24c"
      },
      "execution_count": 14,
      "outputs": [
        {
          "output_type": "stream",
          "name": "stdout",
          "text": [
            "[10, 11, 12, 13, 14]\n",
            "[9, 27, 81, 243]\n",
            "[9, 27, 81, 243]\n"
          ]
        }
      ]
    },
    {
      "cell_type": "code",
      "source": [
        "def minmax(a, b):\n",
        "  if a < b:\n",
        "    return [a, b] #return (a ,b)\n",
        "  else:\n",
        "    return [b, a] #return b, a\n",
        "x, y = minmax(5, 13)\n",
        "print(\"min =\", x, \",\", \"max =\", y)\n",
        "x, y = minmax(12, -4)\n",
        "print(\"min =\", x, \",\", \"max =\", y)"
      ],
      "metadata": {
        "id": "3pKV3dqg6vua"
      },
      "execution_count": null,
      "outputs": []
    },
    {
      "cell_type": "code",
      "source": [
        "lista = [\"E\", \"l\", \"m\", \"e\", \"j\", \"o\", \"r\"]\n",
        "lista[0] = \"e\"\n",
        "print(lista)\n",
        "lista[4] = \"l\"\n",
        "print(lista)\n",
        "lista[-1] = \"s\"\n",
        "print(lista)"
      ],
      "metadata": {
        "colab": {
          "base_uri": "https://localhost:8080/"
        },
        "id": "NAyV9DsQ7kNR",
        "outputId": "090a7017-7b93-4a74-b67e-7d4906dd1ad8"
      },
      "execution_count": 17,
      "outputs": [
        {
          "output_type": "stream",
          "name": "stdout",
          "text": [
            "['e', 'l', 'm', 'e', 'j', 'o', 'r']\n",
            "['e', 'l', 'm', 'e', 'l', 'o', 'r']\n",
            "['e', 'l', 'm', 'e', 'l', 'o', 's']\n"
          ]
        }
      ]
    },
    {
      "cell_type": "code",
      "source": [
        "nombres = [\"Antonio\", \"Johan\"]\n",
        "nombres.append(\"Monica\")\n",
        "print(nombres)\n",
        "nombres.append(\"Maria\")\n",
        "print(nombres)\n",
        "nombres.append(\"Mabel\")\n",
        "print(nombres)"
      ],
      "metadata": {
        "colab": {
          "base_uri": "https://localhost:8080/"
        },
        "id": "LHPY0dc98JAv",
        "outputId": "388c6f49-063a-4a24-fc18-c6d39956284c"
      },
      "execution_count": 18,
      "outputs": [
        {
          "output_type": "stream",
          "name": "stdout",
          "text": [
            "['Antonio', 'Johan', 'Monica']\n",
            "['Antonio', 'Johan', 'Monica', 'Maria']\n",
            "['Antonio', 'Johan', 'Monica', 'Maria', 'Mabel']\n"
          ]
        }
      ]
    },
    {
      "cell_type": "code",
      "source": [
        "nombres = [\"Antonio\", \"Johan\", \"Maria\"]\n",
        "nombres.insert(1, \"Guttag\")\n",
        "print(nombres)\n",
        "nombres.insert(2, \"Peter\")\n",
        "print(nombres)\n",
        "nombres.insert(len(nombres)//2, 10)\n",
        "print(nombres)\n"
      ],
      "metadata": {
        "id": "yR_kqXsl8qhP"
      },
      "execution_count": null,
      "outputs": []
    },
    {
      "cell_type": "code",
      "source": [
        "avengers = [\"Ironman\", \"Thor\", \"Ant-man\", \"Hulk\"]\n",
        "print(avengers[:2])\n",
        "print(avengers[1:3])\n",
        "print(avengers[3:3])\n",
        "print(avengers[::-1])\n"
      ],
      "metadata": {
        "colab": {
          "base_uri": "https://localhost:8080/"
        },
        "id": "5z8YLY1B_DIh",
        "outputId": "e226efb4-d69d-4893-e132-28ca31681964"
      },
      "execution_count": 19,
      "outputs": [
        {
          "output_type": "stream",
          "name": "stdout",
          "text": [
            "['Ironman', 'Thor']\n",
            "['Thor', 'Ant-man']\n",
            "[]\n",
            "['Hulk', 'Ant-man', 'Thor', 'Ironman']\n"
          ]
        }
      ]
    },
    {
      "cell_type": "code",
      "source": [
        "lista = [\"Ironman\", \"Thor\", \"Ant-man\", \"Hulk\", \"Hulk\",\"Hulk\", \"Thor\"]\n",
        "print(lista.count(\"Thor\"))\n",
        "print(lista.count(\"Ironman\"))\n",
        "print(lista.count(\"Hulk\"))"
      ],
      "metadata": {
        "colab": {
          "base_uri": "https://localhost:8080/"
        },
        "id": "T1wEJMghAmkX",
        "outputId": "8b15f1d3-2089-44bc-87d1-7e031d469ae1"
      },
      "execution_count": 21,
      "outputs": [
        {
          "output_type": "stream",
          "name": "stdout",
          "text": [
            "2\n",
            "1\n",
            "3\n"
          ]
        }
      ]
    },
    {
      "cell_type": "code",
      "source": [
        "lista = [\"Ironman\", \"Thor\", \"Ant-man\", \"Hulk\", \"Hulk\", \"Hulk\", \"Thor\"]\n",
        "conteo = lista.count(\"Hulk\")\n",
        "for i in range(conteo):\n",
        "  lista.remove(\"Hulk\")\n",
        "print(lista)"
      ],
      "metadata": {
        "colab": {
          "base_uri": "https://localhost:8080/"
        },
        "id": "0PRMOhU5CjLE",
        "outputId": "d72aac53-2a6d-4f74-9785-41d48169f121"
      },
      "execution_count": 24,
      "outputs": [
        {
          "output_type": "stream",
          "name": "stdout",
          "text": [
            "['Ironman', 'Thor', 'Ant-man', 'Thor']\n"
          ]
        }
      ]
    }
  ]
}