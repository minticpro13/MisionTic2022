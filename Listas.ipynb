{
  "nbformat": 4,
  "nbformat_minor": 0,
  "metadata": {
    "colab": {
      "name": "Listas.ipynb",
      "provenance": [],
      "authorship_tag": "ABX9TyOYdefaoXp0uPTWLesFpb+v",
      "include_colab_link": true
    },
    "kernelspec": {
      "name": "python3",
      "display_name": "Python 3"
    },
    "language_info": {
      "name": "python"
    }
  },
  "cells": [
    {
      "cell_type": "markdown",
      "metadata": {
        "id": "view-in-github",
        "colab_type": "text"
      },
      "source": [
        "<a href=\"https://colab.research.google.com/github/minticpro13/MisionTic2022/blob/main/Listas.ipynb\" target=\"_parent\"><img src=\"https://colab.research.google.com/assets/colab-badge.svg\" alt=\"Open In Colab\"/></a>"
      ]
    },
    {
      "cell_type": "code",
      "execution_count": null,
      "metadata": {
        "id": "dhx8RXNBAB9n"
      },
      "outputs": [],
      "source": [
        "lista = []\n",
        "tupla = ()"
      ]
    },
    {
      "cell_type": "code",
      "source": [
        "lista = [\"hola\"]\n",
        "tupla = (\"hola\",)"
      ],
      "metadata": {
        "id": "rwIdNa0qAWgA"
      },
      "execution_count": 1,
      "outputs": []
    },
    {
      "cell_type": "code",
      "source": [
        "lista = [\"hola\", 1]\n",
        "tupla = (\"hola\", 1)"
      ],
      "metadata": {
        "id": "q94v8oUhAe2H"
      },
      "execution_count": 2,
      "outputs": []
    },
    {
      "cell_type": "code",
      "source": [
        "lista = [\"hola\", \"estudiantes\"]\n",
        "tupla = (\"hola\", \"estudiantes\")"
      ],
      "metadata": {
        "id": "DNwDzTavAewi"
      },
      "execution_count": 7,
      "outputs": []
    },
    {
      "cell_type": "code",
      "source": [
        "tupla = tuple(lista)\n",
        "lista = list(tupla)\n",
        "print(lista)\n",
        "print(tupla)"
      ],
      "metadata": {
        "colab": {
          "base_uri": "https://localhost:8080/"
        },
        "id": "x5Vo_8C8CFSD",
        "outputId": "369cb623-0bd0-41d8-9450-54baa608327b"
      },
      "execution_count": 8,
      "outputs": [
        {
          "output_type": "stream",
          "name": "stdout",
          "text": [
            "['hola', 'estudiantes']\n",
            "('hola', 'estudiantes')\n"
          ]
        }
      ]
    },
    {
      "cell_type": "code",
      "source": [
        "lista[0] = \"lista\"\n",
        "# tupla[0] = \"tupla\""
      ],
      "metadata": {
        "id": "T-wHI2AcAw5j"
      },
      "execution_count": 4,
      "outputs": []
    },
    {
      "cell_type": "code",
      "source": [
        ""
      ],
      "metadata": {
        "id": "rQYMB8axBOr6"
      },
      "execution_count": null,
      "outputs": []
    }
  ]
}