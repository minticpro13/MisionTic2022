{
  "nbformat": 4,
  "nbformat_minor": 0,
  "metadata": {
    "colab": {
      "name": "JSON.ipynb",
      "provenance": [],
      "authorship_tag": "ABX9TyNH5KxRpSM0LixOjkZFEwpb",
      "include_colab_link": true
    },
    "kernelspec": {
      "name": "python3",
      "display_name": "Python 3"
    },
    "language_info": {
      "name": "python"
    }
  },
  "cells": [
    {
      "cell_type": "markdown",
      "metadata": {
        "id": "view-in-github",
        "colab_type": "text"
      },
      "source": [
        "<a href=\"https://colab.research.google.com/github/minticpro13/MisionTic2022/blob/main/JSON.ipynb\" target=\"_parent\"><img src=\"https://colab.research.google.com/assets/colab-badge.svg\" alt=\"Open In Colab\"/></a>"
      ]
    },
    {
      "cell_type": "code",
      "execution_count": null,
      "metadata": {
        "id": "W7uqv-iJF6nL"
      },
      "outputs": [],
      "source": [
        "diccionario = {\n",
        "\"Nombre\": \"Douglas\",\n",
        "\"Apellido\": \"Crockford\",\n",
        "\"pasatiempos\": [\"trotar\", \"bucear\", \"cantar\"],\n",
        "\"edad\": 64,\n",
        "\"empleado\": False,\n",
        "\"jefe\": None,\n",
        "\"hijos\": [\n",
        "    {\"Nombre\": \"Alice\", \"edad\": 16},\n",
        "    {\"Nombre\": \"Bob\", \"edad\": 8}\n",
        "  ],\n",
        "}\n",
        "print(diccionario[\"hijos\"][0][\"edad\"])\n",
        "print(diccionario[\"hijos\"][1][\"edad\"])\n",
        "print(diccionario[\"hijos\"][1][\"edad\"] + diccionario[\"hijos\"][0][\"edad\"])"
      ]
    },
    {
      "cell_type": "code",
      "source": [
        "import json\n",
        "data = {\n",
        "  \"cientifico\": {\n",
        "    \"nombre\": \"Alan Mathison Turing\",\n",
        "    \"edad\": \"41\"\n",
        "  }\n",
        "}\n",
        "with open(\"data_file.json\", \"w\") as write_file:\n",
        "  json.dump(data, write_file)"
      ],
      "metadata": {
        "id": "52POESmuG2xl"
      },
      "execution_count": 3,
      "outputs": []
    },
    {
      "cell_type": "code",
      "source": [
        "import json\n",
        "data = {\n",
        "  \"cientifico\": {\n",
        "    \"nombre\": \"Alan Mathison Turing\",\n",
        "    \"edad\": \"41\"\n",
        "  }\n",
        "}\n",
        "cadena = json.dumps(data)\n",
        "print(cadena, type(cadena))"
      ],
      "metadata": {
        "colab": {
          "base_uri": "https://localhost:8080/"
        },
        "id": "h3NobGiiHovr",
        "outputId": "9bd3bcf8-a52f-4743-ecbb-3c2a837a9c6e"
      },
      "execution_count": 5,
      "outputs": [
        {
          "output_type": "stream",
          "name": "stdout",
          "text": [
            "{\"cientifico\": {\"nombre\": \"Alan Mathison Turing\", \"edad\": \"41\"}} <class 'str'>\n"
          ]
        }
      ]
    },
    {
      "cell_type": "code",
      "source": [
        "import json\n",
        "data = {\n",
        "  \"cientifico\": {\n",
        "    \"nombre\": \"Alan Mathison Turing\",\n",
        "    \"edad\": \"41\"\n",
        "  }\n",
        "}\n",
        "cadena = json.dumps(data, indent=2)\n",
        "print(cadena)"
      ],
      "metadata": {
        "colab": {
          "base_uri": "https://localhost:8080/"
        },
        "id": "3VDtyK5SJoKm",
        "outputId": "0e5803d8-e657-4c9b-ee0f-cba2a76cc7dd"
      },
      "execution_count": 6,
      "outputs": [
        {
          "output_type": "stream",
          "name": "stdout",
          "text": [
            "{\n",
            "  \"cientifico\": {\n",
            "    \"nombre\": \"Alan Mathison Turing\",\n",
            "    \"edad\": \"41\"\n",
            "  }\n",
            "}\n"
          ]
        }
      ]
    },
    {
      "cell_type": "code",
      "source": [
        "import json\n",
        "\n",
        "with open(\"data_file.json\", \"r\") as read_file:\n",
        "  data = json.load(read_file)\n",
        "  print(data[\"cientifico\"])"
      ],
      "metadata": {
        "colab": {
          "base_uri": "https://localhost:8080/"
        },
        "id": "_qch0HC7J98J",
        "outputId": "f8b8cd9d-9634-493a-addc-14a233773135"
      },
      "execution_count": 7,
      "outputs": [
        {
          "output_type": "stream",
          "name": "stdout",
          "text": [
            "{'nombre': 'Alan Mathison Turing', 'edad': '41'}\n"
          ]
        }
      ]
    },
    {
      "cell_type": "code",
      "source": [
        "import json\n",
        "from pprint import pprint \n",
        "cadena = '''{\"cientifico\": {\"nombre\": \"Alan Mathison Turing\", \"edad\": \"41\"},\"boolean1\": null,\"diccionario\": {\"papa\": 2000, \"arroz\": 5000}}'''\n",
        "\n",
        "data = json.loads(cadena)\n",
        "pprint(data)"
      ],
      "metadata": {
        "colab": {
          "base_uri": "https://localhost:8080/"
        },
        "id": "4_GI2yROKUKo",
        "outputId": "2e4854a4-aa3f-4216-b66e-d893df83fade"
      },
      "execution_count": 20,
      "outputs": [
        {
          "output_type": "stream",
          "name": "stdout",
          "text": [
            "{'boolean1': None,\n",
            " 'cientifico': {'edad': '41', 'nombre': 'Alan Mathison Turing'},\n",
            " 'diccionario': {'arroz': 5000, 'papa': 2000}}\n"
          ]
        }
      ]
    },
    {
      "cell_type": "code",
      "source": [
        "import json\n",
        "from pprint import pprint\n",
        "strjson = '''{\n",
        "\"boolean1\": null,\"diccionario\": {\"papa\": 2000, \"arroz\": 5000},\n",
        "\"intValue\": 0, \"myList\": [],\n",
        "\"myList2\":[\"info1\", \"info2\"],\n",
        "\"littleboolean\": false, \"myEmptyList\": null,\n",
        "\"text1\": null, \"text2\": \"hello\", \"value1\": null,\n",
        "\"value2\": null}'''\n",
        "data = json.loads(strjson)\n",
        "pprint(data)"
      ],
      "metadata": {
        "colab": {
          "base_uri": "https://localhost:8080/"
        },
        "id": "gb7_baP5MCWQ",
        "outputId": "86e06823-314b-4766-c474-3f3a45a4de36"
      },
      "execution_count": 17,
      "outputs": [
        {
          "output_type": "stream",
          "name": "stdout",
          "text": [
            "{'boolean1': None,\n",
            " 'diccionario': {'arroz': 5000, 'papa': 2000},\n",
            " 'intValue': 0,\n",
            " 'littleboolean': False,\n",
            " 'myEmptyList': None,\n",
            " 'myList': [],\n",
            " 'myList2': ['info1', 'info2'],\n",
            " 'text1': None,\n",
            " 'text2': 'hello',\n",
            " 'value1': None,\n",
            " 'value2': None}\n"
          ]
        }
      ]
    },
    {
      "cell_type": "code",
      "source": [
        "import json, requests\n",
        "\n",
        "url = \"https://jsonplaceholder.typicode.com/todos\"\n",
        "\n",
        "response = requests.get(url)\n",
        "data = json.loads(response.text)\n",
        "# print(response.text)\n",
        "# if data[0][\"completed\"] == False:\n",
        "#   print(\"1\")\n",
        "print(data[0])"
      ],
      "metadata": {
        "colab": {
          "base_uri": "https://localhost:8080/"
        },
        "id": "d-vPvnmpO5zG",
        "outputId": "47bb3b26-2dac-4c06-fa04-dba2674d9c36"
      },
      "execution_count": 34,
      "outputs": [
        {
          "output_type": "stream",
          "name": "stdout",
          "text": [
            "1\n",
            "{'userId': 1, 'id': 1, 'title': 'delectus aut autem', 'completed': False}\n"
          ]
        }
      ]
    }
  ]
}