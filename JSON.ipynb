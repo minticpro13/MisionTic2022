{
  "nbformat": 4,
  "nbformat_minor": 0,
  "metadata": {
    "colab": {
      "name": "JSON.ipynb",
      "provenance": [],
      "authorship_tag": "ABX9TyNjnATkNbeArK6uVnjLHDCh",
      "include_colab_link": true
    },
    "kernelspec": {
      "name": "python3",
      "display_name": "Python 3"
    },
    "language_info": {
      "name": "python"
    }
  },
  "cells": [
    {
      "cell_type": "markdown",
      "metadata": {
        "id": "view-in-github",
        "colab_type": "text"
      },
      "source": [
        "<a href=\"https://colab.research.google.com/github/minticpro13/MisionTic2022/blob/main/JSON.ipynb\" target=\"_parent\"><img src=\"https://colab.research.google.com/assets/colab-badge.svg\" alt=\"Open In Colab\"/></a>"
      ]
    },
    {
      "cell_type": "code",
      "execution_count": null,
      "metadata": {
        "id": "W7uqv-iJF6nL"
      },
      "outputs": [],
      "source": [
        "diccionario = {\n",
        "\"Nombre\": \"Douglas\",\n",
        "\"Apellido\": \"Crockford\",\n",
        "\"pasatiempos\": [\"trotar\", \"bucear\", \"cantar\"],\n",
        "\"edad\": 64,\n",
        "\"empleado\": False,\n",
        "\"jefe\": None,\n",
        "\"hijos\": [\n",
        "    {\"Nombre\": \"Alice\", \"edad\": 16},\n",
        "    {\"Nombre\": \"Bob\", \"edad\": 8}\n",
        "  ],\n",
        "}\n",
        "print(diccionario[\"hijos\"][0][\"edad\"])\n",
        "print(diccionario[\"hijos\"][1][\"edad\"])\n",
        "print(diccionario[\"hijos\"][1][\"edad\"] + diccionario[\"hijos\"][0][\"edad\"])"
      ]
    },
    {
      "cell_type": "code",
      "source": [
        "import json\n",
        "data = {\n",
        "  \"cientifico\": {\n",
        "    \"nombre\": \"Alan Mathison Turing\",\n",
        "    \"edad\": \"41\"\n",
        "  }\n",
        "}\n",
        "with open(\"data_file.json\", \"w\") as write_file:\n",
        "  json.dump(data, write_file)"
      ],
      "metadata": {
        "id": "52POESmuG2xl"
      },
      "execution_count": null,
      "outputs": []
    },
    {
      "cell_type": "code",
      "source": [
        "import json\n",
        "data = {\n",
        "  \"cientifico\": {\n",
        "    \"nombre\": \"Alan Mathison Turing\",\n",
        "    \"edad\": \"41\"\n",
        "  }\n",
        "}\n",
        "cadena = json.dumps(data)\n",
        "print(cadena, type(cadena))"
      ],
      "metadata": {
        "colab": {
          "base_uri": "https://localhost:8080/"
        },
        "id": "h3NobGiiHovr",
        "outputId": "9bd3bcf8-a52f-4743-ecbb-3c2a837a9c6e"
      },
      "execution_count": null,
      "outputs": [
        {
          "output_type": "stream",
          "name": "stdout",
          "text": [
            "{\"cientifico\": {\"nombre\": \"Alan Mathison Turing\", \"edad\": \"41\"}} <class 'str'>\n"
          ]
        }
      ]
    },
    {
      "cell_type": "code",
      "source": [
        "import json\n",
        "data = {\n",
        "  \"cientifico\": {\n",
        "    \"nombre\": \"Alan Mathison Turing\",\n",
        "    \"edad\": \"41\"\n",
        "  }\n",
        "}\n",
        "cadena = json.dumps(data, indent=2)\n",
        "print(cadena)"
      ],
      "metadata": {
        "colab": {
          "base_uri": "https://localhost:8080/"
        },
        "id": "3VDtyK5SJoKm",
        "outputId": "0e5803d8-e657-4c9b-ee0f-cba2a76cc7dd"
      },
      "execution_count": null,
      "outputs": [
        {
          "output_type": "stream",
          "name": "stdout",
          "text": [
            "{\n",
            "  \"cientifico\": {\n",
            "    \"nombre\": \"Alan Mathison Turing\",\n",
            "    \"edad\": \"41\"\n",
            "  }\n",
            "}\n"
          ]
        }
      ]
    },
    {
      "cell_type": "code",
      "source": [
        "import json\n",
        "\n",
        "with open(\"data_file.json\", \"r\") as read_file:\n",
        "  data = json.load(read_file)\n",
        "  print(data[\"cientifico\"])"
      ],
      "metadata": {
        "colab": {
          "base_uri": "https://localhost:8080/"
        },
        "id": "_qch0HC7J98J",
        "outputId": "f8b8cd9d-9634-493a-addc-14a233773135"
      },
      "execution_count": null,
      "outputs": [
        {
          "output_type": "stream",
          "name": "stdout",
          "text": [
            "{'nombre': 'Alan Mathison Turing', 'edad': '41'}\n"
          ]
        }
      ]
    },
    {
      "cell_type": "code",
      "source": [
        "import json\n",
        "from pprint import pprint \n",
        "cadena = '''{\"cientifico\": {\"nombre\": \"Alan Mathison Turing\", \"edad\": \"41\"},\"boolean1\": null,\"diccionario\": {\"papa\": 2000, \"arroz\": 5000}}'''\n",
        "\n",
        "data = json.loads(cadena)\n",
        "pprint(data)"
      ],
      "metadata": {
        "colab": {
          "base_uri": "https://localhost:8080/"
        },
        "id": "4_GI2yROKUKo",
        "outputId": "2e4854a4-aa3f-4216-b66e-d893df83fade"
      },
      "execution_count": null,
      "outputs": [
        {
          "output_type": "stream",
          "name": "stdout",
          "text": [
            "{'boolean1': None,\n",
            " 'cientifico': {'edad': '41', 'nombre': 'Alan Mathison Turing'},\n",
            " 'diccionario': {'arroz': 5000, 'papa': 2000}}\n"
          ]
        }
      ]
    },
    {
      "cell_type": "code",
      "source": [
        "import json\n",
        "from pprint import pprint\n",
        "strjson = '''{\n",
        "\"boolean1\": null,\"diccionario\": {\"papa\": 2000, \"arroz\": 5000},\n",
        "\"intValue\": 0, \"myList\": [],\n",
        "\"myList2\":[\"info1\", \"info2\"],\n",
        "\"littleboolean\": false, \"myEmptyList\": null,\n",
        "\"text1\": null, \"text2\": \"hello\", \"value1\": null,\n",
        "\"value2\": null}'''\n",
        "data = json.loads(strjson)\n",
        "pprint(data)"
      ],
      "metadata": {
        "colab": {
          "base_uri": "https://localhost:8080/"
        },
        "id": "gb7_baP5MCWQ",
        "outputId": "86e06823-314b-4766-c474-3f3a45a4de36"
      },
      "execution_count": null,
      "outputs": [
        {
          "output_type": "stream",
          "name": "stdout",
          "text": [
            "{'boolean1': None,\n",
            " 'diccionario': {'arroz': 5000, 'papa': 2000},\n",
            " 'intValue': 0,\n",
            " 'littleboolean': False,\n",
            " 'myEmptyList': None,\n",
            " 'myList': [],\n",
            " 'myList2': ['info1', 'info2'],\n",
            " 'text1': None,\n",
            " 'text2': 'hello',\n",
            " 'value1': None,\n",
            " 'value2': None}\n"
          ]
        }
      ]
    },
    {
      "cell_type": "code",
      "source": [
        "import json, requests\n",
        "\n",
        "url = \"https://jsonplaceholder.typicode.com/todos\"\n",
        "\n",
        "response = requests.get(url)\n",
        "data = json.loads(response.text)\n",
        "# print(response.text)\n",
        "# if data[0][\"completed\"] == False:\n",
        "#   print(\"1\")\n",
        "print(data[0])"
      ],
      "metadata": {
        "colab": {
          "base_uri": "https://localhost:8080/"
        },
        "id": "d-vPvnmpO5zG",
        "outputId": "47bb3b26-2dac-4c06-fa04-dba2674d9c36"
      },
      "execution_count": null,
      "outputs": [
        {
          "output_type": "stream",
          "name": "stdout",
          "text": [
            "1\n",
            "{'userId': 1, 'id': 1, 'title': 'delectus aut autem', 'completed': False}\n"
          ]
        }
      ]
    },
    {
      "cell_type": "code",
      "source": [
        "lista = [\"hola\" , \"como\", \"estan\"]\n",
        "lista2 = [\"hola\" , \"como\", \"estan\"]\n",
        "entrada = input().split(\" \")\n",
        "print(type(entrada))\n",
        "for x in entrada:\n",
        "  print(x)"
      ],
      "metadata": {
        "colab": {
          "base_uri": "https://localhost:8080/"
        },
        "id": "G0UclY6nBJVH",
        "outputId": "fe612a18-0797-4133-cd98-65d3a8836333"
      },
      "execution_count": 13,
      "outputs": [
        {
          "output_type": "stream",
          "name": "stdout",
          "text": [
            "hola casa oso\n",
            "<class 'list'>\n",
            "hola\n",
            "casa\n",
            "oso\n"
          ]
        }
      ]
    },
    {
      "cell_type": "code",
      "source": [
        "import json\n",
        "from pprint import pprint\n",
        "strjson = '''{\n",
        "\"boolean1\": null,\"diccionario\": {\"papa\": 2000, \"arroz\": 5000},\n",
        "\"intValue\": 0, \"myList\": [],\n",
        "\"myList2\":[\"info1\", \"info2\"],\n",
        "\"littleboolean\": false, \"myEmptyList\": null,\n",
        "\"text1\": null, \"text2\": \"hello\", \"value1\": null,\n",
        "\"value2\": null}'''\n",
        "data = json.loads(strjson)\n",
        "\n",
        "lista = []\n",
        "for i,j in data.items():\n",
        "  print(i,j)\n",
        "  lista.append(i)\n",
        "\n",
        "print(lista)"
      ],
      "metadata": {
        "colab": {
          "base_uri": "https://localhost:8080/"
        },
        "id": "YbbHbp9oDbTr",
        "outputId": "de8e5662-17f7-47f3-94b6-84d9060498df"
      },
      "execution_count": 17,
      "outputs": [
        {
          "output_type": "stream",
          "name": "stdout",
          "text": [
            "boolean1 None\n",
            "diccionario {'papa': 2000, 'arroz': 5000}\n",
            "intValue 0\n",
            "myList []\n",
            "myList2 ['info1', 'info2']\n",
            "littleboolean False\n",
            "myEmptyList None\n",
            "text1 None\n",
            "text2 hello\n",
            "value1 None\n",
            "value2 None\n",
            "['boolean1', 'diccionario', 'intValue', 'myList', 'myList2', 'littleboolean', 'myEmptyList', 'text1', 'text2', 'value1', 'value2']\n"
          ]
        }
      ]
    },
    {
      "cell_type": "code",
      "source": [
        "import json, requests\n",
        "from pprint import pprint\n",
        "url = \"https://swapi.dev/api/people\"\n",
        "\n",
        "response = requests.get(url)\n",
        "data = json.loads(response.text)\n",
        "# pprint(len(data[\"results\"]))\n",
        "personas = data[\"results\"]\n",
        "for persona in personas: \n",
        "\n",
        "  # if persona[\"eye_color\"] == \"blue\":\n",
        "  print(persona[\"name\"])\n",
        "  for pelicula in persona[\"films\"]:\n",
        "    # print(pelicula)\n",
        "    movie = requests.get(pelicula)\n",
        "    movie = json.loads(movie.text)\n",
        "    pprint(movie[\"title\"])\n",
        "\n"
      ],
      "metadata": {
        "colab": {
          "base_uri": "https://localhost:8080/"
        },
        "id": "XV8FO0BbHVwz",
        "outputId": "43509251-407a-46e5-d786-986f24ccd6a1"
      },
      "execution_count": 45,
      "outputs": [
        {
          "output_type": "stream",
          "name": "stdout",
          "text": [
            "Luke Skywalker\n",
            "'A New Hope'\n",
            "'The Empire Strikes Back'\n",
            "'Return of the Jedi'\n",
            "'Revenge of the Sith'\n",
            "C-3PO\n",
            "'A New Hope'\n",
            "'The Empire Strikes Back'\n",
            "'Return of the Jedi'\n",
            "'The Phantom Menace'\n",
            "'Attack of the Clones'\n",
            "'Revenge of the Sith'\n",
            "R2-D2\n",
            "'A New Hope'\n",
            "'The Empire Strikes Back'\n",
            "'Return of the Jedi'\n",
            "'The Phantom Menace'\n",
            "'Attack of the Clones'\n",
            "'Revenge of the Sith'\n",
            "Darth Vader\n",
            "'A New Hope'\n",
            "'The Empire Strikes Back'\n",
            "'Return of the Jedi'\n",
            "'Revenge of the Sith'\n",
            "Leia Organa\n",
            "'A New Hope'\n",
            "'The Empire Strikes Back'\n",
            "'Return of the Jedi'\n",
            "'Revenge of the Sith'\n",
            "Owen Lars\n",
            "'A New Hope'\n",
            "'Attack of the Clones'\n",
            "'Revenge of the Sith'\n",
            "Beru Whitesun lars\n",
            "'A New Hope'\n",
            "'Attack of the Clones'\n",
            "'Revenge of the Sith'\n",
            "R5-D4\n",
            "'A New Hope'\n",
            "Biggs Darklighter\n",
            "'A New Hope'\n",
            "Obi-Wan Kenobi\n",
            "'A New Hope'\n",
            "'The Empire Strikes Back'\n",
            "'Return of the Jedi'\n",
            "'The Phantom Menace'\n",
            "'Attack of the Clones'\n",
            "'Revenge of the Sith'\n"
          ]
        }
      ]
    },
    {
      "cell_type": "code",
      "source": [
        "with open(\"/content/files/SalesJan2009.csv\", \"r\") as f:\n",
        "  ventas = f.read()\n",
        "  print(ventas.count(\"Australia\"))"
      ],
      "metadata": {
        "colab": {
          "base_uri": "https://localhost:8080/"
        },
        "id": "H5QSymuZUSxD",
        "outputId": "3b0fb91f-778c-4f93-de17-3620cc0bc9c4"
      },
      "execution_count": 55,
      "outputs": [
        {
          "output_type": "stream",
          "name": "stdout",
          "text": [
            "45\n"
          ]
        }
      ]
    },
    {
      "cell_type": "code",
      "source": [
        "with open(\"/content/files/SalesJan2009.csv\", \"r\") as f:\n",
        "  cabeceras = f.readline().split(\",\")\n",
        "  valores = f.readline().split(\",\")\n",
        "  datos = dict(zip(cabeceras, valores))\n",
        "  pprint(datos)\n",
        "  # for  venta in datos:\n",
        "  #   print(datos[\"Country\"])\n"
      ],
      "metadata": {
        "colab": {
          "base_uri": "https://localhost:8080/"
        },
        "id": "tbV3cGf-R_qz",
        "outputId": "2a2185ac-b0e4-4a1e-816c-12a9b5da259d"
      },
      "execution_count": 60,
      "outputs": [
        {
          "output_type": "stream",
          "name": "stdout",
          "text": [
            "{'Account_Created': '1/2/2009 6:00',\n",
            " 'City': 'Basildon',\n",
            " 'Country': 'United Kingdom',\n",
            " 'Last_Login': '1/2/2009 6:08',\n",
            " 'Latitude': '51.5',\n",
            " 'Longitude\\n': '-1.1166667\\n',\n",
            " 'Name': 'carolina',\n",
            " 'Payment_Type': 'Mastercard',\n",
            " 'Price': '1200',\n",
            " 'Product': 'Product1',\n",
            " 'State': 'England',\n",
            " 'Transaction_date': '1/2/2009 6:17'}\n"
          ]
        }
      ]
    },
    {
      "cell_type": "code",
      "source": [
        "with open(\"/content/files/SalesJan2009.csv\", \"r\") as f:\n",
        "  cabeceras = f.readline().split(\",\")\n",
        "  ventas = []\n",
        "  for line in f:\n",
        "    valores = line.split(\",\")\n",
        "    datos = dict(zip(cabeceras, valores))\n",
        "    ventas.append(datos)\n",
        "pprint(ventas[0:10])"
      ],
      "metadata": {
        "id": "hKEJUrDnWR-2"
      },
      "execution_count": null,
      "outputs": []
    },
    {
      "cell_type": "code",
      "source": [
        "with open(\"/content/files/SalesJan2009.csv\", \"r\") as f:\n",
        "  cabeceras = f.readline().split(\",\")\n",
        "  ventas = []\n",
        "  for line in f:\n",
        "    valores = line.split(\",\")\n",
        "    datos = dict(zip(cabeceras, valores))\n",
        "    ventas.append(datos)\n",
        "\n",
        "  campo = input(\"digite el campo para filtrar: \")\n",
        "  valor = input(\"digite el valor para contar: \")\n",
        "  total = 0\n",
        "  for venta in ventas:\n",
        "    if venta.get(campo) == valor:\n",
        "      total+=1\n",
        "  print(\"la busqueda \", campo,\"=\",valor, \"retorna\", total, \"registros\")"
      ],
      "metadata": {
        "colab": {
          "base_uri": "https://localhost:8080/"
        },
        "id": "u8mB5bj2XMLj",
        "outputId": "e7c87bcf-c80b-428d-ceed-c59f6aba43bb"
      },
      "execution_count": 68,
      "outputs": [
        {
          "output_type": "stream",
          "name": "stdout",
          "text": [
            "digite el campo para filtrar: Payment_Type\n",
            "digite el valor para contar: Visa\n",
            "la busqueda  Payment_Type = Visa retorna 521 registros\n"
          ]
        }
      ]
    },
    {
      "cell_type": "code",
      "source": [
        "with open(\"/content/files/SalesJan2009.csv\", \"r\") as f:\n",
        "  cabeceras = f.readline().split(\",\")\n",
        "  ventas = []\n",
        "  for line in f:\n",
        "    valores = line.split(\",\")\n",
        "    datos = dict(zip(cabeceras, valores))\n",
        "    ventas.append(datos)\n",
        "\n",
        "  campo = input(\"digite el campo para filtrar: \")\n",
        "  valor = input(\"digite el valor para contar: \")\n",
        "  total = 0\n",
        "  for venta in ventas:\n",
        "    if venta.get(campo) == valor:\n",
        "      total+=float(venta.get(\"Price\"))\n",
        "  print(\"la busqueda \", campo,\"=\",valor, \"retorna\", total, \" en ventas\")"
      ],
      "metadata": {
        "colab": {
          "base_uri": "https://localhost:8080/"
        },
        "id": "mQvKygOuZMJ-",
        "outputId": "efa38748-6db9-422e-e712-4785d3aee0d7"
      },
      "execution_count": 73,
      "outputs": [
        {
          "output_type": "stream",
          "name": "stdout",
          "text": [
            "digite el campo para filtrar: Payment_Type\n",
            "digite el valor para contar: Visa\n",
            "la busqueda  Payment_Type = Visa retorna 836350.0  en ventas\n"
          ]
        }
      ]
    }
  ]
}