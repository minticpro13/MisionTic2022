{
  "nbformat": 4,
  "nbformat_minor": 0,
  "metadata": {
    "colab": {
      "name": "Ciclo for.ipynb",
      "provenance": [],
      "authorship_tag": "ABX9TyNAAnY5KL/o+pfaL0N4s7gn",
      "include_colab_link": true
    },
    "kernelspec": {
      "name": "python3",
      "display_name": "Python 3"
    },
    "language_info": {
      "name": "python"
    }
  },
  "cells": [
    {
      "cell_type": "markdown",
      "metadata": {
        "id": "view-in-github",
        "colab_type": "text"
      },
      "source": [
        "<a href=\"https://colab.research.google.com/github/minticpro13/MisionTic2022/blob/main/Ciclo_for.ipynb\" target=\"_parent\"><img src=\"https://colab.research.google.com/assets/colab-badge.svg\" alt=\"Open In Colab\"/></a>"
      ]
    },
    {
      "cell_type": "code",
      "execution_count": 4,
      "metadata": {
        "colab": {
          "base_uri": "https://localhost:8080/"
        },
        "id": "nZsjFzSA86gq",
        "outputId": "819d0e5b-2549-4856-a399-5a7623f549d4"
      },
      "outputs": [
        {
          "output_type": "stream",
          "name": "stdout",
          "text": [
            "sumar hasta: 5\n",
            "7\n"
          ]
        }
      ],
      "source": [
        "n = int(input(\"sumar hasta: \"))\n",
        "suma = 0\n",
        "for i in range(0,n+1,1): #[0,1,2,3,4,5]\n",
        "  suma += i\n",
        "print(suma)\n"
      ]
    },
    {
      "cell_type": "code",
      "source": [
        "frutas = [\"maracuya\",\"guayaba\", \"tomate de arbol\"]\n",
        "\n",
        "for fruta in frutas: \n",
        "  print(fruta)"
      ],
      "metadata": {
        "colab": {
          "base_uri": "https://localhost:8080/"
        },
        "id": "gXeGs1lZDgS6",
        "outputId": "ed554452-5d2b-43ae-febb-66e1210556d2"
      },
      "execution_count": 5,
      "outputs": [
        {
          "output_type": "stream",
          "name": "stdout",
          "text": [
            "maracuya\n",
            "guayaba\n",
            "tomate de arbol\n"
          ]
        }
      ]
    },
    {
      "cell_type": "code",
      "source": [
        "frutas = [\"Pera\", \"Maracuyá \", \"Guayaba\", \"Lulo\", \"Granadilla\"]\n",
        "\n",
        "for f in frutas:\n",
        "  print(f)\n",
        "  if f == \"Guayaba\": \n",
        "    break\n",
        "  # if \"ya\" in f:\n",
        "  #   break\n"
      ],
      "metadata": {
        "colab": {
          "base_uri": "https://localhost:8080/"
        },
        "id": "eEWt7mimEaKv",
        "outputId": "080a0d80-c4fb-496c-d7f5-5a24d8d421e7"
      },
      "execution_count": 14,
      "outputs": [
        {
          "output_type": "stream",
          "name": "stdout",
          "text": [
            "Pera\n",
            "Maracuyá \n",
            "Guayaba\n"
          ]
        }
      ]
    },
    {
      "cell_type": "code",
      "source": [
        "range(5)  #(0,5,1)\n",
        "\n",
        "for n in range(5,-2,-2):\n",
        "  print(n)"
      ],
      "metadata": {
        "colab": {
          "base_uri": "https://localhost:8080/"
        },
        "id": "MJi49q3wFMcp",
        "outputId": "7a22db8b-d911-4588-ab3a-7f51da622600"
      },
      "execution_count": 13,
      "outputs": [
        {
          "output_type": "stream",
          "name": "stdout",
          "text": [
            "5\n",
            "3\n",
            "1\n",
            "-1\n"
          ]
        }
      ]
    },
    {
      "cell_type": "code",
      "source": [
        "for n in range(-2): #range(0,-2,1)\n",
        "  print(n)\n",
        "lista = []"
      ],
      "metadata": {
        "id": "ROkyDLraHbJy"
      },
      "execution_count": 15,
      "outputs": []
    }
  ]
}